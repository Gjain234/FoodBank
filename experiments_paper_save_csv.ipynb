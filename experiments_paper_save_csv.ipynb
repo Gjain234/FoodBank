{
 "cells": [
  {
   "cell_type": "markdown",
   "metadata": {},
   "source": [
    "# Food Bank Problem"
   ]
  },
  {
   "cell_type": "code",
   "execution_count": 1,
   "metadata": {},
   "outputs": [
    {
     "data": {
      "text/plain": [
       "<module 'food_bank_functions' from '/Users/GauriJain/Desktop/projects/Research/FoodBank/food_bank_functions.py'>"
      ]
     },
     "execution_count": 1,
     "metadata": {},
     "output_type": "execute_result"
    }
   ],
   "source": [
    "import sys\n",
    "import importlib\n",
    "import numpy as np\n",
    "import nbformat\n",
    "import plotly.express\n",
    "import plotly.express as px\n",
    "import pandas as pd\n",
    "import scipy.optimize as optimization\n",
    "import food_bank_functions\n",
    "import food_bank_bayesian\n",
    "from food_bank_functions import *\n",
    "from food_bank_bayesian import *\n",
    "importlib.reload(food_bank_functions)"
   ]
  },
  {
   "cell_type": "code",
   "execution_count": 2,
   "metadata": {},
   "outputs": [],
   "source": [
    "opt_policy = np.loadtxt('opt_policy.csv', delimiter=\",\")"
   ]
  },
  {
   "cell_type": "markdown",
   "metadata": {},
   "source": [
    "# Experiments"
   ]
  },
  {
   "cell_type": "markdown",
   "metadata": {},
   "source": [
    "## Varying Number of Towns"
   ]
  },
  {
   "cell_type": "code",
   "execution_count": 3,
   "metadata": {},
   "outputs": [],
   "source": [
    "num_iterations = 100\n",
    "max_n = 1000\n",
    "max_b = 200 \n",
    "grid_size = .01\n",
    "sorted_distribution = np.arange(2) + 1\n",
    "weights = np.zeros(2)+0.5\n",
    "expected_demand = np.dot(sorted_distribution,weights)"
   ]
  },
  {
   "cell_type": "markdown",
   "metadata": {},
   "source": [
    "### L1 Norm between OPT and {Dynamic,Weights, Bayes} Allocations"
   ]
  },
  {
   "cell_type": "code",
   "execution_count": 4,
   "metadata": {},
   "outputs": [
    {
     "ename": "AttributeError",
     "evalue": "'DataFrame' object has no attribute 'csv'",
     "output_type": "error",
     "traceback": [
      "\u001b[0;31m---------------------------------------------------------------------------\u001b[0m",
      "\u001b[0;31mAttributeError\u001b[0m                            Traceback (most recent call last)",
      "\u001b[0;32m<ipython-input-4-ba323c8585c0>\u001b[0m in \u001b[0;36m<module>\u001b[0;34m\u001b[0m\n\u001b[1;32m     18\u001b[0m                 \u001b[0mdata_dict_1\u001b[0m\u001b[0;34m[\u001b[0m\u001b[0;34m'Bayes'\u001b[0m\u001b[0;34m]\u001b[0m\u001b[0;34m.\u001b[0m\u001b[0mappend\u001b[0m\u001b[0;34m(\u001b[0m\u001b[0mnp\u001b[0m\u001b[0;34m.\u001b[0m\u001b[0msum\u001b[0m\u001b[0;34m(\u001b[0m\u001b[0mnp\u001b[0m\u001b[0;34m.\u001b[0m\u001b[0mabsolute\u001b[0m\u001b[0;34m(\u001b[0m\u001b[0mopt\u001b[0m \u001b[0;34m-\u001b[0m \u001b[0mwaterfilling_bayesian\u001b[0m\u001b[0;34m(\u001b[0m\u001b[0mtown_demands\u001b[0m\u001b[0;34m,\u001b[0m \u001b[0mopt_policy\u001b[0m\u001b[0;34m[\u001b[0m\u001b[0;34m(\u001b[0m\u001b[0mmax_n\u001b[0m\u001b[0;34m-\u001b[0m\u001b[0mn\u001b[0m\u001b[0;34m)\u001b[0m\u001b[0;34m:\u001b[0m\u001b[0;34m(\u001b[0m\u001b[0mmax_n\u001b[0m\u001b[0;34m+\u001b[0m\u001b[0;36m1\u001b[0m\u001b[0;34m)\u001b[0m\u001b[0;34m,\u001b[0m\u001b[0;34m:\u001b[0m\u001b[0;34m]\u001b[0m\u001b[0;34m,\u001b[0m \u001b[0mbudget\u001b[0m\u001b[0;34m,\u001b[0m \u001b[0mb_grid\u001b[0m\u001b[0;34m,\u001b[0m \u001b[0mgrid_size\u001b[0m\u001b[0;34m)\u001b[0m\u001b[0;34m)\u001b[0m\u001b[0;34m)\u001b[0m\u001b[0;34m)\u001b[0m\u001b[0;34m\u001b[0m\u001b[0;34m\u001b[0m\u001b[0m\n\u001b[1;32m     19\u001b[0m \u001b[0mdf_uniform\u001b[0m \u001b[0;34m=\u001b[0m \u001b[0mpd\u001b[0m\u001b[0;34m.\u001b[0m\u001b[0mDataFrame\u001b[0m\u001b[0;34m(\u001b[0m\u001b[0mdata_dict_1\u001b[0m\u001b[0;34m)\u001b[0m\u001b[0;34m.\u001b[0m\u001b[0mmelt\u001b[0m\u001b[0;34m(\u001b[0m\u001b[0mid_vars\u001b[0m\u001b[0;34m=\u001b[0m\u001b[0;34m\"NumTowns\"\u001b[0m\u001b[0;34m)\u001b[0m\u001b[0;34m\u001b[0m\u001b[0;34m\u001b[0m\u001b[0m\n\u001b[0;32m---> 20\u001b[0;31m \u001b[0mdf_uniform\u001b[0m\u001b[0;34m.\u001b[0m\u001b[0mcsv\u001b[0m\u001b[0;34m(\u001b[0m\u001b[0;34m'L1.csv'\u001b[0m\u001b[0;34m)\u001b[0m\u001b[0;34m\u001b[0m\u001b[0;34m\u001b[0m\u001b[0m\n\u001b[0m\u001b[1;32m     21\u001b[0m \u001b[0mfig\u001b[0m \u001b[0;34m=\u001b[0m \u001b[0mpx\u001b[0m\u001b[0;34m.\u001b[0m\u001b[0mscatter\u001b[0m\u001b[0;34m(\u001b[0m\u001b[0mdf_uniform\u001b[0m\u001b[0;34m,\u001b[0m \u001b[0mx\u001b[0m\u001b[0;34m=\u001b[0m\u001b[0;34m\"NumTowns\"\u001b[0m\u001b[0;34m,\u001b[0m \u001b[0my\u001b[0m\u001b[0;34m=\u001b[0m\u001b[0;34m\"value\"\u001b[0m\u001b[0;34m,\u001b[0m \u001b[0mcolor\u001b[0m\u001b[0;34m=\u001b[0m\u001b[0;34m'variable'\u001b[0m\u001b[0;34m)\u001b[0m\u001b[0;34m\u001b[0m\u001b[0;34m\u001b[0m\u001b[0m\n\u001b[1;32m     22\u001b[0m \u001b[0mfig\u001b[0m\u001b[0;34m.\u001b[0m\u001b[0mupdate_layout\u001b[0m\u001b[0;34m(\u001b[0m\u001b[0mxaxis_type\u001b[0m\u001b[0;34m=\u001b[0m\u001b[0;34m\"log\"\u001b[0m\u001b[0;34m,\u001b[0m \u001b[0myaxis_type\u001b[0m\u001b[0;34m=\u001b[0m\u001b[0;34m\"log\"\u001b[0m\u001b[0;34m)\u001b[0m\u001b[0;34m\u001b[0m\u001b[0;34m\u001b[0m\u001b[0m\n",
      "\u001b[0;32m/Library/Frameworks/Python.framework/Versions/3.8/lib/python3.8/site-packages/pandas/core/generic.py\u001b[0m in \u001b[0;36m__getattr__\u001b[0;34m(self, name)\u001b[0m\n\u001b[1;32m   5272\u001b[0m             \u001b[0;32mif\u001b[0m \u001b[0mself\u001b[0m\u001b[0;34m.\u001b[0m\u001b[0m_info_axis\u001b[0m\u001b[0;34m.\u001b[0m\u001b[0m_can_hold_identifiers_and_holds_name\u001b[0m\u001b[0;34m(\u001b[0m\u001b[0mname\u001b[0m\u001b[0;34m)\u001b[0m\u001b[0;34m:\u001b[0m\u001b[0;34m\u001b[0m\u001b[0;34m\u001b[0m\u001b[0m\n\u001b[1;32m   5273\u001b[0m                 \u001b[0;32mreturn\u001b[0m \u001b[0mself\u001b[0m\u001b[0;34m[\u001b[0m\u001b[0mname\u001b[0m\u001b[0;34m]\u001b[0m\u001b[0;34m\u001b[0m\u001b[0;34m\u001b[0m\u001b[0m\n\u001b[0;32m-> 5274\u001b[0;31m             \u001b[0;32mreturn\u001b[0m \u001b[0mobject\u001b[0m\u001b[0;34m.\u001b[0m\u001b[0m__getattribute__\u001b[0m\u001b[0;34m(\u001b[0m\u001b[0mself\u001b[0m\u001b[0;34m,\u001b[0m \u001b[0mname\u001b[0m\u001b[0;34m)\u001b[0m\u001b[0;34m\u001b[0m\u001b[0;34m\u001b[0m\u001b[0m\n\u001b[0m\u001b[1;32m   5275\u001b[0m \u001b[0;34m\u001b[0m\u001b[0m\n\u001b[1;32m   5276\u001b[0m     \u001b[0;32mdef\u001b[0m \u001b[0m__setattr__\u001b[0m\u001b[0;34m(\u001b[0m\u001b[0mself\u001b[0m\u001b[0;34m,\u001b[0m \u001b[0mname\u001b[0m\u001b[0;34m:\u001b[0m \u001b[0mstr\u001b[0m\u001b[0;34m,\u001b[0m \u001b[0mvalue\u001b[0m\u001b[0;34m)\u001b[0m \u001b[0;34m->\u001b[0m \u001b[0;32mNone\u001b[0m\u001b[0;34m:\u001b[0m\u001b[0;34m\u001b[0m\u001b[0;34m\u001b[0m\u001b[0m\n",
      "\u001b[0;31mAttributeError\u001b[0m: 'DataFrame' object has no attribute 'csv'"
     ]
    }
   ],
   "source": [
    "data_dict_1 = {'NumTowns':[],'Dynamic':[],'Weights':[], 'Bayes':[]}\n",
    "\n",
    "for n in np.logspace(0,3,100):\n",
    "    n = int(n)\n",
    "    town_expected_demands = np.zeros(n) + expected_demand    \n",
    "    budget = n*expected_demand\n",
    "    b_grid = np.arange(0, budget+grid_size, grid_size)\n",
    "    for i in range(num_iterations):\n",
    "        data_dict_1['NumTowns'].append(n)\n",
    "        town_demands = np.random.randint(1, 3, n)\n",
    "        opt = waterfilling_waste(town_demands,budget)\n",
    "        for j in range(3):\n",
    "            if j==0:\n",
    "                data_dict_1['Weights'].append(np.sum(np.absolute(opt - waterfilling_weights_waste(weights, sorted_distribution, town_demands, budget))))\n",
    "            if j==1:\n",
    "                data_dict_1['Dynamic'].append(np.sum(np.absolute(opt - waterfilling_dynamic_waste(town_expected_demands,town_demands,budget))))\n",
    "            if j==2:\n",
    "                data_dict_1['Bayes'].append(np.sum(np.absolute(opt - waterfilling_bayesian(town_demands, opt_policy[(max_n-n):(max_n+1),:], budget, b_grid, grid_size))))\n",
    "df_uniform = pd.DataFrame(data_dict_1).melt(id_vars=\"NumTowns\")\n",
    "df_uniform.to_csv('L1.csv')\n",
    "fig = px.scatter(df_uniform, x=\"NumTowns\", y=\"value\", color='variable')\n",
    "fig.update_layout(xaxis_type=\"log\", yaxis_type=\"log\")\n",
    "fig.update_layout(\n",
    "    title=\"L1 Distance between OPT and {Dynamic,Weights,Bayes} Allocations\",\n",
    "    xaxis_title=\"Number of Towns\",\n",
    "    yaxis_title=\"L1 distance\")\n",
    "fig.show()"
   ]
  },
  {
   "cell_type": "markdown",
   "metadata": {},
   "source": [
    "### L-Inf Norm between OPT and {Dynamic,Weights, Bayes} Allocations"
   ]
  },
  {
   "cell_type": "code",
   "execution_count": null,
   "metadata": {},
   "outputs": [],
   "source": [
    "data_dict_1 = {'NumTowns':[],'Dynamic':[],'Weights':[], 'Bayes':[]}\n",
    "\n",
    "for n in np.logspace(0,3,100):\n",
    "    n = int(n)\n",
    "    avg1 = 0\n",
    "    avg2 = 0\n",
    "    avg3 = 0\n",
    "    town_expected_demands = np.zeros(n) + expected_demand    \n",
    "    budget = n*expected_demand\n",
    "    b_grid = np.arange(0, budget+grid_size, grid_size)\n",
    "    for i in range(num_iterations):\n",
    "        data_dict_1['NumTowns'].append(n)\n",
    "        town_demands = np.random.randint(1, 3, n)\n",
    "        opt = waterfilling_waste(town_demands,budget)\n",
    "        for j in range(3):\n",
    "            if j==0:\n",
    "                data_dict_1['Weights'].append(np.amax(np.absolute(opt - waterfilling_weights_waste(weights, sorted_distribution, town_demands, budget))))\n",
    "            if j==1:\n",
    "                data_dict_1['Dynamic'].append(np.amax(np.absolute(opt - waterfilling_dynamic_waste(town_expected_demands,town_demands,budget))))\n",
    "            if j==2:\n",
    "                data_dict_1['Bayes'].append(np.amax(np.absolute(opt - waterfilling_bayesian(town_demands, opt_policy[(max_n-n):(max_n+1),:], budget, b_grid, grid_size))))\n",
    "df_uniform = pd.DataFrame(data_dict_1).melt(id_vars=\"NumTowns\")\n",
    "df_uniform.to_csv('L-Inf.csv')\n",
    "fig = px.scatter(df_uniform, x=\"NumTowns\", y=\"value\", color='variable')\n",
    "fig.update_layout(xaxis_type=\"log\", yaxis_type=\"log\")\n",
    "fig.update_layout(\n",
    "    title=\"L-Inf Distance between OPT and {Dynamic,Weights, Bayes} Allocations\",\n",
    "    xaxis_title=\"Number of Towns\",\n",
    "    yaxis_title=\"L-Inf distance\")\n",
    "fig.show()"
   ]
  },
  {
   "cell_type": "markdown",
   "metadata": {},
   "source": [
    "### Nash Welfare Regret {Weights, Dynamic, Bayes} wrt OPT"
   ]
  },
  {
   "cell_type": "code",
   "execution_count": null,
   "metadata": {},
   "outputs": [],
   "source": [
    "data_dict_1 = {'NumTowns':[],'Dynamic':[],'Weights':[], 'Bayes':[]}\n",
    "\n",
    "for n in np.logspace(0,3,100):\n",
    "    n = int(n)\n",
    "    town_expected_demands = np.zeros(n) + expected_demand    \n",
    "    budget = n*expected_demand\n",
    "    b_grid = np.arange(0, budget+grid_size, grid_size)\n",
    "    for i in range(num_iterations):\n",
    "        data_dict_1['NumTowns'].append(n)\n",
    "        town_demands = np.random.randint(1, 3, n)\n",
    "        opt = objective_nash(town_demands, waterfilling_waste(town_demands,budget))\n",
    "        for j in range(3):\n",
    "            if j==0:\n",
    "                data_dict_1['Weights'].append(opt - objective_nash(town_demands, waterfilling_weights_waste(weights, sorted_distribution, town_demands, budget)))\n",
    "            if j==1:\n",
    "                data_dict_1['Dynamic'].append(opt - objective_nash(town_demands, waterfilling_dynamic_waste(town_expected_demands,town_demands,budget)))\n",
    "            if j==2:\n",
    "                data_dict_1['Bayes'].append(opt - objective_nash(town_demands, waterfilling_bayesian(town_demands, opt_policy[(max_n-n):(max_n+1),:], budget, b_grid, grid_size)))\n",
    "df_uniform = pd.DataFrame(data_dict_1).melt(id_vars=\"NumTowns\")\n",
    "df_uniform.to_csv('Nash.csv')\n",
    "fig = px.scatter(df_uniform, x=\"NumTowns\", y=\"value\", color='variable')\n",
    "fig.update_layout(xaxis_type=\"log\", yaxis_type=\"log\")\n",
    "fig.update_layout(\n",
    "    title=\"Nash Welfare Regret {Weights, Dynamic, Bayes} wrt OPT\",\n",
    "    xaxis_title=\"Number of Towns\",\n",
    "    yaxis_title=\"Regret\")\n",
    "fig.show()"
   ]
  },
  {
   "cell_type": "markdown",
   "metadata": {},
   "source": [
    "### Log Nash Welfare Regret {Weights, Dynamic, Bayes} wrt OPT"
   ]
  },
  {
   "cell_type": "code",
   "execution_count": null,
   "metadata": {},
   "outputs": [],
   "source": [
    "data_dict_1 = {'NumTowns':[],'Dynamic':[],'Weights':[], 'Bayes':[]}\n",
    "\n",
    "for n in np.logspace(0,3,100):\n",
    "    n = int(n)\n",
    "    avg1 = 0\n",
    "    avg2 = 0\n",
    "    avg3 = 0\n",
    "    town_expected_demands = np.zeros(n) + expected_demand    \n",
    "    budget = n*expected_demand\n",
    "    b_grid = np.arange(0, budget+grid_size, grid_size)\n",
    "    for i in range(num_iterations):\n",
    "        data_dict_1['NumTowns'].append(n)\n",
    "        town_demands = np.random.randint(1, 3, n)\n",
    "        opt = objective_nash_log(town_demands, waterfilling_waste(town_demands,budget))\n",
    "        for j in range(3):\n",
    "            if j==0:\n",
    "                data_dict_1['Weights'].append(opt - objective_nash_log(town_demands, waterfilling_weights_waste(weights, sorted_distribution, town_demands, budget)))\n",
    "            if j==1:\n",
    "                data_dict_1['Dynamic'].append(opt - objective_nash_log(town_demands, waterfilling_dynamic_waste(town_expected_demands,town_demands,budget)))\n",
    "            if j==2:\n",
    "                data_dict_1['Bayes'].append(opt - objective_nash_log(town_demands, waterfilling_bayesian(town_demands, opt_policy[(max_n-n):(max_n+1),:], budget, b_grid, grid_size)))\n",
    "df_uniform = pd.DataFrame(data_dict_1).melt(id_vars=\"NumTowns\")\n",
    "df_uniform.to_csv('LogNash.csv')\n",
    "fig = px.scatter(df_uniform, x=\"NumTowns\", y=\"value\", color='variable')\n",
    "fig.update_layout(xaxis_type=\"log\", yaxis_type=\"log\")\n",
    "fig.update_layout(\n",
    "    title=\"Log Nash Welfare Regret {Weights, Dynamic, Bayes} wrt OPT\",\n",
    "    xaxis_title=\"Number of Towns\",\n",
    "    yaxis_title=\"Regret\")\n",
    "fig.show()"
   ]
  },
  {
   "cell_type": "markdown",
   "metadata": {},
   "source": [
    "### Log Nash Welfare NORMALIZED Regret {Weights, Dynamic, Bayes} wrt OPT"
   ]
  },
  {
   "cell_type": "code",
   "execution_count": null,
   "metadata": {},
   "outputs": [],
   "source": [
    "data_dict_1 = {'NumTowns':[],'Dynamic':[],'Weights':[], 'Bayes':[]}\n",
    "\n",
    "for n in np.logspace(0,3,100):\n",
    "    n = int(n)\n",
    "    town_expected_demands = np.zeros(n) + expected_demand    \n",
    "    budget = n*expected_demand\n",
    "    b_grid = np.arange(0, budget+grid_size, grid_size)\n",
    "    for i in range(num_iterations):\n",
    "        data_dict_1['NumTowns'].append(n)\n",
    "        town_demands = np.random.randint(1, 3, n)\n",
    "        opt = objective_nash_log_normalized(town_demands, waterfilling_waste(town_demands,budget))\n",
    "        for j in range(3):\n",
    "            if j==0:\n",
    "                data_dict_1['Weights'].append(opt - objective_nash_log_normalized(town_demands, waterfilling_weights_waste(weights, sorted_distribution, town_demands, budget)))\n",
    "            if j==1:\n",
    "                data_dict_1['Dynamic'].append(opt - objective_nash_log_normalized(town_demands, waterfilling_dynamic_waste(town_expected_demands,town_demands,budget)))\n",
    "            if j==2:\n",
    "                data_dict_1['Bayes'].append(opt - objective_nash_log_normalized(town_demands, waterfilling_bayesian(town_demands, opt_policy[(max_n-n):(max_n+1),:], budget, b_grid, grid_size)))\n",
    "df_uniform = pd.DataFrame(data_dict_1).melt(id_vars=\"NumTowns\")\n",
    "df_uniform.to_csv('LogNashNormal.csv')\n",
    "fig = px.scatter(df_uniform, x=\"NumTowns\", y=\"value\", color='variable')\n",
    "fig.update_layout(xaxis_type=\"log\", yaxis_type=\"log\")\n",
    "fig.update_layout(\n",
    "    title=\"Normalized Log Nash Welfare Regret {Weights, Dynamic, Bayes} wrt OPT\",\n",
    "    xaxis_title=\"Number of Towns\",\n",
    "    yaxis_title=\"Regret\")\n",
    "fig.show()"
   ]
  },
  {
   "cell_type": "markdown",
   "metadata": {},
   "source": [
    "## Constant Number of Towns: Town by Town Comparisons"
   ]
  },
  {
   "cell_type": "code",
   "execution_count": null,
   "metadata": {},
   "outputs": [],
   "source": [
    "num_iterations = 1000\n",
    "max_n = 1000\n",
    "max_b = 200 \n",
    "grid_size = .01\n",
    "sorted_distribution = np.arange(2) + 1\n",
    "weights = np.zeros(2)+0.5\n",
    "expected_demand = np.dot(sorted_distribution,weights)\n",
    "n=200"
   ]
  },
  {
   "cell_type": "markdown",
   "metadata": {},
   "source": [
    "### OPT and {Dynamic,Weights} Allocation Comparison"
   ]
  },
  {
   "cell_type": "code",
   "execution_count": null,
   "metadata": {},
   "outputs": [],
   "source": [
    "town = np.arange(n)\n",
    "town_expected_demands = np.zeros(n) + 1.5\n",
    "budget = 1.5*n\n",
    "score_weights = np.zeros((n,num_iterations))\n",
    "score_bayes = np.zeros((n,num_iterations))\n",
    "score_dynamic = np.zeros((n,num_iterations))\n",
    "b_grid = np.arange(0, budget+grid_size, grid_size)\n",
    "for i in range(num_iterations):\n",
    "    town_demands = np.random.randint(1, 3, n)\n",
    "    opt = waterfilling(town_demands,budget)\n",
    "    score_bayes[:,i] = opt - waterfilling_bayesian(town_demands, opt_policy[(max_n-n):(max_n+1),:], budget, b_grid, grid_size)\n",
    "    score_weights[:,i] = opt - waterfilling_weights_waste(weights, sorted_distribution, town_demands,budget)\n",
    "    score_dynamic[:,i] = opt - waterfilling_dynamic_waste(town_expected_demands,town_demands,budget)\n",
    "score_bayes = np.average(np.absolute(score_bayes), axis=1)\n",
    "score_weights = np.average(score_weights, axis=1)\n",
    "score_dynamic = np.average(score_dynamic, axis=1)\n",
    "data_dict = {'Town': town, 'Weights':score_weights, 'Bayes': score_bayes, 'Dynamic': score_dynamic}\n",
    "df_uniform = pd.DataFrame(data_dict).melt(id_vars=\"Town\")\n",
    "fig = px.scatter(df_uniform, x=\"Town\", y=\"value\", color='variable')\n",
    "fig.update_layout(\n",
    "    title=\"Average Town by Town Allocation Difference between OPT and {Dynamic,Weights} Allocations\",\n",
    "    xaxis_title=\"Town\",\n",
    "    yaxis_title=\"L1 distance\")\n",
    "fig.show()"
   ]
  }
 ],
 "metadata": {
  "kernelspec": {
   "display_name": "Python 3",
   "language": "python",
   "name": "python3"
  },
  "language_info": {
   "codemirror_mode": {
    "name": "ipython",
    "version": 3
   },
   "file_extension": ".py",
   "mimetype": "text/x-python",
   "name": "python",
   "nbconvert_exporter": "python",
   "pygments_lexer": "ipython3",
   "version": "3.8.2"
  }
 },
 "nbformat": 4,
 "nbformat_minor": 2
}
