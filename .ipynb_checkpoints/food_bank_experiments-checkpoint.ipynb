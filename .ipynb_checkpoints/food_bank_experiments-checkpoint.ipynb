{
 "cells": [
  {
   "cell_type": "markdown",
   "metadata": {},
   "source": [
    "## Food Bank Problem"
   ]
  },
  {
   "cell_type": "markdown",
   "metadata": {},
   "source": [
    "### Algorithm 1 - OPT Offline"
   ]
  },
  {
   "cell_type": "code",
   "execution_count": 4,
   "metadata": {},
   "outputs": [],
   "source": [
    "import sys\n",
    "import numpy as np"
   ]
  },
  {
   "cell_type": "code",
   "execution_count": 5,
   "metadata": {},
   "outputs": [],
   "source": [
    "num_iterations = 0\n",
    "num_towns = 5\n",
    "town_demands = np.zeros(num_towns)\n",
    "town_expected_demands = np.zeros(num_towns)\n",
    "for i in range(num_towns):\n",
    "    town_max = np.random.uniform(0,10)\n",
    "    town_demands[i] = np.random.uniform(0, town_max)\n",
    "    town_expected_demands[i] = town_max/2\n",
    "budget = 5"
   ]
  },
  {
   "cell_type": "code",
   "execution_count": 6,
   "metadata": {},
   "outputs": [],
   "source": [
    "## Water-filling Algorithm for sorted demands\n",
    "def waterfilling_sorted(d,b):\n",
    "    n = np.size(d)\n",
    "    allocations = np.zeros(n)\n",
    "    bundle_remaining = b\n",
    "    for i in range(n):\n",
    "        equal_allocation = bundle_remaining/(n-i)\n",
    "        if d[i]<equal_allocation:\n",
    "            allocations[i] = bundle_remaining if i==n-1 else d[i]\n",
    "        else:\n",
    "            allocations[i] = equal_allocation\n",
    "        bundle_remaining -= allocations[i]\n",
    "    return allocations"
   ]
  },
  {
   "cell_type": "code",
   "execution_count": 9,
   "metadata": {},
   "outputs": [],
   "source": [
    "## Water-filling Algorithm for general demands\n",
    "def waterfilling(d,b):\n",
    "    n = np.size(d)\n",
    "    sorted_indices = np.argsort(d)\n",
    "    sorted_demands = np.sort(d)\n",
    "    sorted_allocations = waterfilling_sorted(sorted_demands, b)\n",
    "    allocations = np.zeros(n)\n",
    "    for i in range(n):\n",
    "        allocations[sorted_indices[i]] = sorted_allocations[i]\n",
    "    return allocations"
   ]
  },
  {
   "cell_type": "code",
   "execution_count": 15,
   "metadata": {},
   "outputs": [],
   "source": [
    "## Tests\n",
    "assert list(waterfilling(np.zeros(0), 5)) == []\n",
    "assert list(waterfilling(np.array([1,2,3,4]), 10)) == [1,2,3,4]\n",
    "assert list(waterfilling(np.array([3,4,1,2]), 10)) == [3,4,1,2]\n",
    "assert list(waterfilling(np.array([1,2,3,4]), 8)) == [1,2,2.5,2.5]\n",
    "assert list(waterfilling(np.array([3,1,4,2]), 8)) == [2.5,1,2.5,2]\n",
    "assert list(waterfilling(np.array([3,6,5,6]), 8)) == [2,2,2,2]"
   ]
  },
  {
   "cell_type": "code",
   "execution_count": 22,
   "metadata": {},
   "outputs": [],
   "source": [
    "## Online Water-filling taking minimum of realized demand and predetermeined allocation\n",
    "def waterfilling_online_1(demands_predicted, demands_realized, b):\n",
    "    n = np.size(demands_predicted)\n",
    "    prior_allocations_assignment = waterfilling(demands_predicted,b)\n",
    "    allocations = np.zeros(n)\n",
    "    bundle_remaining = b\n",
    "    for i in range(n):\n",
    "        allocations[i] = min(prior_allocations_assignment[i], demands_realized[i]) if i!=n-1 else bundle_remaining\n",
    "        bundle_remaining -= allocations[i]\n",
    "    return allocations"
   ]
  },
  {
   "cell_type": "code",
   "execution_count": 24,
   "metadata": {},
   "outputs": [],
   "source": [
    "## Tests\n",
    "assert list(waterfilling_online_1(np.zeros(0), np.zeros(0), 5)) == []\n",
    "assert list(waterfilling_online_1(np.array([1,2,3,4]), np.array([5,5,5,5]), 10)) == [1,2,3,4]\n",
    "assert list(waterfilling_online_1(np.array([3,1,4,2]), np.array([2,3,2.5,1]), 8)) == [2,1,2.5,2.5]\n"
   ]
  },
  {
   "cell_type": "code",
   "execution_count": 16,
   "metadata": {},
   "outputs": [],
   "source": [
    "## Online Water-filling algorithm where each agent solves waterfilling with realized current demand and expected following demands\n",
    "def waterfilling_online_2(demands_predicted, demands_realized, b):\n",
    "    n = np.size(demands_predicted)\n",
    "    allocations = np.zeros(n)\n",
    "    bundle_remaining = b\n",
    "    for i in range(n):\n",
    "        allocations[i] = waterfilling(np.append(demands_realized[i],demands_predicted[i+1:]), bundle_remaining)[0]\n",
    "        bundle_remaining -= allocations[i]\n",
    "    return allocations"
   ]
  },
  {
   "cell_type": "code",
   "execution_count": null,
   "metadata": {},
   "outputs": [],
   "source": []
  },
  {
   "cell_type": "code",
   "execution_count": null,
   "metadata": {},
   "outputs": [],
   "source": [
    "## Online Water-filling algorithm where each agent is assigned infinite demand while finding optimal solution and allocation is readjusted\n",
    "def waterfilling_online_3(demands_predicted, demands_realized, b):\n",
    "    n = np.size(demands_predicted)\n",
    "    allocations = np.zeros(n)\n",
    "    bundle_remaining = b\n",
    "    for i in range(n):\n",
    "        future_allocations = waterfilling(np.append(np.Inf,demands_predicted[i+1:]), bundle_remaining)\n",
    "        if future_allocations[0]>demands_realized[i]:\n",
    "            allocations[i] = demands_realized[i]\n",
    "        else:\n",
    "            allocations[i] = future_allocations[0]\n",
    "        bundle_remaining -= allocations[i]\n",
    "    return allocations"
   ]
  },
  {
   "cell_type": "code",
   "execution_count": null,
   "metadata": {},
   "outputs": [],
   "source": [
    "## Calculate log of Nash welfare for objective function\n",
    "def objective(demands, allocation):\n",
    "    welfare_sum = 0\n",
    "    for i in range(np.size(demands)):\n",
    "        welfare_sum += np.log(np.min(1,allocation[i]/demands[i]))\n",
    "    return welfare_sum"
   ]
  },
  {
   "cell_type": "code",
   "execution_count": 19,
   "metadata": {},
   "outputs": [
    {
     "name": "stdout",
     "output_type": "stream",
     "text": [
      "[0.05142401 0.43414925 0.65527242 0.92986868 2.92928564]\n"
     ]
    }
   ],
   "source": [
    "print(waterfilling_sorted(np.sort(town_demands), budget))"
   ]
  },
  {
   "cell_type": "markdown",
   "metadata": {},
   "source": [
    "### Algorithm 2"
   ]
  },
  {
   "cell_type": "markdown",
   "metadata": {},
   "source": [
    "### Algorithm 3?"
   ]
  }
 ],
 "metadata": {
  "kernelspec": {
   "display_name": "Python 3",
   "language": "python",
   "name": "python3"
  },
  "language_info": {
   "codemirror_mode": {
    "name": "ipython",
    "version": 3
   },
   "file_extension": ".py",
   "mimetype": "text/x-python",
   "name": "python",
   "nbconvert_exporter": "python",
   "pygments_lexer": "ipython3",
   "version": "3.5.2"
  }
 },
 "nbformat": 4,
 "nbformat_minor": 2
}
