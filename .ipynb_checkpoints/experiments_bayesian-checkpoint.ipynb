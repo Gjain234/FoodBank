{
 "cells": [
  {
   "cell_type": "markdown",
   "metadata": {},
   "source": [
    "# Food Bank Problem"
   ]
  },
  {
   "cell_type": "code",
   "execution_count": 154,
   "metadata": {},
   "outputs": [
    {
     "ename": "NameError",
     "evalue": "name 'food_bank_bayesian' is not defined",
     "output_type": "error",
     "traceback": [
      "\u001b[1;31m---------------------------------------------------------------------------\u001b[0m",
      "\u001b[1;31mNameError\u001b[0m                                 Traceback (most recent call last)",
      "\u001b[1;32m<ipython-input-154-b35365056b37>\u001b[0m in \u001b[0;36m<module>\u001b[1;34m\u001b[0m\n\u001b[0;32m     11\u001b[0m \u001b[1;32mfrom\u001b[0m \u001b[0mfood_bank_bayesian\u001b[0m \u001b[1;32mimport\u001b[0m \u001b[1;33m*\u001b[0m\u001b[1;33m\u001b[0m\u001b[1;33m\u001b[0m\u001b[0m\n\u001b[0;32m     12\u001b[0m \u001b[0mimportlib\u001b[0m\u001b[1;33m.\u001b[0m\u001b[0mreload\u001b[0m\u001b[1;33m(\u001b[0m\u001b[0mfood_bank_functions\u001b[0m\u001b[1;33m)\u001b[0m\u001b[1;33m\u001b[0m\u001b[1;33m\u001b[0m\u001b[0m\n\u001b[1;32m---> 13\u001b[1;33m \u001b[0mimportlib\u001b[0m\u001b[1;33m.\u001b[0m\u001b[0mreload\u001b[0m\u001b[1;33m(\u001b[0m\u001b[0mfood_bank_bayesian\u001b[0m\u001b[1;33m)\u001b[0m\u001b[1;33m\u001b[0m\u001b[1;33m\u001b[0m\u001b[0m\n\u001b[0m",
      "\u001b[1;31mNameError\u001b[0m: name 'food_bank_bayesian' is not defined"
     ]
    }
   ],
   "source": [
    "import sys\n",
    "import importlib\n",
    "import numpy as np\n",
    "import nbformat\n",
    "import plotly.express\n",
    "import plotly.express as px\n",
    "import pandas as pd\n",
    "import scipy.optimize as optimization\n",
    "import food_bank_functions\n",
    "from food_bank_functions import *\n",
    "from food_bank_bayesian import *\n",
    "importlib.reload(food_bank_functions)\n",
    "importlib.reload(food_bank_bayesian)"
   ]
  },
  {
   "cell_type": "code",
   "execution_count": 151,
   "metadata": {},
   "outputs": [],
   "source": [
    "num_iterations = 5\n",
    "num_towns_range = 100\n",
    "max_n = 100\n",
    "fix_num_towns = 10\n",
    "max_b = 200\n",
    "grid_size = .01"
   ]
  },
  {
   "cell_type": "code",
   "execution_count": 152,
   "metadata": {},
   "outputs": [
    {
     "ename": "NameError",
     "evalue": "name 'waterfilling_bayesian' is not defined",
     "output_type": "error",
     "traceback": [
      "\u001b[1;31m---------------------------------------------------------------------------\u001b[0m",
      "\u001b[1;31mNameError\u001b[0m                                 Traceback (most recent call last)",
      "\u001b[1;32m<ipython-input-152-245cd2aa4c93>\u001b[0m in \u001b[0;36m<module>\u001b[1;34m\u001b[0m\n\u001b[0;32m     23\u001b[0m                 \u001b[0mdata_dict_3\u001b[0m\u001b[1;33m[\u001b[0m\u001b[1;34m'Dynamic_B+1'\u001b[0m\u001b[1;33m]\u001b[0m\u001b[1;33m.\u001b[0m\u001b[0mappend\u001b[0m\u001b[1;33m(\u001b[0m\u001b[0mopt\u001b[0m \u001b[1;33m-\u001b[0m \u001b[0mobjective_nash_log\u001b[0m\u001b[1;33m(\u001b[0m\u001b[0mdemands\u001b[0m\u001b[1;33m,\u001b[0m \u001b[0mwaterfilling_dynamic_budget_opt\u001b[0m\u001b[1;33m(\u001b[0m\u001b[0mexpected_demands\u001b[0m\u001b[1;33m,\u001b[0m \u001b[0mdemands\u001b[0m\u001b[1;33m,\u001b[0m\u001b[0mbudget\u001b[0m\u001b[1;33m,\u001b[0m\u001b[0mn\u001b[0m\u001b[1;33m/\u001b[0m\u001b[1;36m5\u001b[0m\u001b[1;33m)\u001b[0m\u001b[1;33m)\u001b[0m\u001b[1;33m)\u001b[0m\u001b[1;33m\u001b[0m\u001b[1;33m\u001b[0m\u001b[0m\n\u001b[0;32m     24\u001b[0m             \u001b[1;32mif\u001b[0m \u001b[0mj\u001b[0m\u001b[1;33m==\u001b[0m\u001b[1;36m3\u001b[0m\u001b[1;33m:\u001b[0m\u001b[1;33m\u001b[0m\u001b[1;33m\u001b[0m\u001b[0m\n\u001b[1;32m---> 25\u001b[1;33m                 \u001b[0mdata_dict_3\u001b[0m\u001b[1;33m[\u001b[0m\u001b[1;34m'BayesOpt'\u001b[0m\u001b[1;33m]\u001b[0m\u001b[1;33m.\u001b[0m\u001b[0mappend\u001b[0m\u001b[1;33m(\u001b[0m\u001b[0mopt\u001b[0m \u001b[1;33m-\u001b[0m \u001b[0mobjective_nash_log\u001b[0m\u001b[1;33m(\u001b[0m\u001b[0mdemands\u001b[0m\u001b[1;33m,\u001b[0m \u001b[0mwaterfilling_bayesian\u001b[0m\u001b[1;33m(\u001b[0m\u001b[0mdemands\u001b[0m\u001b[1;33m,\u001b[0m \u001b[0mopt_policy\u001b[0m\u001b[1;33m,\u001b[0m \u001b[0mbudget\u001b[0m\u001b[1;33m,\u001b[0m \u001b[0mb_grid\u001b[0m\u001b[1;33m,\u001b[0m \u001b[0mgrid_size\u001b[0m\u001b[1;33m)\u001b[0m\u001b[1;33m)\u001b[0m\u001b[1;33m)\u001b[0m\u001b[1;33m\u001b[0m\u001b[1;33m\u001b[0m\u001b[0m\n\u001b[0m\u001b[0;32m     26\u001b[0m             \u001b[1;32mif\u001b[0m \u001b[0mj\u001b[0m\u001b[1;33m==\u001b[0m\u001b[1;36m4\u001b[0m\u001b[1;33m:\u001b[0m\u001b[1;33m\u001b[0m\u001b[1;33m\u001b[0m\u001b[0m\n\u001b[0;32m     27\u001b[0m                 \u001b[0mdata_dict_3\u001b[0m\u001b[1;33m[\u001b[0m\u001b[1;34m'BayesOptEst'\u001b[0m\u001b[1;33m]\u001b[0m\u001b[1;33m.\u001b[0m\u001b[0mappend\u001b[0m\u001b[1;33m(\u001b[0m\u001b[0mopt\u001b[0m\u001b[1;33m-\u001b[0m\u001b[0mv_fn\u001b[0m\u001b[1;33m[\u001b[0m\u001b[1;36m0\u001b[0m\u001b[1;33m,\u001b[0m\u001b[0mlen\u001b[0m\u001b[1;33m(\u001b[0m\u001b[0mb_grid\u001b[0m\u001b[1;33m)\u001b[0m\u001b[1;33m-\u001b[0m\u001b[1;36m1\u001b[0m\u001b[1;33m]\u001b[0m\u001b[1;33m)\u001b[0m\u001b[1;33m\u001b[0m\u001b[1;33m\u001b[0m\u001b[0m\n",
      "\u001b[1;31mNameError\u001b[0m: name 'waterfilling_bayesian' is not defined"
     ]
    }
   ],
   "source": [
    "data_dict_3 = {'NumTowns':[],'Dynamic':[],'Dynamic_B+1':[], 'Weighted':[], 'BayesOpt':[], 'BayesOptEst':[]}\n",
    "for n in np.logspace(0,2,25):\n",
    "    n=int(n)+1\n",
    "    expected_demands = np.zeros(n)+1.5\n",
    "    budget = np.sum(expected_demands)\n",
    "    \n",
    "    b_grid = np.arange(0, budget+grid_size, grid_size)\n",
    "    opt_policy, v_fn = bayes_opt(n, budget, b_grid, grid_size)\n",
    "    \n",
    "    \n",
    "    for i in range(num_iterations):\n",
    "        data_dict_3['NumTowns'].append(n)\n",
    "        demands = np.random.randint(1, 3, n)\n",
    "        sorted_distribution = np.arange(2) + 1\n",
    "        weights = np.zeros(2)+0.5      \n",
    "        opt = objective_nash_log(demands, waterfilling(demands,budget))\n",
    "        for j in range(5):\n",
    "            if j==0:\n",
    "                data_dict_3['Dynamic'].append(opt - objective_nash_log(demands, waterfilling_dynamic(expected_demands, demands,budget)))\n",
    "            if j==1:\n",
    "                data_dict_3['Weighted'].append(opt - objective_nash_log(demands, waterfilling_weights(weights, sorted_distribution, demands, budget)))\n",
    "            if j==2:\n",
    "                data_dict_3['Dynamic_B+1'].append(opt - objective_nash_log(demands, waterfilling_dynamic_budget_opt(expected_demands, demands,budget,n/5)))\n",
    "            if j==3:\n",
    "                data_dict_3['BayesOpt'].append(opt - objective_nash_log(demands, waterfilling_bayesian(demands, opt_policy, budget, b_grid, grid_size)))\n",
    "            if j==4:\n",
    "                data_dict_3['BayesOptEst'].append(opt-v_fn[0,len(b_grid)-1])\n",
    "df_uniform = pd.DataFrame(data_dict_3).melt(id_vars=\"NumTowns\")\n",
    "fig = px.scatter(df_uniform, x=\"NumTowns\", y=\"value\", color='variable')\n",
    "fig.update_layout(xaxis_type=\"log\", yaxis_type=\"log\")\n",
    "fig.show()"
   ]
  }
 ],
 "metadata": {
  "kernelspec": {
   "display_name": "Python 3",
   "language": "python",
   "name": "python3"
  },
  "language_info": {
   "codemirror_mode": {
    "name": "ipython",
    "version": 3
   },
   "file_extension": ".py",
   "mimetype": "text/x-python",
   "name": "python",
   "nbconvert_exporter": "python",
   "pygments_lexer": "ipython3",
   "version": "3.7.6"
  }
 },
 "nbformat": 4,
 "nbformat_minor": 2
}
