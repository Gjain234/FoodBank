{
 "cells": [
  {
   "cell_type": "markdown",
   "metadata": {},
   "source": [
    "# Food Bank Problem"
   ]
  },
  {
   "cell_type": "code",
   "execution_count": 119,
   "metadata": {},
   "outputs": [],
   "source": [
    "import sys\n",
    "import numpy as np\n",
    "import plotly.express as px\n",
    "import pandas as pd\n",
    "import scipy.optimize as optimization\n",
    "import random\n",
    "from food_bank_functions import *\n",
    "from food_bank_bayesian import *"
   ]
  },
  {
   "cell_type": "markdown",
   "metadata": {},
   "source": [
    "## OPT - Waterfilling"
   ]
  },
  {
   "cell_type": "code",
   "execution_count": 120,
   "metadata": {},
   "outputs": [],
   "source": [
    "def simulate_policy(num_towns, num_sims, budget, b_grid, grid_size):\n",
    "    values = np.zeros(num_sims)\n",
    "    opt_policy, v_fn = bayes_opt(num_towns, budget, b_grid, grid_size)\n",
    "    \n",
    "    for i in range(num_sims):\n",
    "        current_budget = budget\n",
    "        for t in range(num_tows):\n",
    "            demand = random.randint(1,2)\n",
    "            budget_discrete = int(np.floor(current_budget / grid_size))\n",
    "            allocation = policy(opt_policy[0, budget_discrete], current_budget, demand)\n",
    "            values[i] += np.log(allocation / demand)\n",
    "            current_budget = budget - allocation\n",
    "        \n",
    "    return np.mean(values), v_fn[0, len(b_grid)-1]\n",
    "        \n",
    "    "
   ]
  },
  {
   "cell_type": "code",
   "execution_count": 121,
   "metadata": {},
   "outputs": [],
   "source": [
    "num_sims = 1000\n",
    "num_towns = 10\n",
    "budget = 15\n",
    "grid_size = .1\n",
    "b_grid = np.arange(0, budget+grid_size, grid_size)"
   ]
  },
  {
   "cell_type": "code",
   "execution_count": null,
   "metadata": {},
   "outputs": [],
   "source": [
    "simulate_policy(num_towns, num_sims, )"
   ]
  }
 ],
 "metadata": {
  "kernelspec": {
   "display_name": "Python 3",
   "language": "python",
   "name": "python3"
  },
  "language_info": {
   "codemirror_mode": {
    "name": "ipython",
    "version": 3
   },
   "file_extension": ".py",
   "mimetype": "text/x-python",
   "name": "python",
   "nbconvert_exporter": "python",
   "pygments_lexer": "ipython3",
   "version": "3.7.6"
  }
 },
 "nbformat": 4,
 "nbformat_minor": 2
}
