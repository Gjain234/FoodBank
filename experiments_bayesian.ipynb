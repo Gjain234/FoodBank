{
 "cells": [
  {
   "cell_type": "markdown",
   "metadata": {},
   "source": [
    "# Food Bank Problem"
   ]
  },
  {
   "cell_type": "code",
   "execution_count": 12,
   "metadata": {},
   "outputs": [
    {
     "data": {
      "text/plain": [
       "<module 'food_bank_bayesian' from 'C:\\\\Users\\\\seanr\\\\Documents\\\\GitHub\\\\FoodBank\\\\food_bank_bayesian.py'>"
      ]
     },
     "execution_count": 12,
     "metadata": {},
     "output_type": "execute_result"
    }
   ],
   "source": [
    "import sys\n",
    "import importlib\n",
    "import numpy as np\n",
    "import nbformat\n",
    "import plotly.express\n",
    "import plotly.express as px\n",
    "import pandas as pd\n",
    "import scipy.optimize as optimization\n",
    "import food_bank_functions\n",
    "import food_bank_bayesian\n",
    "from food_bank_functions import *\n",
    "from food_bank_bayesian import *\n",
    "importlib.reload(food_bank_functions)\n",
    "importlib.reload(food_bank_bayesian)"
   ]
  },
  {
   "cell_type": "code",
   "execution_count": 22,
   "metadata": {},
   "outputs": [],
   "source": [
    "num_iterations = 50\n",
    "num_towns_range = 100\n",
    "max_n = 1000\n",
    "fix_num_towns = 10\n",
    "max_b = 200\n",
    "grid_size = .01"
   ]
  },
  {
   "cell_type": "code",
   "execution_count": null,
   "metadata": {},
   "outputs": [],
   "source": [
    "data_dict_3 = {'NumTowns':[],'Dynamic':[],'Dynamic_B+1':[], 'Weighted':[], 'BayesOpt':[], 'BayesOptEst':[]}\n",
    "   \n",
    "expected_demands = np.zeros(max_n)+1.5\n",
    "max_budget = np.sum(expected_demands)\n",
    "\n",
    "b_grid = np.arange(0, max_budget+grid_size, grid_size)\n",
    "opt_policy, v_fn = bayes_opt(max_n, max_budget, b_grid, grid_size)\n",
    "    \n",
    "\n",
    "for n in np.logspace(0,np.log10(max_n),fix_num_towns):\n",
    "    n=int(n)\n",
    "    if n == 0:\n",
    "        n = 1\n",
    "    print('Currently on town: ' + str(n))\n",
    "    \n",
    "    \n",
    "    \n",
    "    avg_1, avg_2, avg_3, avg_4 = 0,0,0,0\n",
    "    data_dict_3['NumTowns'].append(n)\n",
    "    for i in range(num_iterations):\n",
    "        expected_demands = np.zeros(n)+1.5\n",
    "        budget = np.sum(expected_demands)\n",
    "        demands = np.random.randint(1, 3, n)\n",
    "        sorted_distribution = np.arange(2) + 1\n",
    "        weights = np.zeros(2)+0.5      \n",
    "        opt = objective_nash_log(demands, waterfilling(demands,budget))\n",
    "        for j in range(5):\n",
    "            if j==0:\n",
    "                avg_1 += (opt - objective_nash_log(demands, waterfilling_dynamic(expected_demands, demands,budget)))\n",
    "            if j==1:\n",
    "                avg_2 += (opt - objective_nash_log(demands, waterfilling_weights(weights, sorted_distribution, demands, budget)))\n",
    "            if j==2:\n",
    "                avg_3 += (opt - objective_nash_log(demands, waterfilling_dynamic_budget_opt(expected_demands, demands,budget,n/5)))\n",
    "            if j==3:\n",
    "                avg_4 += (opt - objective_nash_log(demands, waterfilling_bayesian(demands, opt_policy[(max_n-n):(max_n+1),:], budget, b_grid, grid_size)))\n",
    "            if j==4:\n",
    "                avg_5 = (opt-v_fn[max_n-n,len(b_grid)-1])\n",
    "    data_dict_3['Dynamic'].append(avg_1/num_iterations)\n",
    "    data_dict_3['Weighted'].append(avg_2/num_iterations)\n",
    "    data_dict_3['Dynamic_B+1'].append(avg_3/num_iterations)\n",
    "    data_dict_3['BayesOpt'].append(avg_4/num_iterations)\n",
    "    data_dict_3['BayesOptEst'].append(avg_5)\n",
    "    \n",
    "df_uniform = pd.DataFrame(data_dict_3).melt(id_vars=\"NumTowns\")\n",
    "fig = px.scatter(df_uniform, x=\"NumTowns\", y=\"value\", color='variable')\n",
    "fig.update_layout(xaxis_type=\"log\", yaxis_type=\"log\")\n",
    "fig.show()"
   ]
  }
 ],
 "metadata": {
  "kernelspec": {
   "display_name": "Python 3",
   "language": "python",
   "name": "python3"
  },
  "language_info": {
   "codemirror_mode": {
    "name": "ipython",
    "version": 3
   },
   "file_extension": ".py",
   "mimetype": "text/x-python",
   "name": "python",
   "nbconvert_exporter": "python",
   "pygments_lexer": "ipython3",
   "version": "3.7.6"
  }
 },
 "nbformat": 4,
 "nbformat_minor": 2
}
