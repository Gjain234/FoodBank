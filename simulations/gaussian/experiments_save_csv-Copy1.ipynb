{
 "cells": [
  {
   "cell_type": "markdown",
   "metadata": {},
   "source": [
    "# Save CSVs"
   ]
  },
  {
   "cell_type": "code",
   "execution_count": 5,
   "metadata": {},
   "outputs": [
    {
     "data": {
      "text/plain": [
       "<module 'food_bank_functions' from '../../functions\\\\food_bank_functions.py'>"
      ]
     },
     "execution_count": 5,
     "metadata": {},
     "output_type": "execute_result"
    }
   ],
   "source": [
    "import sys\n",
    "sys.path.insert(1, '../../functions')\n",
    "import importlib\n",
    "import numpy as np\n",
    "import nbformat\n",
    "import plotly.express\n",
    "import plotly.express as px\n",
    "import pandas as pd\n",
    "import matplotlib.pyplot as plt\n",
    "import scipy.optimize as optimization\n",
    "import food_bank_functions\n",
    "import food_bank_bayesian\n",
    "from food_bank_functions import *\n",
    "from food_bank_bayesian import *\n",
    "importlib.reload(food_bank_functions)"
   ]
  },
  {
   "cell_type": "code",
   "execution_count": 6,
   "metadata": {},
   "outputs": [],
   "source": [
    "opt_policy = np.loadtxt('../../data/gaussian/opt_policy_mean_15_var_3.csv', delimiter=\",\")\n",
    "vals = np.loadtxt('../../data/gaussian/vals_15_var_3.csv', delimiter=\",\")\n",
    "support = np.loadtxt('../../data/gaussian/support_15_var_3.csv', delimiter=\",\")"
   ]
  },
  {
   "cell_type": "code",
   "execution_count": 7,
   "metadata": {},
   "outputs": [
    {
     "data": {
      "text/plain": [
       "[<matplotlib.lines.Line2D at 0x21dc1666b88>]"
      ]
     },
     "execution_count": 7,
     "metadata": {},
     "output_type": "execute_result"
    },
    {
     "data": {
      "image/png": "[encoded data removed]",
      "text/plain": [
       "<Figure size 432x288 with 1 Axes>"
      ]
     },
     "metadata": {
      "needs_background": "light"
     },
     "output_type": "display_data"
    }
   ],
   "source": [
    "plt.plot(support, vals)"
   ]
  },
  {
   "cell_type": "markdown",
   "metadata": {},
   "source": [
    "# Experiments"
   ]
  },
  {
   "cell_type": "markdown",
   "metadata": {},
   "source": [
    "## Varying Number of Groups"
   ]
  },
  {
   "cell_type": "code",
   "execution_count": 8,
   "metadata": {},
   "outputs": [],
   "source": [
    "num_iterations = 200\n",
    "max_n = 100000\n",
    "grid_size = .01\n",
    "\n",
    "# need to replicate the distributions down in an array of dimension n\n",
    "sorted_distribution = np.asarray([support for i in range(max_n)])\n",
    "weights = np.asarray([vals for i in range(max_n)])\n",
    "\n",
    "\n",
    "max_budget = max_n*15\n",
    "b_grid = np.arange(0, max_budget+grid_size, grid_size)"
   ]
  },
  {
   "cell_type": "code",
   "execution_count": 9,
   "metadata": {},
   "outputs": [
    {
     "data": {
      "text/plain": [
       "150000001"
      ]
     },
     "execution_count": 9,
     "metadata": {},
     "output_type": "execute_result"
    }
   ],
   "source": [
    "len(b_grid)"
   ]
  },
  {
   "cell_type": "code",
   "execution_count": 10,
   "metadata": {},
   "outputs": [
    {
     "data": {
      "text/plain": [
       "(100, 150001)"
      ]
     },
     "execution_count": 10,
     "metadata": {},
     "output_type": "execute_result"
    }
   ],
   "source": [
    "opt_policy.shape"
   ]
  },
  {
   "cell_type": "code",
   "execution_count": 11,
   "metadata": {},
   "outputs": [
    {
     "data": {
      "text/plain": [
       "array([20.9, 15.5, 12.8, 15.5, 20.9, 15.5, 18.2, 18.2, 18.2, 12.8, 18.2,\n",
       "       15.5, 18.2, 12.8, 15.5, 18.2, 18.2, 12.8, 15.5, 12.8, 15.5, 15.5,\n",
       "       18.2, 12.8, 15.5, 15.5, 15.5, 23.6, 20.9, 18.2, 15.5, 12.8, 18.2,\n",
       "       15.5, 12.8, 15.5, 18.2, 15.5, 18.2, 20.9, 12.8, 18.2, 18.2, 18.2,\n",
       "       18.2, 20.9, 20.9, 18.2, 18.2, 15.5])"
      ]
     },
     "execution_count": 11,
     "metadata": {},
     "output_type": "execute_result"
    }
   ],
   "source": [
    "np.random.choice(size=50, a=support, p=vals)"
   ]
  },
  {
   "cell_type": "code",
   "execution_count": 12,
   "metadata": {},
   "outputs": [],
   "source": [
    "expected_demand = 15"
   ]
  },
  {
   "cell_type": "markdown",
   "metadata": {},
   "source": [
    "### L1 Norm between OPT and ALGs"
   ]
  },
  {
   "cell_type": "code",
   "execution_count": null,
   "metadata": {},
   "outputs": [],
   "source": [
    "data_dict_1 = {'NumGroups':[],'Dynamic':[],'Weights':[], 'Bayes':[], 'Threshold':[],'Greedy':[]}\n",
    "for n in np.logspace(0,5,num_iterations):\n",
    "    n = max(int(n),1)\n",
    "    group_expected_demands = np.zeros(n) + 15    \n",
    "    budget = n*15\n",
    "    for i in range(num_iterations):\n",
    "        data_dict_1['NumGroups'].append(n)\n",
    "        group_demands = np.random.choice(size=n, a=support, p=vals)\n",
    "        opt = waterfilling_waste(group_demands,budget)\n",
    "        data_dict_1['Weights'].append(np.sum(np.absolute(opt - waterfilling_weights_waste(weights[0:n], sorted_distribution[0:n], group_demands, budget))))\n",
    "        data_dict_1['Dynamic'].append(np.sum(np.absolute(opt - waterfilling_dynamic_waste(group_expected_demands,group_demands,budget))))\n",
    "        data_dict_1['Bayes'].append(np.sum(np.absolute(opt - waterfilling_proportional_remaining(group_demands, budget))))\n",
    "        data_dict_1['Greedy'].append(np.sum(np.absolute(opt - greedy(group_demands,budget))))\n",
    "        data_dict_1['Threshold'].append(np.sum(np.absolute(opt - constant_threshold(group_demands,budget,expected_demand))))                                                  \n",
    "df_uniform = pd.DataFrame(data_dict_1).melt(id_vars=\"NumGroups\")\n",
    "df_uniform.to_csv('../../data/gaussian/L1_test.csv')\n",
    "fig = px.scatter(df_uniform, x=\"NumGroups\", y=\"value\", color='variable')\n",
    "fig.update_layout(xaxis_type=\"log\", yaxis_type=\"log\")\n",
    "fig.update_layout(\n",
    "    title=\"L1 Distance between OPT and ALGs\",\n",
    "    xaxis_title=\"Number of Groups\",\n",
    "    yaxis_title=\"Distance\")\n",
    "fig.show()"
   ]
  },
  {
   "cell_type": "markdown",
   "metadata": {},
   "source": [
    "### L-Inf Norm between OPT and ALGs"
   ]
  },
  {
   "cell_type": "code",
   "execution_count": null,
   "metadata": {},
   "outputs": [],
   "source": [
    "data_dict_1 = {'NumGroups':[],'Dynamic':[],'Weights':[], 'Bayes':[], 'Threshold':[],'Greedy':[]}\n",
    "\n",
    "for n in np.logspace(0,5,num_iterations):\n",
    "    n = max(int(n),1)\n",
    "    group_expected_demands = np.zeros(n) + 15    \n",
    "    budget = n*15\n",
    "    for i in range(num_iterations):\n",
    "        data_dict_1['NumGroups'].append(n)\n",
    "        group_demands = np.random.choice(size=n, a=support, p=vals)\n",
    "        opt = waterfilling_waste(group_demands,budget)\n",
    "        data_dict_1['Weights'].append(np.amax(np.absolute(opt - waterfilling_weights_waste(weights[0:n], sorted_distribution[0:n], group_demands, budget))))\n",
    "        data_dict_1['Dynamic'].append(np.amax(np.absolute(opt - waterfilling_dynamic_waste(group_expected_demands,group_demands,budget))))\n",
    "        data_dict_1['Bayes'].append(np.amax(np.absolute(opt - waterfilling_proportional_remaining(group_demands, budget))))\n",
    "        data_dict_1['Greedy'].append(np.amax(np.absolute(opt - greedy(group_demands,budget))))\n",
    "        data_dict_1['Threshold'].append(np.amax(np.absolute(opt - constant_threshold(group_demands,budget,expected_demand))))\n",
    "df_uniform = pd.DataFrame(data_dict_1).melt(id_vars=\"NumGroups\")\n",
    "df_uniform.to_csv('../../data/simple_distribution/L-Inf.csv')\n",
    "fig = px.scatter(df_uniform, x=\"NumGroups\", y=\"value\", color='variable')\n",
    "fig.update_layout(xaxis_type=\"log\", yaxis_type=\"log\")\n",
    "fig.update_layout(\n",
    "    title=\"L-Inf Distance between OPT and ALGs\",\n",
    "    xaxis_title=\"Number of Groups\",\n",
    "    yaxis_title=\"Distance\")\n",
    "fig.show()"
   ]
  },
  {
   "cell_type": "markdown",
   "metadata": {},
   "source": [
    "## Constant Number of Groups: Group by Group Comparison"
   ]
  },
  {
   "cell_type": "code",
   "execution_count": 9,
   "metadata": {},
   "outputs": [],
   "source": [
    "num_iterations = 1000\n",
    "grid_size = .01\n",
    "n=20"
   ]
  },
  {
   "cell_type": "markdown",
   "metadata": {},
   "source": [
    "## Fairness Comparisons using Utility"
   ]
  },
  {
   "cell_type": "code",
   "execution_count": 12,
   "metadata": {},
   "outputs": [
    {
     "name": "stdout",
     "output_type": "stream",
     "text": [
      "bayes, weights, dynamic, greedy, threshold\n",
      "envy:\n",
      "[0.93208856 0.0668835  0.08021696 0.99961062 0.80622373]\n",
      "po\n",
      "[-5.68434189e-16  2.69955214e-02  4.72094217e-02 -2.07478479e-16\n",
      "  1.18500000e-03]\n",
      "prop\n",
      "[0.82279804 0.01147717 0.         0.92798379 0.7407852 ]\n",
      "linf\n",
      "[12.69084889  0.54789367  0.4219923  13.88112695 12.05974918]\n"
     ]
    },
    {
     "data": {
      "application/vnd.plotly.v1+json": {
       "config": {
        "plotlyServerURL": "https://plot.ly"
       },
       "data": [
        {
         "hovertemplate": "variable=Dynamic<br>Group=%{x}<br>value=%{y}<extra></extra>",
         "legendgroup": "Dynamic",
         "marker": {
          "color": "#636efa",
          "symbol": "circle"
         },
         "mode": "markers",
         "name": "Dynamic",
         "orientation": "v",
         "showlegend": true,
         "type": "scatter",
         "x": [
          0,
          1,
          2,
          3,
          4,
          5,
          6,
          7,
          8,
          9,
          10,
          11,
          12,
          13,
          14,
          15,
          16,
          17,
          18,
          19
         ],
         "xaxis": "x",
         "y": [
          0.31182285102539103,
          0.3013582979791082,
          0.29207775779002326,
          0.28663420241952475,
          0.2662128829520986,
          0.2532587352725795,
          0.23246261757366513,
          0.20501803804518595,
          0.19218483849891482,
          0.16942343379695507,
          0.14054771049970777,
          0.10432878388328326,
          0.056326189497054105,
          0.006712738375045291,
          -0.05630439952188469,
          -0.11341153844798635,
          -0.2212566472549168,
          -0.3606658421655222,
          -0.46773102946456924,
          -0.6548111859036283
         ],
         "yaxis": "y"
        },
        {
         "hovertemplate": "variable=Weights<br>Group=%{x}<br>value=%{y}<extra></extra>",
         "legendgroup": "Weights",
         "marker": {
          "color": "#EF553B",
          "symbol": "circle"
         },
         "mode": "markers",
         "name": "Weights",
         "orientation": "v",
         "showlegend": true,
         "type": "scatter",
         "x": [
          0,
          1,
          2,
          3,
          4,
          5,
          6,
          7,
          8,
          9,
          10,
          11,
          12,
          13,
          14,
          15,
          16,
          17,
          18,
          19
         ],
         "xaxis": "x",
         "y": [
          0.014850343034430486,
          0.01703677051796506,
          0.022664256234565052,
          0.022671177570039298,
          0.021762385775418627,
          0.02520957809055667,
          0.028341772750089474,
          0.028471445639377136,
          0.030392902260615196,
          0.031062858707375598,
          0.03343802591129708,
          0.02859967500618833,
          0.018659142278363544,
          0.014473184076143836,
          0.005389717067093501,
          0.017621866853978613,
          0.022344230282902288,
          0.006709680401747359,
          0.05047743932637583,
          0.09973397532893642
         ],
         "yaxis": "y"
        },
        {
         "hovertemplate": "variable=Bayes<br>Group=%{x}<br>value=%{y}<extra></extra>",
         "legendgroup": "Bayes",
         "marker": {
          "color": "#00cc96",
          "symbol": "circle"
         },
         "mode": "markers",
         "name": "Bayes",
         "orientation": "v",
         "showlegend": true,
         "type": "scatter",
         "x": [
          0,
          1,
          2,
          3,
          4,
          5,
          6,
          7,
          8,
          9,
          10,
          11,
          12,
          13,
          14,
          15,
          16,
          17,
          18,
          19
         ],
         "xaxis": "x",
         "y": [
          -2.8820771489746098,
          -2.8905048599156298,
          -2.710999727590095,
          -2.853581432255399,
          -2.9383991698514804,
          -2.928246360448697,
          -2.8810125615659747,
          -2.7652478089196704,
          -2.860946702101222,
          -2.91319110843749,
          -2.7328609931210894,
          -2.8685280490965903,
          -2.943385474070137,
          -2.69491814857958,
          -2.449680276376964,
          0.7330256368111562,
          6.83110580975225,
          10.548219818234308,
          11.762826182484094,
          12.438402374022766
         ],
         "yaxis": "y"
        },
        {
         "hovertemplate": "variable=Threshold<br>Group=%{x}<br>value=%{y}<extra></extra>",
         "legendgroup": "Threshold",
         "marker": {
          "color": "#ab63fa",
          "symbol": "circle"
         },
         "mode": "markers",
         "name": "Threshold",
         "orientation": "v",
         "showlegend": true,
         "type": "scatter",
         "x": [
          0,
          1,
          2,
          3,
          4,
          5,
          6,
          7,
          8,
          9,
          10,
          11,
          12,
          13,
          14,
          15,
          16,
          17,
          18,
          19
         ],
         "xaxis": "x",
         "y": [
          -0.8341771489746089,
          -0.8296048599156288,
          -0.8260997275900941,
          -0.8508814322553978,
          -0.849599169851479,
          -0.8588372504228687,
          -0.8372125615659736,
          -0.8144478089196692,
          -0.831146702101221,
          -0.8366911084374887,
          -0.8182609931210887,
          -0.833828049096589,
          -0.8377854740701363,
          -0.7796081485795793,
          -0.8469302763769624,
          -0.8473443631888433,
          -0.8551641902477493,
          -0.8288401817656911,
          2.988496182484103,
          12.051663263996929
         ],
         "yaxis": "y"
        },
        {
         "hovertemplate": "variable=Greedy<br>Group=%{x}<br>value=%{y}<extra></extra>",
         "legendgroup": "Greedy",
         "marker": {
          "color": "#FFA15A",
          "symbol": "circle"
         },
         "mode": "markers",
         "name": "Greedy",
         "orientation": "v",
         "showlegend": true,
         "type": "scatter",
         "x": [
          0,
          1,
          2,
          3,
          4,
          5,
          6,
          7,
          8,
          9,
          10,
          11,
          12,
          13,
          14,
          15,
          16,
          17,
          18,
          19
         ],
         "xaxis": "x",
         "y": [
          -2.8820771489746098,
          -2.8905048599156298,
          -2.710999727590095,
          -2.853581432255399,
          -2.9383991698514804,
          -2.928246360448697,
          -2.8810125615659747,
          -2.7652478089196704,
          -2.860946702101222,
          -2.91319110843749,
          -2.7328609931210894,
          -2.8685280490965903,
          -2.943385474070137,
          -2.74210814857958,
          -2.708330276376963,
          -1.4346534732146683,
          5.612854029803913,
          11.617659818234314,
          13.342096182484097,
          13.481463263996924
         ],
         "yaxis": "y"
        }
       ],
       "layout": {
        "legend": {
         "title": {
          "text": "variable"
         },
         "tracegroupgap": 0
        },
        "margin": {
         "t": 60
        },
        "template": {
         "data": {
          "bar": [
           {
            "error_x": {
             "color": "#2a3f5f"
            },
            "error_y": {
             "color": "#2a3f5f"
            },
            "marker": {
             "line": {
              "color": "#E5ECF6",
              "width": 0.5
             }
            },
            "type": "bar"
           }
          ],
          "barpolar": [
           {
            "marker": {
             "line": {
              "color": "#E5ECF6",
              "width": 0.5
             }
            },
            "type": "barpolar"
           }
          ],
          "carpet": [
           {
            "aaxis": {
             "endlinecolor": "#2a3f5f",
             "gridcolor": "white",
             "linecolor": "white",
             "minorgridcolor": "white",
             "startlinecolor": "#2a3f5f"
            },
            "baxis": {
             "endlinecolor": "#2a3f5f",
             "gridcolor": "white",
             "linecolor": "white",
             "minorgridcolor": "white",
             "startlinecolor": "#2a3f5f"
            },
            "type": "carpet"
           }
          ],
          "choropleth": [
           {
            "colorbar": {
             "outlinewidth": 0,
             "ticks": ""
            },
            "type": "choropleth"
           }
          ],
          "contour": [
           {
            "colorbar": {
             "outlinewidth": 0,
             "ticks": ""
            },
            "colorscale": [
             [
              0,
              "#0d0887"
             ],
             [
              0.1111111111111111,
              "#46039f"
             ],
             [
              0.2222222222222222,
              "#7201a8"
             ],
             [
              0.3333333333333333,
              "#9c179e"
             ],
             [
              0.4444444444444444,
              "#bd3786"
             ],
             [
              0.5555555555555556,
              "#d8576b"
             ],
             [
              0.6666666666666666,
              "#ed7953"
             ],
             [
              0.7777777777777778,
              "#fb9f3a"
             ],
             [
              0.8888888888888888,
              "#fdca26"
             ],
             [
              1,
              "#f0f921"
             ]
            ],
            "type": "contour"
           }
          ],
          "contourcarpet": [
           {
            "colorbar": {
             "outlinewidth": 0,
             "ticks": ""
            },
            "type": "contourcarpet"
           }
          ],
          "heatmap": [
           {
            "colorbar": {
             "outlinewidth": 0,
             "ticks": ""
            },
            "colorscale": [
             [
              0,
              "#0d0887"
             ],
             [
              0.1111111111111111,
              "#46039f"
             ],
             [
              0.2222222222222222,
              "#7201a8"
             ],
             [
              0.3333333333333333,
              "#9c179e"
             ],
             [
              0.4444444444444444,
              "#bd3786"
             ],
             [
              0.5555555555555556,
              "#d8576b"
             ],
             [
              0.6666666666666666,
              "#ed7953"
             ],
             [
              0.7777777777777778,
              "#fb9f3a"
             ],
             [
              0.8888888888888888,
              "#fdca26"
             ],
             [
              1,
              "#f0f921"
             ]
            ],
            "type": "heatmap"
           }
          ],
          "heatmapgl": [
           {
            "colorbar": {
             "outlinewidth": 0,
             "ticks": ""
            },
            "colorscale": [
             [
              0,
              "#0d0887"
             ],
             [
              0.1111111111111111,
              "#46039f"
             ],
             [
              0.2222222222222222,
              "#7201a8"
             ],
             [
              0.3333333333333333,
              "#9c179e"
             ],
             [
              0.4444444444444444,
              "#bd3786"
             ],
             [
              0.5555555555555556,
              "#d8576b"
             ],
             [
              0.6666666666666666,
              "#ed7953"
             ],
             [
              0.7777777777777778,
              "#fb9f3a"
             ],
             [
              0.8888888888888888,
              "#fdca26"
             ],
             [
              1,
              "#f0f921"
             ]
            ],
            "type": "heatmapgl"
           }
          ],
          "histogram": [
           {
            "marker": {
             "colorbar": {
              "outlinewidth": 0,
              "ticks": ""
             }
            },
            "type": "histogram"
           }
          ],
          "histogram2d": [
           {
            "colorbar": {
             "outlinewidth": 0,
             "ticks": ""
            },
            "colorscale": [
             [
              0,
              "#0d0887"
             ],
             [
              0.1111111111111111,
              "#46039f"
             ],
             [
              0.2222222222222222,
              "#7201a8"
             ],
             [
              0.3333333333333333,
              "#9c179e"
             ],
             [
              0.4444444444444444,
              "#bd3786"
             ],
             [
              0.5555555555555556,
              "#d8576b"
             ],
             [
              0.6666666666666666,
              "#ed7953"
             ],
             [
              0.7777777777777778,
              "#fb9f3a"
             ],
             [
              0.8888888888888888,
              "#fdca26"
             ],
             [
              1,
              "#f0f921"
             ]
            ],
            "type": "histogram2d"
           }
          ],
          "histogram2dcontour": [
           {
            "colorbar": {
             "outlinewidth": 0,
             "ticks": ""
            },
            "colorscale": [
             [
              0,
              "#0d0887"
             ],
             [
              0.1111111111111111,
              "#46039f"
             ],
             [
              0.2222222222222222,
              "#7201a8"
             ],
             [
              0.3333333333333333,
              "#9c179e"
             ],
             [
              0.4444444444444444,
              "#bd3786"
             ],
             [
              0.5555555555555556,
              "#d8576b"
             ],
             [
              0.6666666666666666,
              "#ed7953"
             ],
             [
              0.7777777777777778,
              "#fb9f3a"
             ],
             [
              0.8888888888888888,
              "#fdca26"
             ],
             [
              1,
              "#f0f921"
             ]
            ],
            "type": "histogram2dcontour"
           }
          ],
          "mesh3d": [
           {
            "colorbar": {
             "outlinewidth": 0,
             "ticks": ""
            },
            "type": "mesh3d"
           }
          ],
          "parcoords": [
           {
            "line": {
             "colorbar": {
              "outlinewidth": 0,
              "ticks": ""
             }
            },
            "type": "parcoords"
           }
          ],
          "pie": [
           {
            "automargin": true,
            "type": "pie"
           }
          ],
          "scatter": [
           {
            "marker": {
             "colorbar": {
              "outlinewidth": 0,
              "ticks": ""
             }
            },
            "type": "scatter"
           }
          ],
          "scatter3d": [
           {
            "line": {
             "colorbar": {
              "outlinewidth": 0,
              "ticks": ""
             }
            },
            "marker": {
             "colorbar": {
              "outlinewidth": 0,
              "ticks": ""
             }
            },
            "type": "scatter3d"
           }
          ],
          "scattercarpet": [
           {
            "marker": {
             "colorbar": {
              "outlinewidth": 0,
              "ticks": ""
             }
            },
            "type": "scattercarpet"
           }
          ],
          "scattergeo": [
           {
            "marker": {
             "colorbar": {
              "outlinewidth": 0,
              "ticks": ""
             }
            },
            "type": "scattergeo"
           }
          ],
          "scattergl": [
           {
            "marker": {
             "colorbar": {
              "outlinewidth": 0,
              "ticks": ""
             }
            },
            "type": "scattergl"
           }
          ],
          "scattermapbox": [
           {
            "marker": {
             "colorbar": {
              "outlinewidth": 0,
              "ticks": ""
             }
            },
            "type": "scattermapbox"
           }
          ],
          "scatterpolar": [
           {
            "marker": {
             "colorbar": {
              "outlinewidth": 0,
              "ticks": ""
             }
            },
            "type": "scatterpolar"
           }
          ],
          "scatterpolargl": [
           {
            "marker": {
             "colorbar": {
              "outlinewidth": 0,
              "ticks": ""
             }
            },
            "type": "scatterpolargl"
           }
          ],
          "scatterternary": [
           {
            "marker": {
             "colorbar": {
              "outlinewidth": 0,
              "ticks": ""
             }
            },
            "type": "scatterternary"
           }
          ],
          "surface": [
           {
            "colorbar": {
             "outlinewidth": 0,
             "ticks": ""
            },
            "colorscale": [
             [
              0,
              "#0d0887"
             ],
             [
              0.1111111111111111,
              "#46039f"
             ],
             [
              0.2222222222222222,
              "#7201a8"
             ],
             [
              0.3333333333333333,
              "#9c179e"
             ],
             [
              0.4444444444444444,
              "#bd3786"
             ],
             [
              0.5555555555555556,
              "#d8576b"
             ],
             [
              0.6666666666666666,
              "#ed7953"
             ],
             [
              0.7777777777777778,
              "#fb9f3a"
             ],
             [
              0.8888888888888888,
              "#fdca26"
             ],
             [
              1,
              "#f0f921"
             ]
            ],
            "type": "surface"
           }
          ],
          "table": [
           {
            "cells": {
             "fill": {
              "color": "#EBF0F8"
             },
             "line": {
              "color": "white"
             }
            },
            "header": {
             "fill": {
              "color": "#C8D4E3"
             },
             "line": {
              "color": "white"
             }
            },
            "type": "table"
           }
          ]
         },
         "layout": {
          "annotationdefaults": {
           "arrowcolor": "#2a3f5f",
           "arrowhead": 0,
           "arrowwidth": 1
          },
          "coloraxis": {
           "colorbar": {
            "outlinewidth": 0,
            "ticks": ""
           }
          },
          "colorscale": {
           "diverging": [
            [
             0,
             "#8e0152"
            ],
            [
             0.1,
             "#c51b7d"
            ],
            [
             0.2,
             "#de77ae"
            ],
            [
             0.3,
             "#f1b6da"
            ],
            [
             0.4,
             "#fde0ef"
            ],
            [
             0.5,
             "#f7f7f7"
            ],
            [
             0.6,
             "#e6f5d0"
            ],
            [
             0.7,
             "#b8e186"
            ],
            [
             0.8,
             "#7fbc41"
            ],
            [
             0.9,
             "#4d9221"
            ],
            [
             1,
             "#276419"
            ]
           ],
           "sequential": [
            [
             0,
             "#0d0887"
            ],
            [
             0.1111111111111111,
             "#46039f"
            ],
            [
             0.2222222222222222,
             "#7201a8"
            ],
            [
             0.3333333333333333,
             "#9c179e"
            ],
            [
             0.4444444444444444,
             "#bd3786"
            ],
            [
             0.5555555555555556,
             "#d8576b"
            ],
            [
             0.6666666666666666,
             "#ed7953"
            ],
            [
             0.7777777777777778,
             "#fb9f3a"
            ],
            [
             0.8888888888888888,
             "#fdca26"
            ],
            [
             1,
             "#f0f921"
            ]
           ],
           "sequentialminus": [
            [
             0,
             "#0d0887"
            ],
            [
             0.1111111111111111,
             "#46039f"
            ],
            [
             0.2222222222222222,
             "#7201a8"
            ],
            [
             0.3333333333333333,
             "#9c179e"
            ],
            [
             0.4444444444444444,
             "#bd3786"
            ],
            [
             0.5555555555555556,
             "#d8576b"
            ],
            [
             0.6666666666666666,
             "#ed7953"
            ],
            [
             0.7777777777777778,
             "#fb9f3a"
            ],
            [
             0.8888888888888888,
             "#fdca26"
            ],
            [
             1,
             "#f0f921"
            ]
           ]
          },
          "colorway": [
           "#636efa",
           "#EF553B",
           "#00cc96",
           "#ab63fa",
           "#FFA15A",
           "#19d3f3",
           "#FF6692",
           "#B6E880",
           "#FF97FF",
           "#FECB52"
          ],
          "font": {
           "color": "#2a3f5f"
          },
          "geo": {
           "bgcolor": "white",
           "lakecolor": "white",
           "landcolor": "#E5ECF6",
           "showlakes": true,
           "showland": true,
           "subunitcolor": "white"
          },
          "hoverlabel": {
           "align": "left"
          },
          "hovermode": "closest",
          "mapbox": {
           "style": "light"
          },
          "paper_bgcolor": "white",
          "plot_bgcolor": "#E5ECF6",
          "polar": {
           "angularaxis": {
            "gridcolor": "white",
            "linecolor": "white",
            "ticks": ""
           },
           "bgcolor": "#E5ECF6",
           "radialaxis": {
            "gridcolor": "white",
            "linecolor": "white",
            "ticks": ""
           }
          },
          "scene": {
           "xaxis": {
            "backgroundcolor": "#E5ECF6",
            "gridcolor": "white",
            "gridwidth": 2,
            "linecolor": "white",
            "showbackground": true,
            "ticks": "",
            "zerolinecolor": "white"
           },
           "yaxis": {
            "backgroundcolor": "#E5ECF6",
            "gridcolor": "white",
            "gridwidth": 2,
            "linecolor": "white",
            "showbackground": true,
            "ticks": "",
            "zerolinecolor": "white"
           },
           "zaxis": {
            "backgroundcolor": "#E5ECF6",
            "gridcolor": "white",
            "gridwidth": 2,
            "linecolor": "white",
            "showbackground": true,
            "ticks": "",
            "zerolinecolor": "white"
           }
          },
          "shapedefaults": {
           "line": {
            "color": "#2a3f5f"
           }
          },
          "ternary": {
           "aaxis": {
            "gridcolor": "white",
            "linecolor": "white",
            "ticks": ""
           },
           "baxis": {
            "gridcolor": "white",
            "linecolor": "white",
            "ticks": ""
           },
           "bgcolor": "#E5ECF6",
           "caxis": {
            "gridcolor": "white",
            "linecolor": "white",
            "ticks": ""
           }
          },
          "title": {
           "x": 0.05
          },
          "xaxis": {
           "automargin": true,
           "gridcolor": "white",
           "linecolor": "white",
           "ticks": "",
           "title": {
            "standoff": 15
           },
           "zerolinecolor": "white",
           "zerolinewidth": 2
          },
          "yaxis": {
           "automargin": true,
           "gridcolor": "white",
           "linecolor": "white",
           "ticks": "",
           "title": {
            "standoff": 15
           },
           "zerolinecolor": "white",
           "zerolinewidth": 2
          }
         }
        },
        "title": {
         "text": "Group by Group Allocation Difference between OPT and ALGs"
        },
        "xaxis": {
         "anchor": "y",
         "domain": [
          0,
          1
         ],
         "title": {
          "text": "Group"
         }
        },
        "yaxis": {
         "anchor": "x",
         "domain": [
          0,
          1
         ],
         "title": {
          "text": "Difference"
         }
        }
       }
      },
      "text/html": [
       "<div>\n",
       "        \n",
       "        \n",
       "            <div id=\"e035f036-c3fa-4e98-be62-39c3cf439533\" class=\"plotly-graph-div\" style=\"height:525px; width:100%;\"></div>\n",
       "            <script type=\"text/javascript\">\n",
       "                require([\"plotly\"], function(Plotly) {\n",
       "                    window.PLOTLYENV=window.PLOTLYENV || {};\n",
       "                    \n",
       "                if (document.getElementById(\"e035f036-c3fa-4e98-be62-39c3cf439533\")) {\n",
       "                    Plotly.newPlot(\n",
       "                        'e035f036-c3fa-4e98-be62-39c3cf439533',\n",
       "                        [{\"hovertemplate\": \"variable=Dynamic<br>Group=%{x}<br>value=%{y}<extra></extra>\", \"legendgroup\": \"Dynamic\", \"marker\": {\"color\": \"#636efa\", \"symbol\": \"circle\"}, \"mode\": \"markers\", \"name\": \"Dynamic\", \"orientation\": \"v\", \"showlegend\": true, \"type\": \"scatter\", \"x\": [0, 1, 2, 3, 4, 5, 6, 7, 8, 9, 10, 11, 12, 13, 14, 15, 16, 17, 18, 19], \"xaxis\": \"x\", \"y\": [0.31182285102539103, 0.3013582979791082, 0.29207775779002326, 0.28663420241952475, 0.2662128829520986, 0.2532587352725795, 0.23246261757366513, 0.20501803804518595, 0.19218483849891482, 0.16942343379695507, 0.14054771049970777, 0.10432878388328326, 0.056326189497054105, 0.006712738375045291, -0.05630439952188469, -0.11341153844798635, -0.2212566472549168, -0.3606658421655222, -0.46773102946456924, -0.6548111859036283], \"yaxis\": \"y\"}, {\"hovertemplate\": \"variable=Weights<br>Group=%{x}<br>value=%{y}<extra></extra>\", \"legendgroup\": \"Weights\", \"marker\": {\"color\": \"#EF553B\", \"symbol\": \"circle\"}, \"mode\": \"markers\", \"name\": \"Weights\", \"orientation\": \"v\", \"showlegend\": true, \"type\": \"scatter\", \"x\": [0, 1, 2, 3, 4, 5, 6, 7, 8, 9, 10, 11, 12, 13, 14, 15, 16, 17, 18, 19], \"xaxis\": \"x\", \"y\": [0.014850343034430486, 0.01703677051796506, 0.022664256234565052, 0.022671177570039298, 0.021762385775418627, 0.02520957809055667, 0.028341772750089474, 0.028471445639377136, 0.030392902260615196, 0.031062858707375598, 0.03343802591129708, 0.02859967500618833, 0.018659142278363544, 0.014473184076143836, 0.005389717067093501, 0.017621866853978613, 0.022344230282902288, 0.006709680401747359, 0.05047743932637583, 0.09973397532893642], \"yaxis\": \"y\"}, {\"hovertemplate\": \"variable=Bayes<br>Group=%{x}<br>value=%{y}<extra></extra>\", \"legendgroup\": \"Bayes\", \"marker\": {\"color\": \"#00cc96\", \"symbol\": \"circle\"}, \"mode\": \"markers\", \"name\": \"Bayes\", \"orientation\": \"v\", \"showlegend\": true, \"type\": \"scatter\", \"x\": [0, 1, 2, 3, 4, 5, 6, 7, 8, 9, 10, 11, 12, 13, 14, 15, 16, 17, 18, 19], \"xaxis\": \"x\", \"y\": [-2.8820771489746098, -2.8905048599156298, -2.710999727590095, -2.853581432255399, -2.9383991698514804, -2.928246360448697, -2.8810125615659747, -2.7652478089196704, -2.860946702101222, -2.91319110843749, -2.7328609931210894, -2.8685280490965903, -2.943385474070137, -2.69491814857958, -2.449680276376964, 0.7330256368111562, 6.83110580975225, 10.548219818234308, 11.762826182484094, 12.438402374022766], \"yaxis\": \"y\"}, {\"hovertemplate\": \"variable=Threshold<br>Group=%{x}<br>value=%{y}<extra></extra>\", \"legendgroup\": \"Threshold\", \"marker\": {\"color\": \"#ab63fa\", \"symbol\": \"circle\"}, \"mode\": \"markers\", \"name\": \"Threshold\", \"orientation\": \"v\", \"showlegend\": true, \"type\": \"scatter\", \"x\": [0, 1, 2, 3, 4, 5, 6, 7, 8, 9, 10, 11, 12, 13, 14, 15, 16, 17, 18, 19], \"xaxis\": \"x\", \"y\": [-0.8341771489746089, -0.8296048599156288, -0.8260997275900941, -0.8508814322553978, -0.849599169851479, -0.8588372504228687, -0.8372125615659736, -0.8144478089196692, -0.831146702101221, -0.8366911084374887, -0.8182609931210887, -0.833828049096589, -0.8377854740701363, -0.7796081485795793, -0.8469302763769624, -0.8473443631888433, -0.8551641902477493, -0.8288401817656911, 2.988496182484103, 12.051663263996929], \"yaxis\": \"y\"}, {\"hovertemplate\": \"variable=Greedy<br>Group=%{x}<br>value=%{y}<extra></extra>\", \"legendgroup\": \"Greedy\", \"marker\": {\"color\": \"#FFA15A\", \"symbol\": \"circle\"}, \"mode\": \"markers\", \"name\": \"Greedy\", \"orientation\": \"v\", \"showlegend\": true, \"type\": \"scatter\", \"x\": [0, 1, 2, 3, 4, 5, 6, 7, 8, 9, 10, 11, 12, 13, 14, 15, 16, 17, 18, 19], \"xaxis\": \"x\", \"y\": [-2.8820771489746098, -2.8905048599156298, -2.710999727590095, -2.853581432255399, -2.9383991698514804, -2.928246360448697, -2.8810125615659747, -2.7652478089196704, -2.860946702101222, -2.91319110843749, -2.7328609931210894, -2.8685280490965903, -2.943385474070137, -2.74210814857958, -2.708330276376963, -1.4346534732146683, 5.612854029803913, 11.617659818234314, 13.342096182484097, 13.481463263996924], \"yaxis\": \"y\"}],\n",
       "                        {\"legend\": {\"title\": {\"text\": \"variable\"}, \"tracegroupgap\": 0}, \"margin\": {\"t\": 60}, \"template\": {\"data\": {\"bar\": [{\"error_x\": {\"color\": \"#2a3f5f\"}, \"error_y\": {\"color\": \"#2a3f5f\"}, \"marker\": {\"line\": {\"color\": \"#E5ECF6\", \"width\": 0.5}}, \"type\": \"bar\"}], \"barpolar\": [{\"marker\": {\"line\": {\"color\": \"#E5ECF6\", \"width\": 0.5}}, \"type\": \"barpolar\"}], \"carpet\": [{\"aaxis\": {\"endlinecolor\": \"#2a3f5f\", \"gridcolor\": \"white\", \"linecolor\": \"white\", \"minorgridcolor\": \"white\", \"startlinecolor\": \"#2a3f5f\"}, \"baxis\": {\"endlinecolor\": \"#2a3f5f\", \"gridcolor\": \"white\", \"linecolor\": \"white\", \"minorgridcolor\": \"white\", \"startlinecolor\": \"#2a3f5f\"}, \"type\": \"carpet\"}], \"choropleth\": [{\"colorbar\": {\"outlinewidth\": 0, \"ticks\": \"\"}, \"type\": \"choropleth\"}], \"contour\": [{\"colorbar\": {\"outlinewidth\": 0, \"ticks\": \"\"}, \"colorscale\": [[0.0, \"#0d0887\"], [0.1111111111111111, \"#46039f\"], [0.2222222222222222, \"#7201a8\"], [0.3333333333333333, \"#9c179e\"], [0.4444444444444444, \"#bd3786\"], [0.5555555555555556, \"#d8576b\"], [0.6666666666666666, \"#ed7953\"], [0.7777777777777778, \"#fb9f3a\"], [0.8888888888888888, \"#fdca26\"], [1.0, \"#f0f921\"]], \"type\": \"contour\"}], \"contourcarpet\": [{\"colorbar\": {\"outlinewidth\": 0, \"ticks\": \"\"}, \"type\": \"contourcarpet\"}], \"heatmap\": [{\"colorbar\": {\"outlinewidth\": 0, \"ticks\": \"\"}, \"colorscale\": [[0.0, \"#0d0887\"], [0.1111111111111111, \"#46039f\"], [0.2222222222222222, \"#7201a8\"], [0.3333333333333333, \"#9c179e\"], [0.4444444444444444, \"#bd3786\"], [0.5555555555555556, \"#d8576b\"], [0.6666666666666666, \"#ed7953\"], [0.7777777777777778, \"#fb9f3a\"], [0.8888888888888888, \"#fdca26\"], [1.0, \"#f0f921\"]], \"type\": \"heatmap\"}], \"heatmapgl\": [{\"colorbar\": {\"outlinewidth\": 0, \"ticks\": \"\"}, \"colorscale\": [[0.0, \"#0d0887\"], [0.1111111111111111, \"#46039f\"], [0.2222222222222222, \"#7201a8\"], [0.3333333333333333, \"#9c179e\"], [0.4444444444444444, \"#bd3786\"], [0.5555555555555556, \"#d8576b\"], [0.6666666666666666, \"#ed7953\"], [0.7777777777777778, \"#fb9f3a\"], [0.8888888888888888, \"#fdca26\"], [1.0, \"#f0f921\"]], \"type\": \"heatmapgl\"}], \"histogram\": [{\"marker\": {\"colorbar\": {\"outlinewidth\": 0, \"ticks\": \"\"}}, \"type\": \"histogram\"}], \"histogram2d\": [{\"colorbar\": {\"outlinewidth\": 0, \"ticks\": \"\"}, \"colorscale\": [[0.0, \"#0d0887\"], [0.1111111111111111, \"#46039f\"], [0.2222222222222222, \"#7201a8\"], [0.3333333333333333, \"#9c179e\"], [0.4444444444444444, \"#bd3786\"], [0.5555555555555556, \"#d8576b\"], [0.6666666666666666, \"#ed7953\"], [0.7777777777777778, \"#fb9f3a\"], [0.8888888888888888, \"#fdca26\"], [1.0, \"#f0f921\"]], \"type\": \"histogram2d\"}], \"histogram2dcontour\": [{\"colorbar\": {\"outlinewidth\": 0, \"ticks\": \"\"}, \"colorscale\": [[0.0, \"#0d0887\"], [0.1111111111111111, \"#46039f\"], [0.2222222222222222, \"#7201a8\"], [0.3333333333333333, \"#9c179e\"], [0.4444444444444444, \"#bd3786\"], [0.5555555555555556, \"#d8576b\"], [0.6666666666666666, \"#ed7953\"], [0.7777777777777778, \"#fb9f3a\"], [0.8888888888888888, \"#fdca26\"], [1.0, \"#f0f921\"]], \"type\": \"histogram2dcontour\"}], \"mesh3d\": [{\"colorbar\": {\"outlinewidth\": 0, \"ticks\": \"\"}, \"type\": \"mesh3d\"}], \"parcoords\": [{\"line\": {\"colorbar\": {\"outlinewidth\": 0, \"ticks\": \"\"}}, \"type\": \"parcoords\"}], \"pie\": [{\"automargin\": true, \"type\": \"pie\"}], \"scatter\": [{\"marker\": {\"colorbar\": {\"outlinewidth\": 0, \"ticks\": \"\"}}, \"type\": \"scatter\"}], \"scatter3d\": [{\"line\": {\"colorbar\": {\"outlinewidth\": 0, \"ticks\": \"\"}}, \"marker\": {\"colorbar\": {\"outlinewidth\": 0, \"ticks\": \"\"}}, \"type\": \"scatter3d\"}], \"scattercarpet\": [{\"marker\": {\"colorbar\": {\"outlinewidth\": 0, \"ticks\": \"\"}}, \"type\": \"scattercarpet\"}], \"scattergeo\": [{\"marker\": {\"colorbar\": {\"outlinewidth\": 0, \"ticks\": \"\"}}, \"type\": \"scattergeo\"}], \"scattergl\": [{\"marker\": {\"colorbar\": {\"outlinewidth\": 0, \"ticks\": \"\"}}, \"type\": \"scattergl\"}], \"scattermapbox\": [{\"marker\": {\"colorbar\": {\"outlinewidth\": 0, \"ticks\": \"\"}}, \"type\": \"scattermapbox\"}], \"scatterpolar\": [{\"marker\": {\"colorbar\": {\"outlinewidth\": 0, \"ticks\": \"\"}}, \"type\": \"scatterpolar\"}], \"scatterpolargl\": [{\"marker\": {\"colorbar\": {\"outlinewidth\": 0, \"ticks\": \"\"}}, \"type\": \"scatterpolargl\"}], \"scatterternary\": [{\"marker\": {\"colorbar\": {\"outlinewidth\": 0, \"ticks\": \"\"}}, \"type\": \"scatterternary\"}], \"surface\": [{\"colorbar\": {\"outlinewidth\": 0, \"ticks\": \"\"}, \"colorscale\": [[0.0, \"#0d0887\"], [0.1111111111111111, \"#46039f\"], [0.2222222222222222, \"#7201a8\"], [0.3333333333333333, \"#9c179e\"], [0.4444444444444444, \"#bd3786\"], [0.5555555555555556, \"#d8576b\"], [0.6666666666666666, \"#ed7953\"], [0.7777777777777778, \"#fb9f3a\"], [0.8888888888888888, \"#fdca26\"], [1.0, \"#f0f921\"]], \"type\": \"surface\"}], \"table\": [{\"cells\": {\"fill\": {\"color\": \"#EBF0F8\"}, \"line\": {\"color\": \"white\"}}, \"header\": {\"fill\": {\"color\": \"#C8D4E3\"}, \"line\": {\"color\": \"white\"}}, \"type\": \"table\"}]}, \"layout\": {\"annotationdefaults\": {\"arrowcolor\": \"#2a3f5f\", \"arrowhead\": 0, \"arrowwidth\": 1}, \"coloraxis\": {\"colorbar\": {\"outlinewidth\": 0, \"ticks\": \"\"}}, \"colorscale\": {\"diverging\": [[0, \"#8e0152\"], [0.1, \"#c51b7d\"], [0.2, \"#de77ae\"], [0.3, \"#f1b6da\"], [0.4, \"#fde0ef\"], [0.5, \"#f7f7f7\"], [0.6, \"#e6f5d0\"], [0.7, \"#b8e186\"], [0.8, \"#7fbc41\"], [0.9, \"#4d9221\"], [1, \"#276419\"]], \"sequential\": [[0.0, \"#0d0887\"], [0.1111111111111111, \"#46039f\"], [0.2222222222222222, \"#7201a8\"], [0.3333333333333333, \"#9c179e\"], [0.4444444444444444, \"#bd3786\"], [0.5555555555555556, \"#d8576b\"], [0.6666666666666666, \"#ed7953\"], [0.7777777777777778, \"#fb9f3a\"], [0.8888888888888888, \"#fdca26\"], [1.0, \"#f0f921\"]], \"sequentialminus\": [[0.0, \"#0d0887\"], [0.1111111111111111, \"#46039f\"], [0.2222222222222222, \"#7201a8\"], [0.3333333333333333, \"#9c179e\"], [0.4444444444444444, \"#bd3786\"], [0.5555555555555556, \"#d8576b\"], [0.6666666666666666, \"#ed7953\"], [0.7777777777777778, \"#fb9f3a\"], [0.8888888888888888, \"#fdca26\"], [1.0, \"#f0f921\"]]}, \"colorway\": [\"#636efa\", \"#EF553B\", \"#00cc96\", \"#ab63fa\", \"#FFA15A\", \"#19d3f3\", \"#FF6692\", \"#B6E880\", \"#FF97FF\", \"#FECB52\"], \"font\": {\"color\": \"#2a3f5f\"}, \"geo\": {\"bgcolor\": \"white\", \"lakecolor\": \"white\", \"landcolor\": \"#E5ECF6\", \"showlakes\": true, \"showland\": true, \"subunitcolor\": \"white\"}, \"hoverlabel\": {\"align\": \"left\"}, \"hovermode\": \"closest\", \"mapbox\": {\"style\": \"light\"}, \"paper_bgcolor\": \"white\", \"plot_bgcolor\": \"#E5ECF6\", \"polar\": {\"angularaxis\": {\"gridcolor\": \"white\", \"linecolor\": \"white\", \"ticks\": \"\"}, \"bgcolor\": \"#E5ECF6\", \"radialaxis\": {\"gridcolor\": \"white\", \"linecolor\": \"white\", \"ticks\": \"\"}}, \"scene\": {\"xaxis\": {\"backgroundcolor\": \"#E5ECF6\", \"gridcolor\": \"white\", \"gridwidth\": 2, \"linecolor\": \"white\", \"showbackground\": true, \"ticks\": \"\", \"zerolinecolor\": \"white\"}, \"yaxis\": {\"backgroundcolor\": \"#E5ECF6\", \"gridcolor\": \"white\", \"gridwidth\": 2, \"linecolor\": \"white\", \"showbackground\": true, \"ticks\": \"\", \"zerolinecolor\": \"white\"}, \"zaxis\": {\"backgroundcolor\": \"#E5ECF6\", \"gridcolor\": \"white\", \"gridwidth\": 2, \"linecolor\": \"white\", \"showbackground\": true, \"ticks\": \"\", \"zerolinecolor\": \"white\"}}, \"shapedefaults\": {\"line\": {\"color\": \"#2a3f5f\"}}, \"ternary\": {\"aaxis\": {\"gridcolor\": \"white\", \"linecolor\": \"white\", \"ticks\": \"\"}, \"baxis\": {\"gridcolor\": \"white\", \"linecolor\": \"white\", \"ticks\": \"\"}, \"bgcolor\": \"#E5ECF6\", \"caxis\": {\"gridcolor\": \"white\", \"linecolor\": \"white\", \"ticks\": \"\"}}, \"title\": {\"x\": 0.05}, \"xaxis\": {\"automargin\": true, \"gridcolor\": \"white\", \"linecolor\": \"white\", \"ticks\": \"\", \"title\": {\"standoff\": 15}, \"zerolinecolor\": \"white\", \"zerolinewidth\": 2}, \"yaxis\": {\"automargin\": true, \"gridcolor\": \"white\", \"linecolor\": \"white\", \"ticks\": \"\", \"title\": {\"standoff\": 15}, \"zerolinecolor\": \"white\", \"zerolinewidth\": 2}}}, \"title\": {\"text\": \"Group by Group Allocation Difference between OPT and ALGs\"}, \"xaxis\": {\"anchor\": \"y\", \"domain\": [0.0, 1.0], \"title\": {\"text\": \"Group\"}}, \"yaxis\": {\"anchor\": \"x\", \"domain\": [0.0, 1.0], \"title\": {\"text\": \"Difference\"}}},\n",
       "                        {\"responsive\": true}\n",
       "                    ).then(function(){\n",
       "                            \n",
       "var gd = document.getElementById('e035f036-c3fa-4e98-be62-39c3cf439533');\n",
       "var x = new MutationObserver(function (mutations, observer) {{\n",
       "        var display = window.getComputedStyle(gd).display;\n",
       "        if (!display || display === 'none') {{\n",
       "            console.log([gd, 'removed!']);\n",
       "            Plotly.purge(gd);\n",
       "            observer.disconnect();\n",
       "        }}\n",
       "}});\n",
       "\n",
       "// Listen for the removal of the full notebook cells\n",
       "var notebookContainer = gd.closest('#notebook-container');\n",
       "if (notebookContainer) {{\n",
       "    x.observe(notebookContainer, {childList: true});\n",
       "}}\n",
       "\n",
       "// Listen for the clearing of the current output cell\n",
       "var outputEl = gd.closest('.output');\n",
       "if (outputEl) {{\n",
       "    x.observe(outputEl, {childList: true});\n",
       "}}\n",
       "\n",
       "                        })\n",
       "                };\n",
       "                });\n",
       "            </script>\n",
       "        </div>"
      ]
     },
     "metadata": {},
     "output_type": "display_data"
    }
   ],
   "source": [
    "group = np.arange(n)\n",
    "budget = .9*15*n\n",
    "group_expected_demands = np.zeros(n) + 15\n",
    "score_weights = np.zeros((n,num_iterations))\n",
    "score_bayes = np.zeros((n,num_iterations))\n",
    "score_dynamic = np.zeros((n,num_iterations))\n",
    "score_greedy = np.zeros((n,num_iterations))\n",
    "score_threshold = np.zeros((n,num_iterations))\n",
    "env = np.zeros((5,num_iterations))\n",
    "po = np.zeros((5,num_iterations))\n",
    "prop = np.zeros((5,num_iterations))\n",
    "linf = np.zeros((5, num_iterations))\n",
    "for i in range(num_iterations):\n",
    "    group_demands = np.random.choice(size=n, a=support, p=vals)\n",
    "    opt = waterfilling_waste(group_demands,budget)\n",
    "    bayes = waterfilling_bayesian(group_demands, opt_policy[(max_n-n):(max_n+1),:], budget, b_grid, grid_size)\n",
    "    \n",
    "    # comparing the Bayes algorithm\n",
    "    score_bayes[:,i] = opt - bayes\n",
    "    env[0,i] = max(0,np.amax(envy_utility(bayes,group_demands)))\n",
    "    po[0,i] = excess(bayes,budget)\n",
    "    prop[0,i] = np.amax(proportionality_utility(bayes,group_demands,budget))\n",
    "    linf[0,i] = np.amax(score_bayes[:,i])\n",
    "    \n",
    "    # comparing exp-demand\n",
    "    weights_alloc = waterfilling_weights_waste(weights, sorted_distribution, group_demands,budget)\n",
    "    score_weights[:,i] = opt - weights_alloc\n",
    "    env[1,i] = max(0,np.amax(envy_utility(weights_alloc,group_demands)))\n",
    "    po[1,i] = excess(weights_alloc,budget)\n",
    "    prop[1,i] = np.amax(proportionality_utility(weights_alloc,group_demands,budget))\n",
    "    linf[1,i] = np.amax(score_weights[:,i])\n",
    "    \n",
    "    # comparing exp-number\n",
    "    dynamic = waterfilling_dynamic_waste(group_expected_demands,group_demands,budget)\n",
    "    score_dynamic[:,i] = opt - dynamic\n",
    "    env[2,i] = max(0,np.amax(envy_utility(dynamic,group_demands)))\n",
    "    po[2,i] = excess(dynamic,budget)\n",
    "    prop[2,i] = np.amax(proportionality_utility(dynamic,group_demands,budget))\n",
    "    linf[2,i] = np.amax(score_dynamic[:,i])\n",
    "    \n",
    "    # comparing greedy\n",
    "    greedy_alloc = greedy(group_demands,budget)\n",
    "    score_greedy[:,i] = opt - greedy_alloc\n",
    "    env[3,i] = max(0,np.amax(envy_utility(greedy_alloc,group_demands)))\n",
    "    po[3,i] = excess(greedy_alloc,budget)\n",
    "    prop[3,i] = np.amax(proportionality_utility(greedy_alloc,group_demands,budget))\n",
    "    linf[3,i] = np.amax(score_greedy[:,i])\n",
    "    \n",
    "    # comparing threshold\n",
    "    threshold = constant_threshold(group_demands,budget,expected_demand)\n",
    "    score_threshold[:,i] = opt - threshold\n",
    "    env[4,i] = max(0,np.amax(envy_utility(threshold,group_demands)))\n",
    "    po[4,i] = excess(threshold,budget)\n",
    "    prop[4,i] = np.amax(proportionality_utility(threshold,group_demands,budget))\n",
    "    linf[4,i] = np.amax(score_threshold[:,i])\n",
    "score_bayes = np.average(score_bayes, axis=1)\n",
    "score_weights = np.average(score_weights, axis=1)\n",
    "score_dynamic = np.average(score_dynamic, axis=1)\n",
    "score_greedy = np.average(score_greedy, axis=1)\n",
    "score_threshold = np.average(score_threshold, axis=1)\n",
    "env = np.average(env,axis=1)\n",
    "po = np.average(po,axis=1)\n",
    "prop = np.average(prop,axis=1)\n",
    "linf = np.average(linf,axis=1)\n",
    "print('bayes, weights, dynamic, greedy, threshold')\n",
    "print('envy:')\n",
    "print(env)\n",
    "print('po')\n",
    "print(po)\n",
    "print('prop')\n",
    "print(prop)\n",
    "print('linf')\n",
    "print(linf)\n",
    "data_dict = {'Group':group,'Dynamic':score_dynamic,'Weights':score_weights, 'Bayes':score_bayes, 'Threshold':score_threshold,'Greedy':score_greedy}\n",
    "df_uniform = pd.DataFrame(data_dict).melt(id_vars=\"Group\")\n",
    "df_uniform.to_csv('../../data/gaussian/GroupAllocationDifference.csv')\n",
    "fig = px.scatter(df_uniform, x=\"Group\", y=\"value\", color='variable')\n",
    "fig.update_layout(\n",
    "    title=\"Group by Group Allocation Difference between OPT and ALGs\",\n",
    "    xaxis_title=\"Group\",\n",
    "    yaxis_title=\"Difference\")\n",
    "fig.show()"
   ]
  },
  {
   "cell_type": "code",
   "execution_count": 13,
   "metadata": {},
   "outputs": [
    {
     "name": "stdout",
     "output_type": "stream",
     "text": [
      "bayes, weights, dynamic, greedy, threshold\n",
      "envy:\n",
      "[0.93208856 0.0668835  0.08021696 0.99961062 0.80622373]\n",
      "po\n",
      "[-5.68434189e-16  2.69955214e-02  4.72094217e-02 -2.07478479e-16\n",
      "  1.18500000e-03]\n",
      "prop\n",
      "[0.82279804 0.01147717 0.         0.92798379 0.7407852 ]\n",
      "linf\n",
      "[12.69084889  0.54789367  0.4219923  13.88112695 12.05974918]\n",
      "sum of measures\n",
      "[1.7548866  0.10535619 0.12742638 1.92759441 1.54819393]\n"
     ]
    }
   ],
   "source": [
    "print('bayes, weights, dynamic, greedy, threshold')\n",
    "print('envy:')\n",
    "print(env)\n",
    "print('po')\n",
    "print(po)\n",
    "print('prop')\n",
    "print(prop)\n",
    "print('linf')\n",
    "print(linf)\n",
    "print('sum of measures')\n",
    "print(env+po+prop)"
   ]
  },
  {
   "cell_type": "code",
   "execution_count": null,
   "metadata": {},
   "outputs": [],
   "source": []
  }
 ],
 "metadata": {
  "kernelspec": {
   "display_name": "Python 3",
   "language": "python",
   "name": "python3"
  },
  "language_info": {
   "codemirror_mode": {
    "name": "ipython",
    "version": 3
   },
   "file_extension": ".py",
   "mimetype": "text/x-python",
   "name": "python",
   "nbconvert_exporter": "python",
   "pygments_lexer": "ipython3",
   "version": "3.7.7"
  }
 },
 "nbformat": 4,
 "nbformat_minor": 2
}
