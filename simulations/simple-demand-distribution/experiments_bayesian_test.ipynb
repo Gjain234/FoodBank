{
 "cells": [
  {
   "cell_type": "markdown",
   "metadata": {},
   "source": [
    "# Food Bank Problem"
   ]
  },
  {
   "cell_type": "code",
   "execution_count": 1,
   "metadata": {},
   "outputs": [
    {
     "data": {
      "text/plain": [
       "<module 'food_bank_bayesian' from '../../functions\\\\food_bank_bayesian.py'>"
      ]
     },
     "execution_count": 1,
     "metadata": {},
     "output_type": "execute_result"
    }
   ],
   "source": [
    "import sys\n",
    "sys.path.insert(1, '../../functions')\n",
    "import importlib\n",
    "import numpy as np\n",
    "import nbformat\n",
    "import plotly.express\n",
    "import plotly.express as px\n",
    "import pandas as pd\n",
    "import scipy.optimize as optimization\n",
    "import food_bank_functions\n",
    "import food_bank_bayesian\n",
    "from food_bank_functions import *\n",
    "from food_bank_bayesian import *\n",
    "importlib.reload(food_bank_functions)\n",
    "importlib.reload(food_bank_bayesian)"
   ]
  },
  {
   "cell_type": "code",
   "execution_count": 2,
   "metadata": {},
   "outputs": [],
   "source": [
    "num_towns_range = 10\n",
    "max_n = 10\n",
    "grid_size = .01"
   ]
  },
  {
   "cell_type": "code",
   "execution_count": 3,
   "metadata": {},
   "outputs": [
    {
     "name": "stderr",
     "output_type": "stream",
     "text": [
      "../../functions\\food_bank_bayesian.py:83: RuntimeWarning: divide by zero encountered in log\n",
      "  v_fn[t,b] = np.dot(distribution, [np.log(policy(opt_policy[t,b], current_budget, x) / x) for x in support])\n",
      "../../functions\\food_bank_bayesian.py:89: RuntimeWarning: divide by zero encountered in log\n",
      "  q_vals = np.log(b_grid[0:(b+1)]) + np.flip(v_fn[t+1,0:(b+1)])\n",
      "../../functions\\food_bank_bayesian.py:98: RuntimeWarning: divide by zero encountered in log\n",
      "  v_fn[t,b] = np.dot(distribution, [np.log(policy(opt_policy[t,b], current_budget, support[i])/support[i]) + v_fn[t+1, new_budget[i]] for i in range(len(support))])\n"
     ]
    }
   ],
   "source": [
    "expected_demands = np.zeros(max_n)+1.5\n",
    "max_budget = np.sum(expected_demands)\n",
    "\n",
    "b_grid = np.arange(0, max_budget+grid_size, grid_size)\n",
    "opt_policy, v_fn = bayes_opt_general_dist(max_n, max_budget, np.asarray([1/2, 1/2]), np.asarray([1, 2]), b_grid, grid_size)"
   ]
  },
  {
   "cell_type": "code",
   "execution_count": 4,
   "metadata": {},
   "outputs": [],
   "source": [
    "np.savetxt('../../data/simple_distribution_opt_policy.csv', opt_policy, delimiter=\",\")\n",
    "np.savetxt('../../data/simple_distribution_v_est.csv', v_fn, delimiter=\",\")"
   ]
  }
 ],
 "metadata": {
  "kernelspec": {
   "display_name": "Python 3",
   "language": "python",
   "name": "python3"
  },
  "language_info": {
   "codemirror_mode": {
    "name": "ipython",
    "version": 3
   },
   "file_extension": ".py",
   "mimetype": "text/x-python",
   "name": "python",
   "nbconvert_exporter": "python",
   "pygments_lexer": "ipython3",
   "version": "3.7.7"
  }
 },
 "nbformat": 4,
 "nbformat_minor": 2
}
