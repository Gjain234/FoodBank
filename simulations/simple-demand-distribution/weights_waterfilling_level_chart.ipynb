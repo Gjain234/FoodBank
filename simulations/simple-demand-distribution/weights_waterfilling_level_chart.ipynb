{
 "cells": [
  {
   "cell_type": "code",
   "execution_count": 4,
   "metadata": {},
   "outputs": [],
   "source": [
    "import sys\n",
    "sys.path.insert(1, '../functions')\n",
    "import importlib\n",
    "import numpy as np\n",
    "import nbformat\n",
    "import plotly.express\n",
    "import plotly.express as px\n",
    "import pandas as pd\n",
    "import scipy.optimize as optimization\n",
    "import food_bank_functions\n",
    "from food_bank_functions import *\n",
    "importlib.reload(food_bank_functions)\n",
    "import plotly.graph_objects as go"
   ]
  },
  {
   "cell_type": "code",
   "execution_count": 20,
   "metadata": {},
   "outputs": [],
   "source": [
    "n=20\n",
    "b = n*1.5"
   ]
  },
  {
   "cell_type": "code",
   "execution_count": 26,
   "metadata": {},
   "outputs": [
    {
     "data": {
      "application/vnd.plotly.v1+json": {
       "config": {
        "plotlyServerURL": "https://plot.ly"
       },
       "data": [
        {
         "cells": {
          "values": [
           [
            [
             1,
             19
            ],
            [
             2,
             18
            ],
            [
             3,
             17
            ],
            [
             4,
             16
            ],
            [
             5,
             15
            ],
            [
             6,
             14
            ],
            [
             7,
             13
            ],
            [
             8,
             12
            ],
            [
             9,
             11
            ],
            [
             10,
             10
            ],
            [
             11,
             9
            ],
            [
             12,
             8
            ],
            [
             13,
             7
            ],
            [
             14,
             6
            ],
            [
             15,
             5
            ],
            [
             16,
             4
            ],
            [
             17,
             3
            ],
            [
             18,
             2
            ],
            [
             19,
             1
            ]
           ],
           [
            1.5263157894736843,
            1.5555555555555556,
            1.588235294117647,
            1.625,
            1.6666666666666667,
            1.7142857142857142,
            1.7692307692307692,
            1.8333333333333333,
            1.9090909090909092,
            2,
            2,
            2,
            2,
            2,
            2,
            2,
            2,
            2,
            2
           ]
          ]
         },
         "header": {
          "values": [
           "Distribution 1,2",
           "Waterfilling Level"
          ]
         },
         "type": "table"
        }
       ],
       "layout": {
        "template": {
         "data": {
          "bar": [
           {
            "error_x": {
             "color": "#2a3f5f"
            },
            "error_y": {
             "color": "#2a3f5f"
            },
            "marker": {
             "line": {
              "color": "#E5ECF6",
              "width": 0.5
             }
            },
            "type": "bar"
           }
          ],
          "barpolar": [
           {
            "marker": {
             "line": {
              "color": "#E5ECF6",
              "width": 0.5
             }
            },
            "type": "barpolar"
           }
          ],
          "carpet": [
           {
            "aaxis": {
             "endlinecolor": "#2a3f5f",
             "gridcolor": "white",
             "linecolor": "white",
             "minorgridcolor": "white",
             "startlinecolor": "#2a3f5f"
            },
            "baxis": {
             "endlinecolor": "#2a3f5f",
             "gridcolor": "white",
             "linecolor": "white",
             "minorgridcolor": "white",
             "startlinecolor": "#2a3f5f"
            },
            "type": "carpet"
           }
          ],
          "choropleth": [
           {
            "colorbar": {
             "outlinewidth": 0,
             "ticks": ""
            },
            "type": "choropleth"
           }
          ],
          "contour": [
           {
            "colorbar": {
             "outlinewidth": 0,
             "ticks": ""
            },
            "colorscale": [
             [
              0,
              "#0d0887"
             ],
             [
              0.1111111111111111,
              "#46039f"
             ],
             [
              0.2222222222222222,
              "#7201a8"
             ],
             [
              0.3333333333333333,
              "#9c179e"
             ],
             [
              0.4444444444444444,
              "#bd3786"
             ],
             [
              0.5555555555555556,
              "#d8576b"
             ],
             [
              0.6666666666666666,
              "#ed7953"
             ],
             [
              0.7777777777777778,
              "#fb9f3a"
             ],
             [
              0.8888888888888888,
              "#fdca26"
             ],
             [
              1,
              "#f0f921"
             ]
            ],
            "type": "contour"
           }
          ],
          "contourcarpet": [
           {
            "colorbar": {
             "outlinewidth": 0,
             "ticks": ""
            },
            "type": "contourcarpet"
           }
          ],
          "heatmap": [
           {
            "colorbar": {
             "outlinewidth": 0,
             "ticks": ""
            },
            "colorscale": [
             [
              0,
              "#0d0887"
             ],
             [
              0.1111111111111111,
              "#46039f"
             ],
             [
              0.2222222222222222,
              "#7201a8"
             ],
             [
              0.3333333333333333,
              "#9c179e"
             ],
             [
              0.4444444444444444,
              "#bd3786"
             ],
             [
              0.5555555555555556,
              "#d8576b"
             ],
             [
              0.6666666666666666,
              "#ed7953"
             ],
             [
              0.7777777777777778,
              "#fb9f3a"
             ],
             [
              0.8888888888888888,
              "#fdca26"
             ],
             [
              1,
              "#f0f921"
             ]
            ],
            "type": "heatmap"
           }
          ],
          "heatmapgl": [
           {
            "colorbar": {
             "outlinewidth": 0,
             "ticks": ""
            },
            "colorscale": [
             [
              0,
              "#0d0887"
             ],
             [
              0.1111111111111111,
              "#46039f"
             ],
             [
              0.2222222222222222,
              "#7201a8"
             ],
             [
              0.3333333333333333,
              "#9c179e"
             ],
             [
              0.4444444444444444,
              "#bd3786"
             ],
             [
              0.5555555555555556,
              "#d8576b"
             ],
             [
              0.6666666666666666,
              "#ed7953"
             ],
             [
              0.7777777777777778,
              "#fb9f3a"
             ],
             [
              0.8888888888888888,
              "#fdca26"
             ],
             [
              1,
              "#f0f921"
             ]
            ],
            "type": "heatmapgl"
           }
          ],
          "histogram": [
           {
            "marker": {
             "colorbar": {
              "outlinewidth": 0,
              "ticks": ""
             }
            },
            "type": "histogram"
           }
          ],
          "histogram2d": [
           {
            "colorbar": {
             "outlinewidth": 0,
             "ticks": ""
            },
            "colorscale": [
             [
              0,
              "#0d0887"
             ],
             [
              0.1111111111111111,
              "#46039f"
             ],
             [
              0.2222222222222222,
              "#7201a8"
             ],
             [
              0.3333333333333333,
              "#9c179e"
             ],
             [
              0.4444444444444444,
              "#bd3786"
             ],
             [
              0.5555555555555556,
              "#d8576b"
             ],
             [
              0.6666666666666666,
              "#ed7953"
             ],
             [
              0.7777777777777778,
              "#fb9f3a"
             ],
             [
              0.8888888888888888,
              "#fdca26"
             ],
             [
              1,
              "#f0f921"
             ]
            ],
            "type": "histogram2d"
           }
          ],
          "histogram2dcontour": [
           {
            "colorbar": {
             "outlinewidth": 0,
             "ticks": ""
            },
            "colorscale": [
             [
              0,
              "#0d0887"
             ],
             [
              0.1111111111111111,
              "#46039f"
             ],
             [
              0.2222222222222222,
              "#7201a8"
             ],
             [
              0.3333333333333333,
              "#9c179e"
             ],
             [
              0.4444444444444444,
              "#bd3786"
             ],
             [
              0.5555555555555556,
              "#d8576b"
             ],
             [
              0.6666666666666666,
              "#ed7953"
             ],
             [
              0.7777777777777778,
              "#fb9f3a"
             ],
             [
              0.8888888888888888,
              "#fdca26"
             ],
             [
              1,
              "#f0f921"
             ]
            ],
            "type": "histogram2dcontour"
           }
          ],
          "mesh3d": [
           {
            "colorbar": {
             "outlinewidth": 0,
             "ticks": ""
            },
            "type": "mesh3d"
           }
          ],
          "parcoords": [
           {
            "line": {
             "colorbar": {
              "outlinewidth": 0,
              "ticks": ""
             }
            },
            "type": "parcoords"
           }
          ],
          "pie": [
           {
            "automargin": true,
            "type": "pie"
           }
          ],
          "scatter": [
           {
            "marker": {
             "colorbar": {
              "outlinewidth": 0,
              "ticks": ""
             }
            },
            "type": "scatter"
           }
          ],
          "scatter3d": [
           {
            "line": {
             "colorbar": {
              "outlinewidth": 0,
              "ticks": ""
             }
            },
            "marker": {
             "colorbar": {
              "outlinewidth": 0,
              "ticks": ""
             }
            },
            "type": "scatter3d"
           }
          ],
          "scattercarpet": [
           {
            "marker": {
             "colorbar": {
              "outlinewidth": 0,
              "ticks": ""
             }
            },
            "type": "scattercarpet"
           }
          ],
          "scattergeo": [
           {
            "marker": {
             "colorbar": {
              "outlinewidth": 0,
              "ticks": ""
             }
            },
            "type": "scattergeo"
           }
          ],
          "scattergl": [
           {
            "marker": {
             "colorbar": {
              "outlinewidth": 0,
              "ticks": ""
             }
            },
            "type": "scattergl"
           }
          ],
          "scattermapbox": [
           {
            "marker": {
             "colorbar": {
              "outlinewidth": 0,
              "ticks": ""
             }
            },
            "type": "scattermapbox"
           }
          ],
          "scatterpolar": [
           {
            "marker": {
             "colorbar": {
              "outlinewidth": 0,
              "ticks": ""
             }
            },
            "type": "scatterpolar"
           }
          ],
          "scatterpolargl": [
           {
            "marker": {
             "colorbar": {
              "outlinewidth": 0,
              "ticks": ""
             }
            },
            "type": "scatterpolargl"
           }
          ],
          "scatterternary": [
           {
            "marker": {
             "colorbar": {
              "outlinewidth": 0,
              "ticks": ""
             }
            },
            "type": "scatterternary"
           }
          ],
          "surface": [
           {
            "colorbar": {
             "outlinewidth": 0,
             "ticks": ""
            },
            "colorscale": [
             [
              0,
              "#0d0887"
             ],
             [
              0.1111111111111111,
              "#46039f"
             ],
             [
              0.2222222222222222,
              "#7201a8"
             ],
             [
              0.3333333333333333,
              "#9c179e"
             ],
             [
              0.4444444444444444,
              "#bd3786"
             ],
             [
              0.5555555555555556,
              "#d8576b"
             ],
             [
              0.6666666666666666,
              "#ed7953"
             ],
             [
              0.7777777777777778,
              "#fb9f3a"
             ],
             [
              0.8888888888888888,
              "#fdca26"
             ],
             [
              1,
              "#f0f921"
             ]
            ],
            "type": "surface"
           }
          ],
          "table": [
           {
            "cells": {
             "fill": {
              "color": "#EBF0F8"
             },
             "line": {
              "color": "white"
             }
            },
            "header": {
             "fill": {
              "color": "#C8D4E3"
             },
             "line": {
              "color": "white"
             }
            },
            "type": "table"
           }
          ]
         },
         "layout": {
          "annotationdefaults": {
           "arrowcolor": "#2a3f5f",
           "arrowhead": 0,
           "arrowwidth": 1
          },
          "coloraxis": {
           "colorbar": {
            "outlinewidth": 0,
            "ticks": ""
           }
          },
          "colorscale": {
           "diverging": [
            [
             0,
             "#8e0152"
            ],
            [
             0.1,
             "#c51b7d"
            ],
            [
             0.2,
             "#de77ae"
            ],
            [
             0.3,
             "#f1b6da"
            ],
            [
             0.4,
             "#fde0ef"
            ],
            [
             0.5,
             "#f7f7f7"
            ],
            [
             0.6,
             "#e6f5d0"
            ],
            [
             0.7,
             "#b8e186"
            ],
            [
             0.8,
             "#7fbc41"
            ],
            [
             0.9,
             "#4d9221"
            ],
            [
             1,
             "#276419"
            ]
           ],
           "sequential": [
            [
             0,
             "#0d0887"
            ],
            [
             0.1111111111111111,
             "#46039f"
            ],
            [
             0.2222222222222222,
             "#7201a8"
            ],
            [
             0.3333333333333333,
             "#9c179e"
            ],
            [
             0.4444444444444444,
             "#bd3786"
            ],
            [
             0.5555555555555556,
             "#d8576b"
            ],
            [
             0.6666666666666666,
             "#ed7953"
            ],
            [
             0.7777777777777778,
             "#fb9f3a"
            ],
            [
             0.8888888888888888,
             "#fdca26"
            ],
            [
             1,
             "#f0f921"
            ]
           ],
           "sequentialminus": [
            [
             0,
             "#0d0887"
            ],
            [
             0.1111111111111111,
             "#46039f"
            ],
            [
             0.2222222222222222,
             "#7201a8"
            ],
            [
             0.3333333333333333,
             "#9c179e"
            ],
            [
             0.4444444444444444,
             "#bd3786"
            ],
            [
             0.5555555555555556,
             "#d8576b"
            ],
            [
             0.6666666666666666,
             "#ed7953"
            ],
            [
             0.7777777777777778,
             "#fb9f3a"
            ],
            [
             0.8888888888888888,
             "#fdca26"
            ],
            [
             1,
             "#f0f921"
            ]
           ]
          },
          "colorway": [
           "#636efa",
           "#EF553B",
           "#00cc96",
           "#ab63fa",
           "#FFA15A",
           "#19d3f3",
           "#FF6692",
           "#B6E880",
           "#FF97FF",
           "#FECB52"
          ],
          "font": {
           "color": "#2a3f5f"
          },
          "geo": {
           "bgcolor": "white",
           "lakecolor": "white",
           "landcolor": "#E5ECF6",
           "showlakes": true,
           "showland": true,
           "subunitcolor": "white"
          },
          "hoverlabel": {
           "align": "left"
          },
          "hovermode": "closest",
          "mapbox": {
           "style": "light"
          },
          "paper_bgcolor": "white",
          "plot_bgcolor": "#E5ECF6",
          "polar": {
           "angularaxis": {
            "gridcolor": "white",
            "linecolor": "white",
            "ticks": ""
           },
           "bgcolor": "#E5ECF6",
           "radialaxis": {
            "gridcolor": "white",
            "linecolor": "white",
            "ticks": ""
           }
          },
          "scene": {
           "xaxis": {
            "backgroundcolor": "#E5ECF6",
            "gridcolor": "white",
            "gridwidth": 2,
            "linecolor": "white",
            "showbackground": true,
            "ticks": "",
            "zerolinecolor": "white"
           },
           "yaxis": {
            "backgroundcolor": "#E5ECF6",
            "gridcolor": "white",
            "gridwidth": 2,
            "linecolor": "white",
            "showbackground": true,
            "ticks": "",
            "zerolinecolor": "white"
           },
           "zaxis": {
            "backgroundcolor": "#E5ECF6",
            "gridcolor": "white",
            "gridwidth": 2,
            "linecolor": "white",
            "showbackground": true,
            "ticks": "",
            "zerolinecolor": "white"
           }
          },
          "shapedefaults": {
           "line": {
            "color": "#2a3f5f"
           }
          },
          "ternary": {
           "aaxis": {
            "gridcolor": "white",
            "linecolor": "white",
            "ticks": ""
           },
           "baxis": {
            "gridcolor": "white",
            "linecolor": "white",
            "ticks": ""
           },
           "bgcolor": "#E5ECF6",
           "caxis": {
            "gridcolor": "white",
            "linecolor": "white",
            "ticks": ""
           }
          },
          "title": {
           "x": 0.05
          },
          "xaxis": {
           "automargin": true,
           "gridcolor": "white",
           "linecolor": "white",
           "ticks": "",
           "title": {
            "standoff": 15
           },
           "zerolinecolor": "white",
           "zerolinewidth": 2
          },
          "yaxis": {
           "automargin": true,
           "gridcolor": "white",
           "linecolor": "white",
           "ticks": "",
           "title": {
            "standoff": 15
           },
           "zerolinecolor": "white",
           "zerolinewidth": 2
          }
         }
        }
       }
      },
      "text/html": [
       "<div>\n",
       "        \n",
       "        \n",
       "            <div id=\"172653ce-704f-4989-8317-bbdfa5bddbd3\" class=\"plotly-graph-div\" style=\"height:525px; width:100%;\"></div>\n",
       "            <script type=\"text/javascript\">\n",
       "                require([\"plotly\"], function(Plotly) {\n",
       "                    window.PLOTLYENV=window.PLOTLYENV || {};\n",
       "                    \n",
       "                if (document.getElementById(\"172653ce-704f-4989-8317-bbdfa5bddbd3\")) {\n",
       "                    Plotly.newPlot(\n",
       "                        '172653ce-704f-4989-8317-bbdfa5bddbd3',\n",
       "                        [{\"cells\": {\"values\": [[[1, 19], [2, 18], [3, 17], [4, 16], [5, 15], [6, 14], [7, 13], [8, 12], [9, 11], [10, 10], [11, 9], [12, 8], [13, 7], [14, 6], [15, 5], [16, 4], [17, 3], [18, 2], [19, 1]], [1.5263157894736843, 1.5555555555555556, 1.588235294117647, 1.625, 1.6666666666666667, 1.7142857142857142, 1.7692307692307692, 1.8333333333333333, 1.9090909090909092, 2.0, 2, 2, 2, 2, 2, 2, 2, 2, 2]]}, \"header\": {\"values\": [\"Distribution 1,2\", \"Waterfilling Level\"]}, \"type\": \"table\"}],\n",
       "                        {\"template\": {\"data\": {\"bar\": [{\"error_x\": {\"color\": \"#2a3f5f\"}, \"error_y\": {\"color\": \"#2a3f5f\"}, \"marker\": {\"line\": {\"color\": \"#E5ECF6\", \"width\": 0.5}}, \"type\": \"bar\"}], \"barpolar\": [{\"marker\": {\"line\": {\"color\": \"#E5ECF6\", \"width\": 0.5}}, \"type\": \"barpolar\"}], \"carpet\": [{\"aaxis\": {\"endlinecolor\": \"#2a3f5f\", \"gridcolor\": \"white\", \"linecolor\": \"white\", \"minorgridcolor\": \"white\", \"startlinecolor\": \"#2a3f5f\"}, \"baxis\": {\"endlinecolor\": \"#2a3f5f\", \"gridcolor\": \"white\", \"linecolor\": \"white\", \"minorgridcolor\": \"white\", \"startlinecolor\": \"#2a3f5f\"}, \"type\": \"carpet\"}], \"choropleth\": [{\"colorbar\": {\"outlinewidth\": 0, \"ticks\": \"\"}, \"type\": \"choropleth\"}], \"contour\": [{\"colorbar\": {\"outlinewidth\": 0, \"ticks\": \"\"}, \"colorscale\": [[0.0, \"#0d0887\"], [0.1111111111111111, \"#46039f\"], [0.2222222222222222, \"#7201a8\"], [0.3333333333333333, \"#9c179e\"], [0.4444444444444444, \"#bd3786\"], [0.5555555555555556, \"#d8576b\"], [0.6666666666666666, \"#ed7953\"], [0.7777777777777778, \"#fb9f3a\"], [0.8888888888888888, \"#fdca26\"], [1.0, \"#f0f921\"]], \"type\": \"contour\"}], \"contourcarpet\": [{\"colorbar\": {\"outlinewidth\": 0, \"ticks\": \"\"}, \"type\": \"contourcarpet\"}], \"heatmap\": [{\"colorbar\": {\"outlinewidth\": 0, \"ticks\": \"\"}, \"colorscale\": [[0.0, \"#0d0887\"], [0.1111111111111111, \"#46039f\"], [0.2222222222222222, \"#7201a8\"], [0.3333333333333333, \"#9c179e\"], [0.4444444444444444, \"#bd3786\"], [0.5555555555555556, \"#d8576b\"], [0.6666666666666666, \"#ed7953\"], [0.7777777777777778, \"#fb9f3a\"], [0.8888888888888888, \"#fdca26\"], [1.0, \"#f0f921\"]], \"type\": \"heatmap\"}], \"heatmapgl\": [{\"colorbar\": {\"outlinewidth\": 0, \"ticks\": \"\"}, \"colorscale\": [[0.0, \"#0d0887\"], [0.1111111111111111, \"#46039f\"], [0.2222222222222222, \"#7201a8\"], [0.3333333333333333, \"#9c179e\"], [0.4444444444444444, \"#bd3786\"], [0.5555555555555556, \"#d8576b\"], [0.6666666666666666, \"#ed7953\"], [0.7777777777777778, \"#fb9f3a\"], [0.8888888888888888, \"#fdca26\"], [1.0, \"#f0f921\"]], \"type\": \"heatmapgl\"}], \"histogram\": [{\"marker\": {\"colorbar\": {\"outlinewidth\": 0, \"ticks\": \"\"}}, \"type\": \"histogram\"}], \"histogram2d\": [{\"colorbar\": {\"outlinewidth\": 0, \"ticks\": \"\"}, \"colorscale\": [[0.0, \"#0d0887\"], [0.1111111111111111, \"#46039f\"], [0.2222222222222222, \"#7201a8\"], [0.3333333333333333, \"#9c179e\"], [0.4444444444444444, \"#bd3786\"], [0.5555555555555556, \"#d8576b\"], [0.6666666666666666, \"#ed7953\"], [0.7777777777777778, \"#fb9f3a\"], [0.8888888888888888, \"#fdca26\"], [1.0, \"#f0f921\"]], \"type\": \"histogram2d\"}], \"histogram2dcontour\": [{\"colorbar\": {\"outlinewidth\": 0, \"ticks\": \"\"}, \"colorscale\": [[0.0, \"#0d0887\"], [0.1111111111111111, \"#46039f\"], [0.2222222222222222, \"#7201a8\"], [0.3333333333333333, \"#9c179e\"], [0.4444444444444444, \"#bd3786\"], [0.5555555555555556, \"#d8576b\"], [0.6666666666666666, \"#ed7953\"], [0.7777777777777778, \"#fb9f3a\"], [0.8888888888888888, \"#fdca26\"], [1.0, \"#f0f921\"]], \"type\": \"histogram2dcontour\"}], \"mesh3d\": [{\"colorbar\": {\"outlinewidth\": 0, \"ticks\": \"\"}, \"type\": \"mesh3d\"}], \"parcoords\": [{\"line\": {\"colorbar\": {\"outlinewidth\": 0, \"ticks\": \"\"}}, \"type\": \"parcoords\"}], \"pie\": [{\"automargin\": true, \"type\": \"pie\"}], \"scatter\": [{\"marker\": {\"colorbar\": {\"outlinewidth\": 0, \"ticks\": \"\"}}, \"type\": \"scatter\"}], \"scatter3d\": [{\"line\": {\"colorbar\": {\"outlinewidth\": 0, \"ticks\": \"\"}}, \"marker\": {\"colorbar\": {\"outlinewidth\": 0, \"ticks\": \"\"}}, \"type\": \"scatter3d\"}], \"scattercarpet\": [{\"marker\": {\"colorbar\": {\"outlinewidth\": 0, \"ticks\": \"\"}}, \"type\": \"scattercarpet\"}], \"scattergeo\": [{\"marker\": {\"colorbar\": {\"outlinewidth\": 0, \"ticks\": \"\"}}, \"type\": \"scattergeo\"}], \"scattergl\": [{\"marker\": {\"colorbar\": {\"outlinewidth\": 0, \"ticks\": \"\"}}, \"type\": \"scattergl\"}], \"scattermapbox\": [{\"marker\": {\"colorbar\": {\"outlinewidth\": 0, \"ticks\": \"\"}}, \"type\": \"scattermapbox\"}], \"scatterpolar\": [{\"marker\": {\"colorbar\": {\"outlinewidth\": 0, \"ticks\": \"\"}}, \"type\": \"scatterpolar\"}], \"scatterpolargl\": [{\"marker\": {\"colorbar\": {\"outlinewidth\": 0, \"ticks\": \"\"}}, \"type\": \"scatterpolargl\"}], \"scatterternary\": [{\"marker\": {\"colorbar\": {\"outlinewidth\": 0, \"ticks\": \"\"}}, \"type\": \"scatterternary\"}], \"surface\": [{\"colorbar\": {\"outlinewidth\": 0, \"ticks\": \"\"}, \"colorscale\": [[0.0, \"#0d0887\"], [0.1111111111111111, \"#46039f\"], [0.2222222222222222, \"#7201a8\"], [0.3333333333333333, \"#9c179e\"], [0.4444444444444444, \"#bd3786\"], [0.5555555555555556, \"#d8576b\"], [0.6666666666666666, \"#ed7953\"], [0.7777777777777778, \"#fb9f3a\"], [0.8888888888888888, \"#fdca26\"], [1.0, \"#f0f921\"]], \"type\": \"surface\"}], \"table\": [{\"cells\": {\"fill\": {\"color\": \"#EBF0F8\"}, \"line\": {\"color\": \"white\"}}, \"header\": {\"fill\": {\"color\": \"#C8D4E3\"}, \"line\": {\"color\": \"white\"}}, \"type\": \"table\"}]}, \"layout\": {\"annotationdefaults\": {\"arrowcolor\": \"#2a3f5f\", \"arrowhead\": 0, \"arrowwidth\": 1}, \"coloraxis\": {\"colorbar\": {\"outlinewidth\": 0, \"ticks\": \"\"}}, \"colorscale\": {\"diverging\": [[0, \"#8e0152\"], [0.1, \"#c51b7d\"], [0.2, \"#de77ae\"], [0.3, \"#f1b6da\"], [0.4, \"#fde0ef\"], [0.5, \"#f7f7f7\"], [0.6, \"#e6f5d0\"], [0.7, \"#b8e186\"], [0.8, \"#7fbc41\"], [0.9, \"#4d9221\"], [1, \"#276419\"]], \"sequential\": [[0.0, \"#0d0887\"], [0.1111111111111111, \"#46039f\"], [0.2222222222222222, \"#7201a8\"], [0.3333333333333333, \"#9c179e\"], [0.4444444444444444, \"#bd3786\"], [0.5555555555555556, \"#d8576b\"], [0.6666666666666666, \"#ed7953\"], [0.7777777777777778, \"#fb9f3a\"], [0.8888888888888888, \"#fdca26\"], [1.0, \"#f0f921\"]], \"sequentialminus\": [[0.0, \"#0d0887\"], [0.1111111111111111, \"#46039f\"], [0.2222222222222222, \"#7201a8\"], [0.3333333333333333, \"#9c179e\"], [0.4444444444444444, \"#bd3786\"], [0.5555555555555556, \"#d8576b\"], [0.6666666666666666, \"#ed7953\"], [0.7777777777777778, \"#fb9f3a\"], [0.8888888888888888, \"#fdca26\"], [1.0, \"#f0f921\"]]}, \"colorway\": [\"#636efa\", \"#EF553B\", \"#00cc96\", \"#ab63fa\", \"#FFA15A\", \"#19d3f3\", \"#FF6692\", \"#B6E880\", \"#FF97FF\", \"#FECB52\"], \"font\": {\"color\": \"#2a3f5f\"}, \"geo\": {\"bgcolor\": \"white\", \"lakecolor\": \"white\", \"landcolor\": \"#E5ECF6\", \"showlakes\": true, \"showland\": true, \"subunitcolor\": \"white\"}, \"hoverlabel\": {\"align\": \"left\"}, \"hovermode\": \"closest\", \"mapbox\": {\"style\": \"light\"}, \"paper_bgcolor\": \"white\", \"plot_bgcolor\": \"#E5ECF6\", \"polar\": {\"angularaxis\": {\"gridcolor\": \"white\", \"linecolor\": \"white\", \"ticks\": \"\"}, \"bgcolor\": \"#E5ECF6\", \"radialaxis\": {\"gridcolor\": \"white\", \"linecolor\": \"white\", \"ticks\": \"\"}}, \"scene\": {\"xaxis\": {\"backgroundcolor\": \"#E5ECF6\", \"gridcolor\": \"white\", \"gridwidth\": 2, \"linecolor\": \"white\", \"showbackground\": true, \"ticks\": \"\", \"zerolinecolor\": \"white\"}, \"yaxis\": {\"backgroundcolor\": \"#E5ECF6\", \"gridcolor\": \"white\", \"gridwidth\": 2, \"linecolor\": \"white\", \"showbackground\": true, \"ticks\": \"\", \"zerolinecolor\": \"white\"}, \"zaxis\": {\"backgroundcolor\": \"#E5ECF6\", \"gridcolor\": \"white\", \"gridwidth\": 2, \"linecolor\": \"white\", \"showbackground\": true, \"ticks\": \"\", \"zerolinecolor\": \"white\"}}, \"shapedefaults\": {\"line\": {\"color\": \"#2a3f5f\"}}, \"ternary\": {\"aaxis\": {\"gridcolor\": \"white\", \"linecolor\": \"white\", \"ticks\": \"\"}, \"baxis\": {\"gridcolor\": \"white\", \"linecolor\": \"white\", \"ticks\": \"\"}, \"bgcolor\": \"#E5ECF6\", \"caxis\": {\"gridcolor\": \"white\", \"linecolor\": \"white\", \"ticks\": \"\"}}, \"title\": {\"x\": 0.05}, \"xaxis\": {\"automargin\": true, \"gridcolor\": \"white\", \"linecolor\": \"white\", \"ticks\": \"\", \"title\": {\"standoff\": 15}, \"zerolinecolor\": \"white\", \"zerolinewidth\": 2}, \"yaxis\": {\"automargin\": true, \"gridcolor\": \"white\", \"linecolor\": \"white\", \"ticks\": \"\", \"title\": {\"standoff\": 15}, \"zerolinecolor\": \"white\", \"zerolinewidth\": 2}}}},\n",
       "                        {\"responsive\": true}\n",
       "                    ).then(function(){\n",
       "                            \n",
       "var gd = document.getElementById('172653ce-704f-4989-8317-bbdfa5bddbd3');\n",
       "var x = new MutationObserver(function (mutations, observer) {{\n",
       "        var display = window.getComputedStyle(gd).display;\n",
       "        if (!display || display === 'none') {{\n",
       "            console.log([gd, 'removed!']);\n",
       "            Plotly.purge(gd);\n",
       "            observer.disconnect();\n",
       "        }}\n",
       "}});\n",
       "\n",
       "// Listen for the removal of the full notebook cells\n",
       "var notebookContainer = gd.closest('#notebook-container');\n",
       "if (notebookContainer) {{\n",
       "    x.observe(notebookContainer, {childList: true});\n",
       "}}\n",
       "\n",
       "// Listen for the clearing of the current output cell\n",
       "var outputEl = gd.closest('.output');\n",
       "if (outputEl) {{\n",
       "    x.observe(outputEl, {childList: true});\n",
       "}}\n",
       "\n",
       "                        })\n",
       "                };\n",
       "                });\n",
       "            </script>\n",
       "        </div>"
      ]
     },
     "metadata": {},
     "output_type": "display_data"
    }
   ],
   "source": [
    "distribution_list = []\n",
    "value_list = []\n",
    "\n",
    "for i in range(1,n):\n",
    "    distribution_list.append((i,n-i))\n",
    "    if (b-i)/(n-i)<=2:\n",
    "        value_list.append((b-i)/(n-i))\n",
    "    else:\n",
    "        value_list.append(2)\n",
    "fig = go.Figure(data=[go.Table(header=dict(values=['Distribution 1,2', 'Waterfilling Level']),\n",
    "                 cells=dict(values=[distribution_list, value_list]))\n",
    "                     ])\n",
    "fig.show()"
   ]
  },
  {
   "cell_type": "code",
   "execution_count": 27,
   "metadata": {},
   "outputs": [],
   "source": [
    "def dist(a,b):\n",
    "    return ((a[0]-b[0])**2+(a[1]-b[1])**2)**(1/2)"
   ]
  },
  {
   "cell_type": "code",
   "execution_count": 28,
   "metadata": {},
   "outputs": [
    {
     "data": {
      "application/vnd.plotly.v1+json": {
       "config": {
        "plotlyServerURL": "https://plot.ly"
       },
       "data": [
        {
         "hovertemplate": "x=%{x}<br>y=%{y}<extra></extra>",
         "legendgroup": "",
         "marker": {
          "color": "#636efa",
          "symbol": "circle"
         },
         "mode": "markers",
         "name": "",
         "showlegend": false,
         "type": "scatter",
         "x": [
          0,
          1.4142135623730951,
          2.8284271247461903,
          4.242640687119285,
          5.656854249492381,
          7.0710678118654755,
          8.48528137423857,
          9.899494936611665,
          11.313708498984761,
          12.727922061357855,
          14.142135623730951,
          15.556349186104045,
          16.97056274847714,
          18.384776310850235,
          19.79898987322333,
          21.213203435596427,
          22.627416997969522,
          24.041630560342615,
          25.45584412271571,
          1.4142135623730951,
          0,
          1.4142135623730951,
          2.8284271247461903,
          4.242640687119285,
          5.656854249492381,
          7.0710678118654755,
          8.48528137423857,
          9.899494936611665,
          11.313708498984761,
          12.727922061357855,
          14.142135623730951,
          15.556349186104045,
          16.97056274847714,
          18.384776310850235,
          19.79898987322333,
          21.213203435596427,
          22.627416997969522,
          24.041630560342615,
          2.8284271247461903,
          1.4142135623730951,
          0,
          1.4142135623730951,
          2.8284271247461903,
          4.242640687119285,
          5.656854249492381,
          7.0710678118654755,
          8.48528137423857,
          9.899494936611665,
          11.313708498984761,
          12.727922061357855,
          14.142135623730951,
          15.556349186104045,
          16.97056274847714,
          18.384776310850235,
          19.79898987322333,
          21.213203435596427,
          22.627416997969522,
          4.242640687119285,
          2.8284271247461903,
          1.4142135623730951,
          0,
          1.4142135623730951,
          2.8284271247461903,
          4.242640687119285,
          5.656854249492381,
          7.0710678118654755,
          8.48528137423857,
          9.899494936611665,
          11.313708498984761,
          12.727922061357855,
          14.142135623730951,
          15.556349186104045,
          16.97056274847714,
          18.384776310850235,
          19.79898987322333,
          21.213203435596427,
          5.656854249492381,
          4.242640687119285,
          2.8284271247461903,
          1.4142135623730951,
          0,
          1.4142135623730951,
          2.8284271247461903,
          4.242640687119285,
          5.656854249492381,
          7.0710678118654755,
          8.48528137423857,
          9.899494936611665,
          11.313708498984761,
          12.727922061357855,
          14.142135623730951,
          15.556349186104045,
          16.97056274847714,
          18.384776310850235,
          19.79898987322333,
          7.0710678118654755,
          5.656854249492381,
          4.242640687119285,
          2.8284271247461903,
          1.4142135623730951,
          0,
          1.4142135623730951,
          2.8284271247461903,
          4.242640687119285,
          5.656854249492381,
          7.0710678118654755,
          8.48528137423857,
          9.899494936611665,
          11.313708498984761,
          12.727922061357855,
          14.142135623730951,
          15.556349186104045,
          16.97056274847714,
          18.384776310850235,
          8.48528137423857,
          7.0710678118654755,
          5.656854249492381,
          4.242640687119285,
          2.8284271247461903,
          1.4142135623730951,
          0,
          1.4142135623730951,
          2.8284271247461903,
          4.242640687119285,
          5.656854249492381,
          7.0710678118654755,
          8.48528137423857,
          9.899494936611665,
          11.313708498984761,
          12.727922061357855,
          14.142135623730951,
          15.556349186104045,
          16.97056274847714,
          9.899494936611665,
          8.48528137423857,
          7.0710678118654755,
          5.656854249492381,
          4.242640687119285,
          2.8284271247461903,
          1.4142135623730951,
          0,
          1.4142135623730951,
          2.8284271247461903,
          4.242640687119285,
          5.656854249492381,
          7.0710678118654755,
          8.48528137423857,
          9.899494936611665,
          11.313708498984761,
          12.727922061357855,
          14.142135623730951,
          15.556349186104045,
          11.313708498984761,
          9.899494936611665,
          8.48528137423857,
          7.0710678118654755,
          5.656854249492381,
          4.242640687119285,
          2.8284271247461903,
          1.4142135623730951,
          0,
          1.4142135623730951,
          2.8284271247461903,
          4.242640687119285,
          5.656854249492381,
          7.0710678118654755,
          8.48528137423857,
          9.899494936611665,
          11.313708498984761,
          12.727922061357855,
          14.142135623730951,
          12.727922061357855,
          11.313708498984761,
          9.899494936611665,
          8.48528137423857,
          7.0710678118654755,
          5.656854249492381,
          4.242640687119285,
          2.8284271247461903,
          1.4142135623730951,
          0,
          1.4142135623730951,
          2.8284271247461903,
          4.242640687119285,
          5.656854249492381,
          7.0710678118654755,
          8.48528137423857,
          9.899494936611665,
          11.313708498984761,
          12.727922061357855,
          14.142135623730951,
          12.727922061357855,
          11.313708498984761,
          9.899494936611665,
          8.48528137423857,
          7.0710678118654755,
          5.656854249492381,
          4.242640687119285,
          2.8284271247461903,
          1.4142135623730951,
          0,
          1.4142135623730951,
          2.8284271247461903,
          4.242640687119285,
          5.656854249492381,
          7.0710678118654755,
          8.48528137423857,
          9.899494936611665,
          11.313708498984761,
          15.556349186104045,
          14.142135623730951,
          12.727922061357855,
          11.313708498984761,
          9.899494936611665,
          8.48528137423857,
          7.0710678118654755,
          5.656854249492381,
          4.242640687119285,
          2.8284271247461903,
          1.4142135623730951,
          0,
          1.4142135623730951,
          2.8284271247461903,
          4.242640687119285,
          5.656854249492381,
          7.0710678118654755,
          8.48528137423857,
          9.899494936611665,
          16.97056274847714,
          15.556349186104045,
          14.142135623730951,
          12.727922061357855,
          11.313708498984761,
          9.899494936611665,
          8.48528137423857,
          7.0710678118654755,
          5.656854249492381,
          4.242640687119285,
          2.8284271247461903,
          1.4142135623730951,
          0,
          1.4142135623730951,
          2.8284271247461903,
          4.242640687119285,
          5.656854249492381,
          7.0710678118654755,
          8.48528137423857,
          18.384776310850235,
          16.97056274847714,
          15.556349186104045,
          14.142135623730951,
          12.727922061357855,
          11.313708498984761,
          9.899494936611665,
          8.48528137423857,
          7.0710678118654755,
          5.656854249492381,
          4.242640687119285,
          2.8284271247461903,
          1.4142135623730951,
          0,
          1.4142135623730951,
          2.8284271247461903,
          4.242640687119285,
          5.656854249492381,
          7.0710678118654755,
          19.79898987322333,
          18.384776310850235,
          16.97056274847714,
          15.556349186104045,
          14.142135623730951,
          12.727922061357855,
          11.313708498984761,
          9.899494936611665,
          8.48528137423857,
          7.0710678118654755,
          5.656854249492381,
          4.242640687119285,
          2.8284271247461903,
          1.4142135623730951,
          0,
          1.4142135623730951,
          2.8284271247461903,
          4.242640687119285,
          5.656854249492381,
          21.213203435596427,
          19.79898987322333,
          18.384776310850235,
          16.97056274847714,
          15.556349186104045,
          14.142135623730951,
          12.727922061357855,
          11.313708498984761,
          9.899494936611665,
          8.48528137423857,
          7.0710678118654755,
          5.656854249492381,
          4.242640687119285,
          2.8284271247461903,
          1.4142135623730951,
          0,
          1.4142135623730951,
          2.8284271247461903,
          4.242640687119285,
          22.627416997969522,
          21.213203435596427,
          19.79898987322333,
          18.384776310850235,
          16.97056274847714,
          15.556349186104045,
          14.142135623730951,
          12.727922061357855,
          11.313708498984761,
          9.899494936611665,
          8.48528137423857,
          7.0710678118654755,
          5.656854249492381,
          4.242640687119285,
          2.8284271247461903,
          1.4142135623730951,
          0,
          1.4142135623730951,
          2.8284271247461903,
          24.041630560342615,
          22.627416997969522,
          21.213203435596427,
          19.79898987322333,
          18.384776310850235,
          16.97056274847714,
          15.556349186104045,
          14.142135623730951,
          12.727922061357855,
          11.313708498984761,
          9.899494936611665,
          8.48528137423857,
          7.0710678118654755,
          5.656854249492381,
          4.242640687119285,
          2.8284271247461903,
          1.4142135623730951,
          0,
          1.4142135623730951,
          25.45584412271571,
          24.041630560342615,
          22.627416997969522,
          21.213203435596427,
          19.79898987322333,
          18.384776310850235,
          16.97056274847714,
          15.556349186104045,
          14.142135623730951,
          12.727922061357855,
          11.313708498984761,
          9.899494936611665,
          8.48528137423857,
          7.0710678118654755,
          5.656854249492381,
          4.242640687119285,
          2.8284271247461903,
          1.4142135623730951,
          0
         ],
         "xaxis": "x",
         "y": [
          0,
          -0.029239766081871288,
          -0.061919504643962675,
          -0.09868421052631571,
          -0.14035087719298245,
          -0.1879699248120299,
          -0.24291497975708487,
          -0.30701754385964897,
          -0.3827751196172249,
          -0.4736842105263157,
          -0.4736842105263157,
          -0.4736842105263157,
          -0.4736842105263157,
          -0.4736842105263157,
          -0.4736842105263157,
          -0.4736842105263157,
          -0.4736842105263157,
          -0.4736842105263157,
          -0.4736842105263157,
          0.029239766081871288,
          0,
          -0.03267973856209139,
          -0.06944444444444442,
          -0.11111111111111116,
          -0.1587301587301586,
          -0.21367521367521358,
          -0.2777777777777777,
          -0.3535353535353536,
          -0.4444444444444444,
          -0.4444444444444444,
          -0.4444444444444444,
          -0.4444444444444444,
          -0.4444444444444444,
          -0.4444444444444444,
          -0.4444444444444444,
          -0.4444444444444444,
          -0.4444444444444444,
          -0.4444444444444444,
          0.061919504643962675,
          0.03267973856209139,
          0,
          -0.03676470588235303,
          -0.07843137254901977,
          -0.12605042016806722,
          -0.1809954751131222,
          -0.2450980392156863,
          -0.3208556149732622,
          -0.41176470588235303,
          -0.41176470588235303,
          -0.41176470588235303,
          -0.41176470588235303,
          -0.41176470588235303,
          -0.41176470588235303,
          -0.41176470588235303,
          -0.41176470588235303,
          -0.41176470588235303,
          -0.41176470588235303,
          0.09868421052631571,
          0.06944444444444442,
          0.03676470588235303,
          0,
          -0.04166666666666674,
          -0.08928571428571419,
          -0.14423076923076916,
          -0.20833333333333326,
          -0.28409090909090917,
          -0.375,
          -0.375,
          -0.375,
          -0.375,
          -0.375,
          -0.375,
          -0.375,
          -0.375,
          -0.375,
          -0.375,
          0.14035087719298245,
          0.11111111111111116,
          0.07843137254901977,
          0.04166666666666674,
          0,
          -0.04761904761904745,
          -0.10256410256410242,
          -0.16666666666666652,
          -0.24242424242424243,
          -0.33333333333333326,
          -0.33333333333333326,
          -0.33333333333333326,
          -0.33333333333333326,
          -0.33333333333333326,
          -0.33333333333333326,
          -0.33333333333333326,
          -0.33333333333333326,
          -0.33333333333333326,
          -0.33333333333333326,
          0.1879699248120299,
          0.1587301587301586,
          0.12605042016806722,
          0.08928571428571419,
          0.04761904761904745,
          0,
          -0.05494505494505497,
          -0.11904761904761907,
          -0.19480519480519498,
          -0.2857142857142858,
          -0.2857142857142858,
          -0.2857142857142858,
          -0.2857142857142858,
          -0.2857142857142858,
          -0.2857142857142858,
          -0.2857142857142858,
          -0.2857142857142858,
          -0.2857142857142858,
          -0.2857142857142858,
          0.24291497975708487,
          0.21367521367521358,
          0.1809954751131222,
          0.14423076923076916,
          0.10256410256410242,
          0.05494505494505497,
          0,
          -0.0641025641025641,
          -0.13986013986014,
          -0.23076923076923084,
          -0.23076923076923084,
          -0.23076923076923084,
          -0.23076923076923084,
          -0.23076923076923084,
          -0.23076923076923084,
          -0.23076923076923084,
          -0.23076923076923084,
          -0.23076923076923084,
          -0.23076923076923084,
          0.30701754385964897,
          0.2777777777777777,
          0.2450980392156863,
          0.20833333333333326,
          0.16666666666666652,
          0.11904761904761907,
          0.0641025641025641,
          0,
          -0.07575757575757591,
          -0.16666666666666674,
          -0.16666666666666674,
          -0.16666666666666674,
          -0.16666666666666674,
          -0.16666666666666674,
          -0.16666666666666674,
          -0.16666666666666674,
          -0.16666666666666674,
          -0.16666666666666674,
          -0.16666666666666674,
          0.3827751196172249,
          0.3535353535353536,
          0.3208556149732622,
          0.28409090909090917,
          0.24242424242424243,
          0.19480519480519498,
          0.13986013986014,
          0.07575757575757591,
          0,
          -0.09090909090909083,
          -0.09090909090909083,
          -0.09090909090909083,
          -0.09090909090909083,
          -0.09090909090909083,
          -0.09090909090909083,
          -0.09090909090909083,
          -0.09090909090909083,
          -0.09090909090909083,
          -0.09090909090909083,
          0.4736842105263157,
          0.4444444444444444,
          0.41176470588235303,
          0.375,
          0.33333333333333326,
          0.2857142857142858,
          0.23076923076923084,
          0.16666666666666674,
          0.09090909090909083,
          0,
          0,
          0,
          0,
          0,
          0,
          0,
          0,
          0,
          0,
          0.4736842105263157,
          0.4444444444444444,
          0.41176470588235303,
          0.375,
          0.33333333333333326,
          0.2857142857142858,
          0.23076923076923084,
          0.16666666666666674,
          0.09090909090909083,
          0,
          0,
          0,
          0,
          0,
          0,
          0,
          0,
          0,
          0,
          0.4736842105263157,
          0.4444444444444444,
          0.41176470588235303,
          0.375,
          0.33333333333333326,
          0.2857142857142858,
          0.23076923076923084,
          0.16666666666666674,
          0.09090909090909083,
          0,
          0,
          0,
          0,
          0,
          0,
          0,
          0,
          0,
          0,
          0.4736842105263157,
          0.4444444444444444,
          0.41176470588235303,
          0.375,
          0.33333333333333326,
          0.2857142857142858,
          0.23076923076923084,
          0.16666666666666674,
          0.09090909090909083,
          0,
          0,
          0,
          0,
          0,
          0,
          0,
          0,
          0,
          0,
          0.4736842105263157,
          0.4444444444444444,
          0.41176470588235303,
          0.375,
          0.33333333333333326,
          0.2857142857142858,
          0.23076923076923084,
          0.16666666666666674,
          0.09090909090909083,
          0,
          0,
          0,
          0,
          0,
          0,
          0,
          0,
          0,
          0,
          0.4736842105263157,
          0.4444444444444444,
          0.41176470588235303,
          0.375,
          0.33333333333333326,
          0.2857142857142858,
          0.23076923076923084,
          0.16666666666666674,
          0.09090909090909083,
          0,
          0,
          0,
          0,
          0,
          0,
          0,
          0,
          0,
          0,
          0.4736842105263157,
          0.4444444444444444,
          0.41176470588235303,
          0.375,
          0.33333333333333326,
          0.2857142857142858,
          0.23076923076923084,
          0.16666666666666674,
          0.09090909090909083,
          0,
          0,
          0,
          0,
          0,
          0,
          0,
          0,
          0,
          0,
          0.4736842105263157,
          0.4444444444444444,
          0.41176470588235303,
          0.375,
          0.33333333333333326,
          0.2857142857142858,
          0.23076923076923084,
          0.16666666666666674,
          0.09090909090909083,
          0,
          0,
          0,
          0,
          0,
          0,
          0,
          0,
          0,
          0,
          0.4736842105263157,
          0.4444444444444444,
          0.41176470588235303,
          0.375,
          0.33333333333333326,
          0.2857142857142858,
          0.23076923076923084,
          0.16666666666666674,
          0.09090909090909083,
          0,
          0,
          0,
          0,
          0,
          0,
          0,
          0,
          0,
          0,
          0.4736842105263157,
          0.4444444444444444,
          0.41176470588235303,
          0.375,
          0.33333333333333326,
          0.2857142857142858,
          0.23076923076923084,
          0.16666666666666674,
          0.09090909090909083,
          0,
          0,
          0,
          0,
          0,
          0,
          0,
          0,
          0,
          0
         ],
         "yaxis": "y"
        }
       ],
       "layout": {
        "legend": {
         "tracegroupgap": 0
        },
        "margin": {
         "t": 60
        },
        "template": {
         "data": {
          "bar": [
           {
            "error_x": {
             "color": "#2a3f5f"
            },
            "error_y": {
             "color": "#2a3f5f"
            },
            "marker": {
             "line": {
              "color": "#E5ECF6",
              "width": 0.5
             }
            },
            "type": "bar"
           }
          ],
          "barpolar": [
           {
            "marker": {
             "line": {
              "color": "#E5ECF6",
              "width": 0.5
             }
            },
            "type": "barpolar"
           }
          ],
          "carpet": [
           {
            "aaxis": {
             "endlinecolor": "#2a3f5f",
             "gridcolor": "white",
             "linecolor": "white",
             "minorgridcolor": "white",
             "startlinecolor": "#2a3f5f"
            },
            "baxis": {
             "endlinecolor": "#2a3f5f",
             "gridcolor": "white",
             "linecolor": "white",
             "minorgridcolor": "white",
             "startlinecolor": "#2a3f5f"
            },
            "type": "carpet"
           }
          ],
          "choropleth": [
           {
            "colorbar": {
             "outlinewidth": 0,
             "ticks": ""
            },
            "type": "choropleth"
           }
          ],
          "contour": [
           {
            "colorbar": {
             "outlinewidth": 0,
             "ticks": ""
            },
            "colorscale": [
             [
              0,
              "#0d0887"
             ],
             [
              0.1111111111111111,
              "#46039f"
             ],
             [
              0.2222222222222222,
              "#7201a8"
             ],
             [
              0.3333333333333333,
              "#9c179e"
             ],
             [
              0.4444444444444444,
              "#bd3786"
             ],
             [
              0.5555555555555556,
              "#d8576b"
             ],
             [
              0.6666666666666666,
              "#ed7953"
             ],
             [
              0.7777777777777778,
              "#fb9f3a"
             ],
             [
              0.8888888888888888,
              "#fdca26"
             ],
             [
              1,
              "#f0f921"
             ]
            ],
            "type": "contour"
           }
          ],
          "contourcarpet": [
           {
            "colorbar": {
             "outlinewidth": 0,
             "ticks": ""
            },
            "type": "contourcarpet"
           }
          ],
          "heatmap": [
           {
            "colorbar": {
             "outlinewidth": 0,
             "ticks": ""
            },
            "colorscale": [
             [
              0,
              "#0d0887"
             ],
             [
              0.1111111111111111,
              "#46039f"
             ],
             [
              0.2222222222222222,
              "#7201a8"
             ],
             [
              0.3333333333333333,
              "#9c179e"
             ],
             [
              0.4444444444444444,
              "#bd3786"
             ],
             [
              0.5555555555555556,
              "#d8576b"
             ],
             [
              0.6666666666666666,
              "#ed7953"
             ],
             [
              0.7777777777777778,
              "#fb9f3a"
             ],
             [
              0.8888888888888888,
              "#fdca26"
             ],
             [
              1,
              "#f0f921"
             ]
            ],
            "type": "heatmap"
           }
          ],
          "heatmapgl": [
           {
            "colorbar": {
             "outlinewidth": 0,
             "ticks": ""
            },
            "colorscale": [
             [
              0,
              "#0d0887"
             ],
             [
              0.1111111111111111,
              "#46039f"
             ],
             [
              0.2222222222222222,
              "#7201a8"
             ],
             [
              0.3333333333333333,
              "#9c179e"
             ],
             [
              0.4444444444444444,
              "#bd3786"
             ],
             [
              0.5555555555555556,
              "#d8576b"
             ],
             [
              0.6666666666666666,
              "#ed7953"
             ],
             [
              0.7777777777777778,
              "#fb9f3a"
             ],
             [
              0.8888888888888888,
              "#fdca26"
             ],
             [
              1,
              "#f0f921"
             ]
            ],
            "type": "heatmapgl"
           }
          ],
          "histogram": [
           {
            "marker": {
             "colorbar": {
              "outlinewidth": 0,
              "ticks": ""
             }
            },
            "type": "histogram"
           }
          ],
          "histogram2d": [
           {
            "colorbar": {
             "outlinewidth": 0,
             "ticks": ""
            },
            "colorscale": [
             [
              0,
              "#0d0887"
             ],
             [
              0.1111111111111111,
              "#46039f"
             ],
             [
              0.2222222222222222,
              "#7201a8"
             ],
             [
              0.3333333333333333,
              "#9c179e"
             ],
             [
              0.4444444444444444,
              "#bd3786"
             ],
             [
              0.5555555555555556,
              "#d8576b"
             ],
             [
              0.6666666666666666,
              "#ed7953"
             ],
             [
              0.7777777777777778,
              "#fb9f3a"
             ],
             [
              0.8888888888888888,
              "#fdca26"
             ],
             [
              1,
              "#f0f921"
             ]
            ],
            "type": "histogram2d"
           }
          ],
          "histogram2dcontour": [
           {
            "colorbar": {
             "outlinewidth": 0,
             "ticks": ""
            },
            "colorscale": [
             [
              0,
              "#0d0887"
             ],
             [
              0.1111111111111111,
              "#46039f"
             ],
             [
              0.2222222222222222,
              "#7201a8"
             ],
             [
              0.3333333333333333,
              "#9c179e"
             ],
             [
              0.4444444444444444,
              "#bd3786"
             ],
             [
              0.5555555555555556,
              "#d8576b"
             ],
             [
              0.6666666666666666,
              "#ed7953"
             ],
             [
              0.7777777777777778,
              "#fb9f3a"
             ],
             [
              0.8888888888888888,
              "#fdca26"
             ],
             [
              1,
              "#f0f921"
             ]
            ],
            "type": "histogram2dcontour"
           }
          ],
          "mesh3d": [
           {
            "colorbar": {
             "outlinewidth": 0,
             "ticks": ""
            },
            "type": "mesh3d"
           }
          ],
          "parcoords": [
           {
            "line": {
             "colorbar": {
              "outlinewidth": 0,
              "ticks": ""
             }
            },
            "type": "parcoords"
           }
          ],
          "pie": [
           {
            "automargin": true,
            "type": "pie"
           }
          ],
          "scatter": [
           {
            "marker": {
             "colorbar": {
              "outlinewidth": 0,
              "ticks": ""
             }
            },
            "type": "scatter"
           }
          ],
          "scatter3d": [
           {
            "line": {
             "colorbar": {
              "outlinewidth": 0,
              "ticks": ""
             }
            },
            "marker": {
             "colorbar": {
              "outlinewidth": 0,
              "ticks": ""
             }
            },
            "type": "scatter3d"
           }
          ],
          "scattercarpet": [
           {
            "marker": {
             "colorbar": {
              "outlinewidth": 0,
              "ticks": ""
             }
            },
            "type": "scattercarpet"
           }
          ],
          "scattergeo": [
           {
            "marker": {
             "colorbar": {
              "outlinewidth": 0,
              "ticks": ""
             }
            },
            "type": "scattergeo"
           }
          ],
          "scattergl": [
           {
            "marker": {
             "colorbar": {
              "outlinewidth": 0,
              "ticks": ""
             }
            },
            "type": "scattergl"
           }
          ],
          "scattermapbox": [
           {
            "marker": {
             "colorbar": {
              "outlinewidth": 0,
              "ticks": ""
             }
            },
            "type": "scattermapbox"
           }
          ],
          "scatterpolar": [
           {
            "marker": {
             "colorbar": {
              "outlinewidth": 0,
              "ticks": ""
             }
            },
            "type": "scatterpolar"
           }
          ],
          "scatterpolargl": [
           {
            "marker": {
             "colorbar": {
              "outlinewidth": 0,
              "ticks": ""
             }
            },
            "type": "scatterpolargl"
           }
          ],
          "scatterternary": [
           {
            "marker": {
             "colorbar": {
              "outlinewidth": 0,
              "ticks": ""
             }
            },
            "type": "scatterternary"
           }
          ],
          "surface": [
           {
            "colorbar": {
             "outlinewidth": 0,
             "ticks": ""
            },
            "colorscale": [
             [
              0,
              "#0d0887"
             ],
             [
              0.1111111111111111,
              "#46039f"
             ],
             [
              0.2222222222222222,
              "#7201a8"
             ],
             [
              0.3333333333333333,
              "#9c179e"
             ],
             [
              0.4444444444444444,
              "#bd3786"
             ],
             [
              0.5555555555555556,
              "#d8576b"
             ],
             [
              0.6666666666666666,
              "#ed7953"
             ],
             [
              0.7777777777777778,
              "#fb9f3a"
             ],
             [
              0.8888888888888888,
              "#fdca26"
             ],
             [
              1,
              "#f0f921"
             ]
            ],
            "type": "surface"
           }
          ],
          "table": [
           {
            "cells": {
             "fill": {
              "color": "#EBF0F8"
             },
             "line": {
              "color": "white"
             }
            },
            "header": {
             "fill": {
              "color": "#C8D4E3"
             },
             "line": {
              "color": "white"
             }
            },
            "type": "table"
           }
          ]
         },
         "layout": {
          "annotationdefaults": {
           "arrowcolor": "#2a3f5f",
           "arrowhead": 0,
           "arrowwidth": 1
          },
          "coloraxis": {
           "colorbar": {
            "outlinewidth": 0,
            "ticks": ""
           }
          },
          "colorscale": {
           "diverging": [
            [
             0,
             "#8e0152"
            ],
            [
             0.1,
             "#c51b7d"
            ],
            [
             0.2,
             "#de77ae"
            ],
            [
             0.3,
             "#f1b6da"
            ],
            [
             0.4,
             "#fde0ef"
            ],
            [
             0.5,
             "#f7f7f7"
            ],
            [
             0.6,
             "#e6f5d0"
            ],
            [
             0.7,
             "#b8e186"
            ],
            [
             0.8,
             "#7fbc41"
            ],
            [
             0.9,
             "#4d9221"
            ],
            [
             1,
             "#276419"
            ]
           ],
           "sequential": [
            [
             0,
             "#0d0887"
            ],
            [
             0.1111111111111111,
             "#46039f"
            ],
            [
             0.2222222222222222,
             "#7201a8"
            ],
            [
             0.3333333333333333,
             "#9c179e"
            ],
            [
             0.4444444444444444,
             "#bd3786"
            ],
            [
             0.5555555555555556,
             "#d8576b"
            ],
            [
             0.6666666666666666,
             "#ed7953"
            ],
            [
             0.7777777777777778,
             "#fb9f3a"
            ],
            [
             0.8888888888888888,
             "#fdca26"
            ],
            [
             1,
             "#f0f921"
            ]
           ],
           "sequentialminus": [
            [
             0,
             "#0d0887"
            ],
            [
             0.1111111111111111,
             "#46039f"
            ],
            [
             0.2222222222222222,
             "#7201a8"
            ],
            [
             0.3333333333333333,
             "#9c179e"
            ],
            [
             0.4444444444444444,
             "#bd3786"
            ],
            [
             0.5555555555555556,
             "#d8576b"
            ],
            [
             0.6666666666666666,
             "#ed7953"
            ],
            [
             0.7777777777777778,
             "#fb9f3a"
            ],
            [
             0.8888888888888888,
             "#fdca26"
            ],
            [
             1,
             "#f0f921"
            ]
           ]
          },
          "colorway": [
           "#636efa",
           "#EF553B",
           "#00cc96",
           "#ab63fa",
           "#FFA15A",
           "#19d3f3",
           "#FF6692",
           "#B6E880",
           "#FF97FF",
           "#FECB52"
          ],
          "font": {
           "color": "#2a3f5f"
          },
          "geo": {
           "bgcolor": "white",
           "lakecolor": "white",
           "landcolor": "#E5ECF6",
           "showlakes": true,
           "showland": true,
           "subunitcolor": "white"
          },
          "hoverlabel": {
           "align": "left"
          },
          "hovermode": "closest",
          "mapbox": {
           "style": "light"
          },
          "paper_bgcolor": "white",
          "plot_bgcolor": "#E5ECF6",
          "polar": {
           "angularaxis": {
            "gridcolor": "white",
            "linecolor": "white",
            "ticks": ""
           },
           "bgcolor": "#E5ECF6",
           "radialaxis": {
            "gridcolor": "white",
            "linecolor": "white",
            "ticks": ""
           }
          },
          "scene": {
           "xaxis": {
            "backgroundcolor": "#E5ECF6",
            "gridcolor": "white",
            "gridwidth": 2,
            "linecolor": "white",
            "showbackground": true,
            "ticks": "",
            "zerolinecolor": "white"
           },
           "yaxis": {
            "backgroundcolor": "#E5ECF6",
            "gridcolor": "white",
            "gridwidth": 2,
            "linecolor": "white",
            "showbackground": true,
            "ticks": "",
            "zerolinecolor": "white"
           },
           "zaxis": {
            "backgroundcolor": "#E5ECF6",
            "gridcolor": "white",
            "gridwidth": 2,
            "linecolor": "white",
            "showbackground": true,
            "ticks": "",
            "zerolinecolor": "white"
           }
          },
          "shapedefaults": {
           "line": {
            "color": "#2a3f5f"
           }
          },
          "ternary": {
           "aaxis": {
            "gridcolor": "white",
            "linecolor": "white",
            "ticks": ""
           },
           "baxis": {
            "gridcolor": "white",
            "linecolor": "white",
            "ticks": ""
           },
           "bgcolor": "#E5ECF6",
           "caxis": {
            "gridcolor": "white",
            "linecolor": "white",
            "ticks": ""
           }
          },
          "title": {
           "x": 0.05
          },
          "xaxis": {
           "automargin": true,
           "gridcolor": "white",
           "linecolor": "white",
           "ticks": "",
           "title": {
            "standoff": 15
           },
           "zerolinecolor": "white",
           "zerolinewidth": 2
          },
          "yaxis": {
           "automargin": true,
           "gridcolor": "white",
           "linecolor": "white",
           "ticks": "",
           "title": {
            "standoff": 15
           },
           "zerolinecolor": "white",
           "zerolinewidth": 2
          }
         }
        },
        "title": {
         "text": "Demand Distribution L2 vs Waterfilling Level Difference"
        },
        "xaxis": {
         "anchor": "y",
         "domain": [
          0,
          1
         ],
         "title": {
          "text": "Demand Distribution Distance"
         }
        },
        "yaxis": {
         "anchor": "x",
         "domain": [
          0,
          1
         ],
         "title": {
          "text": "Waterfilling Level Difference"
         }
        }
       }
      },
      "text/html": [
       "<div>\n",
       "        \n",
       "        \n",
       "            <div id=\"7eb19f48-e4fa-499f-9780-aaf8c2793632\" class=\"plotly-graph-div\" style=\"height:525px; width:100%;\"></div>\n",
       "            <script type=\"text/javascript\">\n",
       "                require([\"plotly\"], function(Plotly) {\n",
       "                    window.PLOTLYENV=window.PLOTLYENV || {};\n",
       "                    \n",
       "                if (document.getElementById(\"7eb19f48-e4fa-499f-9780-aaf8c2793632\")) {\n",
       "                    Plotly.newPlot(\n",
       "                        '7eb19f48-e4fa-499f-9780-aaf8c2793632',\n",
       "                        [{\"hovertemplate\": \"x=%{x}<br>y=%{y}<extra></extra>\", \"legendgroup\": \"\", \"marker\": {\"color\": \"#636efa\", \"symbol\": \"circle\"}, \"mode\": \"markers\", \"name\": \"\", \"showlegend\": false, \"type\": \"scatter\", \"x\": [0.0, 1.4142135623730951, 2.8284271247461903, 4.242640687119285, 5.656854249492381, 7.0710678118654755, 8.48528137423857, 9.899494936611665, 11.313708498984761, 12.727922061357855, 14.142135623730951, 15.556349186104045, 16.97056274847714, 18.384776310850235, 19.79898987322333, 21.213203435596427, 22.627416997969522, 24.041630560342615, 25.45584412271571, 1.4142135623730951, 0.0, 1.4142135623730951, 2.8284271247461903, 4.242640687119285, 5.656854249492381, 7.0710678118654755, 8.48528137423857, 9.899494936611665, 11.313708498984761, 12.727922061357855, 14.142135623730951, 15.556349186104045, 16.97056274847714, 18.384776310850235, 19.79898987322333, 21.213203435596427, 22.627416997969522, 24.041630560342615, 2.8284271247461903, 1.4142135623730951, 0.0, 1.4142135623730951, 2.8284271247461903, 4.242640687119285, 5.656854249492381, 7.0710678118654755, 8.48528137423857, 9.899494936611665, 11.313708498984761, 12.727922061357855, 14.142135623730951, 15.556349186104045, 16.97056274847714, 18.384776310850235, 19.79898987322333, 21.213203435596427, 22.627416997969522, 4.242640687119285, 2.8284271247461903, 1.4142135623730951, 0.0, 1.4142135623730951, 2.8284271247461903, 4.242640687119285, 5.656854249492381, 7.0710678118654755, 8.48528137423857, 9.899494936611665, 11.313708498984761, 12.727922061357855, 14.142135623730951, 15.556349186104045, 16.97056274847714, 18.384776310850235, 19.79898987322333, 21.213203435596427, 5.656854249492381, 4.242640687119285, 2.8284271247461903, 1.4142135623730951, 0.0, 1.4142135623730951, 2.8284271247461903, 4.242640687119285, 5.656854249492381, 7.0710678118654755, 8.48528137423857, 9.899494936611665, 11.313708498984761, 12.727922061357855, 14.142135623730951, 15.556349186104045, 16.97056274847714, 18.384776310850235, 19.79898987322333, 7.0710678118654755, 5.656854249492381, 4.242640687119285, 2.8284271247461903, 1.4142135623730951, 0.0, 1.4142135623730951, 2.8284271247461903, 4.242640687119285, 5.656854249492381, 7.0710678118654755, 8.48528137423857, 9.899494936611665, 11.313708498984761, 12.727922061357855, 14.142135623730951, 15.556349186104045, 16.97056274847714, 18.384776310850235, 8.48528137423857, 7.0710678118654755, 5.656854249492381, 4.242640687119285, 2.8284271247461903, 1.4142135623730951, 0.0, 1.4142135623730951, 2.8284271247461903, 4.242640687119285, 5.656854249492381, 7.0710678118654755, 8.48528137423857, 9.899494936611665, 11.313708498984761, 12.727922061357855, 14.142135623730951, 15.556349186104045, 16.97056274847714, 9.899494936611665, 8.48528137423857, 7.0710678118654755, 5.656854249492381, 4.242640687119285, 2.8284271247461903, 1.4142135623730951, 0.0, 1.4142135623730951, 2.8284271247461903, 4.242640687119285, 5.656854249492381, 7.0710678118654755, 8.48528137423857, 9.899494936611665, 11.313708498984761, 12.727922061357855, 14.142135623730951, 15.556349186104045, 11.313708498984761, 9.899494936611665, 8.48528137423857, 7.0710678118654755, 5.656854249492381, 4.242640687119285, 2.8284271247461903, 1.4142135623730951, 0.0, 1.4142135623730951, 2.8284271247461903, 4.242640687119285, 5.656854249492381, 7.0710678118654755, 8.48528137423857, 9.899494936611665, 11.313708498984761, 12.727922061357855, 14.142135623730951, 12.727922061357855, 11.313708498984761, 9.899494936611665, 8.48528137423857, 7.0710678118654755, 5.656854249492381, 4.242640687119285, 2.8284271247461903, 1.4142135623730951, 0.0, 1.4142135623730951, 2.8284271247461903, 4.242640687119285, 5.656854249492381, 7.0710678118654755, 8.48528137423857, 9.899494936611665, 11.313708498984761, 12.727922061357855, 14.142135623730951, 12.727922061357855, 11.313708498984761, 9.899494936611665, 8.48528137423857, 7.0710678118654755, 5.656854249492381, 4.242640687119285, 2.8284271247461903, 1.4142135623730951, 0.0, 1.4142135623730951, 2.8284271247461903, 4.242640687119285, 5.656854249492381, 7.0710678118654755, 8.48528137423857, 9.899494936611665, 11.313708498984761, 15.556349186104045, 14.142135623730951, 12.727922061357855, 11.313708498984761, 9.899494936611665, 8.48528137423857, 7.0710678118654755, 5.656854249492381, 4.242640687119285, 2.8284271247461903, 1.4142135623730951, 0.0, 1.4142135623730951, 2.8284271247461903, 4.242640687119285, 5.656854249492381, 7.0710678118654755, 8.48528137423857, 9.899494936611665, 16.97056274847714, 15.556349186104045, 14.142135623730951, 12.727922061357855, 11.313708498984761, 9.899494936611665, 8.48528137423857, 7.0710678118654755, 5.656854249492381, 4.242640687119285, 2.8284271247461903, 1.4142135623730951, 0.0, 1.4142135623730951, 2.8284271247461903, 4.242640687119285, 5.656854249492381, 7.0710678118654755, 8.48528137423857, 18.384776310850235, 16.97056274847714, 15.556349186104045, 14.142135623730951, 12.727922061357855, 11.313708498984761, 9.899494936611665, 8.48528137423857, 7.0710678118654755, 5.656854249492381, 4.242640687119285, 2.8284271247461903, 1.4142135623730951, 0.0, 1.4142135623730951, 2.8284271247461903, 4.242640687119285, 5.656854249492381, 7.0710678118654755, 19.79898987322333, 18.384776310850235, 16.97056274847714, 15.556349186104045, 14.142135623730951, 12.727922061357855, 11.313708498984761, 9.899494936611665, 8.48528137423857, 7.0710678118654755, 5.656854249492381, 4.242640687119285, 2.8284271247461903, 1.4142135623730951, 0.0, 1.4142135623730951, 2.8284271247461903, 4.242640687119285, 5.656854249492381, 21.213203435596427, 19.79898987322333, 18.384776310850235, 16.97056274847714, 15.556349186104045, 14.142135623730951, 12.727922061357855, 11.313708498984761, 9.899494936611665, 8.48528137423857, 7.0710678118654755, 5.656854249492381, 4.242640687119285, 2.8284271247461903, 1.4142135623730951, 0.0, 1.4142135623730951, 2.8284271247461903, 4.242640687119285, 22.627416997969522, 21.213203435596427, 19.79898987322333, 18.384776310850235, 16.97056274847714, 15.556349186104045, 14.142135623730951, 12.727922061357855, 11.313708498984761, 9.899494936611665, 8.48528137423857, 7.0710678118654755, 5.656854249492381, 4.242640687119285, 2.8284271247461903, 1.4142135623730951, 0.0, 1.4142135623730951, 2.8284271247461903, 24.041630560342615, 22.627416997969522, 21.213203435596427, 19.79898987322333, 18.384776310850235, 16.97056274847714, 15.556349186104045, 14.142135623730951, 12.727922061357855, 11.313708498984761, 9.899494936611665, 8.48528137423857, 7.0710678118654755, 5.656854249492381, 4.242640687119285, 2.8284271247461903, 1.4142135623730951, 0.0, 1.4142135623730951, 25.45584412271571, 24.041630560342615, 22.627416997969522, 21.213203435596427, 19.79898987322333, 18.384776310850235, 16.97056274847714, 15.556349186104045, 14.142135623730951, 12.727922061357855, 11.313708498984761, 9.899494936611665, 8.48528137423857, 7.0710678118654755, 5.656854249492381, 4.242640687119285, 2.8284271247461903, 1.4142135623730951, 0.0], \"xaxis\": \"x\", \"y\": [0.0, -0.029239766081871288, -0.061919504643962675, -0.09868421052631571, -0.14035087719298245, -0.1879699248120299, -0.24291497975708487, -0.30701754385964897, -0.3827751196172249, -0.4736842105263157, -0.4736842105263157, -0.4736842105263157, -0.4736842105263157, -0.4736842105263157, -0.4736842105263157, -0.4736842105263157, -0.4736842105263157, -0.4736842105263157, -0.4736842105263157, 0.029239766081871288, 0.0, -0.03267973856209139, -0.06944444444444442, -0.11111111111111116, -0.1587301587301586, -0.21367521367521358, -0.2777777777777777, -0.3535353535353536, -0.4444444444444444, -0.4444444444444444, -0.4444444444444444, -0.4444444444444444, -0.4444444444444444, -0.4444444444444444, -0.4444444444444444, -0.4444444444444444, -0.4444444444444444, -0.4444444444444444, 0.061919504643962675, 0.03267973856209139, 0.0, -0.03676470588235303, -0.07843137254901977, -0.12605042016806722, -0.1809954751131222, -0.2450980392156863, -0.3208556149732622, -0.41176470588235303, -0.41176470588235303, -0.41176470588235303, -0.41176470588235303, -0.41176470588235303, -0.41176470588235303, -0.41176470588235303, -0.41176470588235303, -0.41176470588235303, -0.41176470588235303, 0.09868421052631571, 0.06944444444444442, 0.03676470588235303, 0.0, -0.04166666666666674, -0.08928571428571419, -0.14423076923076916, -0.20833333333333326, -0.28409090909090917, -0.375, -0.375, -0.375, -0.375, -0.375, -0.375, -0.375, -0.375, -0.375, -0.375, 0.14035087719298245, 0.11111111111111116, 0.07843137254901977, 0.04166666666666674, 0.0, -0.04761904761904745, -0.10256410256410242, -0.16666666666666652, -0.24242424242424243, -0.33333333333333326, -0.33333333333333326, -0.33333333333333326, -0.33333333333333326, -0.33333333333333326, -0.33333333333333326, -0.33333333333333326, -0.33333333333333326, -0.33333333333333326, -0.33333333333333326, 0.1879699248120299, 0.1587301587301586, 0.12605042016806722, 0.08928571428571419, 0.04761904761904745, 0.0, -0.05494505494505497, -0.11904761904761907, -0.19480519480519498, -0.2857142857142858, -0.2857142857142858, -0.2857142857142858, -0.2857142857142858, -0.2857142857142858, -0.2857142857142858, -0.2857142857142858, -0.2857142857142858, -0.2857142857142858, -0.2857142857142858, 0.24291497975708487, 0.21367521367521358, 0.1809954751131222, 0.14423076923076916, 0.10256410256410242, 0.05494505494505497, 0.0, -0.0641025641025641, -0.13986013986014, -0.23076923076923084, -0.23076923076923084, -0.23076923076923084, -0.23076923076923084, -0.23076923076923084, -0.23076923076923084, -0.23076923076923084, -0.23076923076923084, -0.23076923076923084, -0.23076923076923084, 0.30701754385964897, 0.2777777777777777, 0.2450980392156863, 0.20833333333333326, 0.16666666666666652, 0.11904761904761907, 0.0641025641025641, 0.0, -0.07575757575757591, -0.16666666666666674, -0.16666666666666674, -0.16666666666666674, -0.16666666666666674, -0.16666666666666674, -0.16666666666666674, -0.16666666666666674, -0.16666666666666674, -0.16666666666666674, -0.16666666666666674, 0.3827751196172249, 0.3535353535353536, 0.3208556149732622, 0.28409090909090917, 0.24242424242424243, 0.19480519480519498, 0.13986013986014, 0.07575757575757591, 0.0, -0.09090909090909083, -0.09090909090909083, -0.09090909090909083, -0.09090909090909083, -0.09090909090909083, -0.09090909090909083, -0.09090909090909083, -0.09090909090909083, -0.09090909090909083, -0.09090909090909083, 0.4736842105263157, 0.4444444444444444, 0.41176470588235303, 0.375, 0.33333333333333326, 0.2857142857142858, 0.23076923076923084, 0.16666666666666674, 0.09090909090909083, 0.0, 0.0, 0.0, 0.0, 0.0, 0.0, 0.0, 0.0, 0.0, 0.0, 0.4736842105263157, 0.4444444444444444, 0.41176470588235303, 0.375, 0.33333333333333326, 0.2857142857142858, 0.23076923076923084, 0.16666666666666674, 0.09090909090909083, 0.0, 0.0, 0.0, 0.0, 0.0, 0.0, 0.0, 0.0, 0.0, 0.0, 0.4736842105263157, 0.4444444444444444, 0.41176470588235303, 0.375, 0.33333333333333326, 0.2857142857142858, 0.23076923076923084, 0.16666666666666674, 0.09090909090909083, 0.0, 0.0, 0.0, 0.0, 0.0, 0.0, 0.0, 0.0, 0.0, 0.0, 0.4736842105263157, 0.4444444444444444, 0.41176470588235303, 0.375, 0.33333333333333326, 0.2857142857142858, 0.23076923076923084, 0.16666666666666674, 0.09090909090909083, 0.0, 0.0, 0.0, 0.0, 0.0, 0.0, 0.0, 0.0, 0.0, 0.0, 0.4736842105263157, 0.4444444444444444, 0.41176470588235303, 0.375, 0.33333333333333326, 0.2857142857142858, 0.23076923076923084, 0.16666666666666674, 0.09090909090909083, 0.0, 0.0, 0.0, 0.0, 0.0, 0.0, 0.0, 0.0, 0.0, 0.0, 0.4736842105263157, 0.4444444444444444, 0.41176470588235303, 0.375, 0.33333333333333326, 0.2857142857142858, 0.23076923076923084, 0.16666666666666674, 0.09090909090909083, 0.0, 0.0, 0.0, 0.0, 0.0, 0.0, 0.0, 0.0, 0.0, 0.0, 0.4736842105263157, 0.4444444444444444, 0.41176470588235303, 0.375, 0.33333333333333326, 0.2857142857142858, 0.23076923076923084, 0.16666666666666674, 0.09090909090909083, 0.0, 0.0, 0.0, 0.0, 0.0, 0.0, 0.0, 0.0, 0.0, 0.0, 0.4736842105263157, 0.4444444444444444, 0.41176470588235303, 0.375, 0.33333333333333326, 0.2857142857142858, 0.23076923076923084, 0.16666666666666674, 0.09090909090909083, 0.0, 0.0, 0.0, 0.0, 0.0, 0.0, 0.0, 0.0, 0.0, 0.0, 0.4736842105263157, 0.4444444444444444, 0.41176470588235303, 0.375, 0.33333333333333326, 0.2857142857142858, 0.23076923076923084, 0.16666666666666674, 0.09090909090909083, 0.0, 0.0, 0.0, 0.0, 0.0, 0.0, 0.0, 0.0, 0.0, 0.0, 0.4736842105263157, 0.4444444444444444, 0.41176470588235303, 0.375, 0.33333333333333326, 0.2857142857142858, 0.23076923076923084, 0.16666666666666674, 0.09090909090909083, 0.0, 0.0, 0.0, 0.0, 0.0, 0.0, 0.0, 0.0, 0.0, 0.0], \"yaxis\": \"y\"}],\n",
       "                        {\"legend\": {\"tracegroupgap\": 0}, \"margin\": {\"t\": 60}, \"template\": {\"data\": {\"bar\": [{\"error_x\": {\"color\": \"#2a3f5f\"}, \"error_y\": {\"color\": \"#2a3f5f\"}, \"marker\": {\"line\": {\"color\": \"#E5ECF6\", \"width\": 0.5}}, \"type\": \"bar\"}], \"barpolar\": [{\"marker\": {\"line\": {\"color\": \"#E5ECF6\", \"width\": 0.5}}, \"type\": \"barpolar\"}], \"carpet\": [{\"aaxis\": {\"endlinecolor\": \"#2a3f5f\", \"gridcolor\": \"white\", \"linecolor\": \"white\", \"minorgridcolor\": \"white\", \"startlinecolor\": \"#2a3f5f\"}, \"baxis\": {\"endlinecolor\": \"#2a3f5f\", \"gridcolor\": \"white\", \"linecolor\": \"white\", \"minorgridcolor\": \"white\", \"startlinecolor\": \"#2a3f5f\"}, \"type\": \"carpet\"}], \"choropleth\": [{\"colorbar\": {\"outlinewidth\": 0, \"ticks\": \"\"}, \"type\": \"choropleth\"}], \"contour\": [{\"colorbar\": {\"outlinewidth\": 0, \"ticks\": \"\"}, \"colorscale\": [[0.0, \"#0d0887\"], [0.1111111111111111, \"#46039f\"], [0.2222222222222222, \"#7201a8\"], [0.3333333333333333, \"#9c179e\"], [0.4444444444444444, \"#bd3786\"], [0.5555555555555556, \"#d8576b\"], [0.6666666666666666, \"#ed7953\"], [0.7777777777777778, \"#fb9f3a\"], [0.8888888888888888, \"#fdca26\"], [1.0, \"#f0f921\"]], \"type\": \"contour\"}], \"contourcarpet\": [{\"colorbar\": {\"outlinewidth\": 0, \"ticks\": \"\"}, \"type\": \"contourcarpet\"}], \"heatmap\": [{\"colorbar\": {\"outlinewidth\": 0, \"ticks\": \"\"}, \"colorscale\": [[0.0, \"#0d0887\"], [0.1111111111111111, \"#46039f\"], [0.2222222222222222, \"#7201a8\"], [0.3333333333333333, \"#9c179e\"], [0.4444444444444444, \"#bd3786\"], [0.5555555555555556, \"#d8576b\"], [0.6666666666666666, \"#ed7953\"], [0.7777777777777778, \"#fb9f3a\"], [0.8888888888888888, \"#fdca26\"], [1.0, \"#f0f921\"]], \"type\": \"heatmap\"}], \"heatmapgl\": [{\"colorbar\": {\"outlinewidth\": 0, \"ticks\": \"\"}, \"colorscale\": [[0.0, \"#0d0887\"], [0.1111111111111111, \"#46039f\"], [0.2222222222222222, \"#7201a8\"], [0.3333333333333333, \"#9c179e\"], [0.4444444444444444, \"#bd3786\"], [0.5555555555555556, \"#d8576b\"], [0.6666666666666666, \"#ed7953\"], [0.7777777777777778, \"#fb9f3a\"], [0.8888888888888888, \"#fdca26\"], [1.0, \"#f0f921\"]], \"type\": \"heatmapgl\"}], \"histogram\": [{\"marker\": {\"colorbar\": {\"outlinewidth\": 0, \"ticks\": \"\"}}, \"type\": \"histogram\"}], \"histogram2d\": [{\"colorbar\": {\"outlinewidth\": 0, \"ticks\": \"\"}, \"colorscale\": [[0.0, \"#0d0887\"], [0.1111111111111111, \"#46039f\"], [0.2222222222222222, \"#7201a8\"], [0.3333333333333333, \"#9c179e\"], [0.4444444444444444, \"#bd3786\"], [0.5555555555555556, \"#d8576b\"], [0.6666666666666666, \"#ed7953\"], [0.7777777777777778, \"#fb9f3a\"], [0.8888888888888888, \"#fdca26\"], [1.0, \"#f0f921\"]], \"type\": \"histogram2d\"}], \"histogram2dcontour\": [{\"colorbar\": {\"outlinewidth\": 0, \"ticks\": \"\"}, \"colorscale\": [[0.0, \"#0d0887\"], [0.1111111111111111, \"#46039f\"], [0.2222222222222222, \"#7201a8\"], [0.3333333333333333, \"#9c179e\"], [0.4444444444444444, \"#bd3786\"], [0.5555555555555556, \"#d8576b\"], [0.6666666666666666, \"#ed7953\"], [0.7777777777777778, \"#fb9f3a\"], [0.8888888888888888, \"#fdca26\"], [1.0, \"#f0f921\"]], \"type\": \"histogram2dcontour\"}], \"mesh3d\": [{\"colorbar\": {\"outlinewidth\": 0, \"ticks\": \"\"}, \"type\": \"mesh3d\"}], \"parcoords\": [{\"line\": {\"colorbar\": {\"outlinewidth\": 0, \"ticks\": \"\"}}, \"type\": \"parcoords\"}], \"pie\": [{\"automargin\": true, \"type\": \"pie\"}], \"scatter\": [{\"marker\": {\"colorbar\": {\"outlinewidth\": 0, \"ticks\": \"\"}}, \"type\": \"scatter\"}], \"scatter3d\": [{\"line\": {\"colorbar\": {\"outlinewidth\": 0, \"ticks\": \"\"}}, \"marker\": {\"colorbar\": {\"outlinewidth\": 0, \"ticks\": \"\"}}, \"type\": \"scatter3d\"}], \"scattercarpet\": [{\"marker\": {\"colorbar\": {\"outlinewidth\": 0, \"ticks\": \"\"}}, \"type\": \"scattercarpet\"}], \"scattergeo\": [{\"marker\": {\"colorbar\": {\"outlinewidth\": 0, \"ticks\": \"\"}}, \"type\": \"scattergeo\"}], \"scattergl\": [{\"marker\": {\"colorbar\": {\"outlinewidth\": 0, \"ticks\": \"\"}}, \"type\": \"scattergl\"}], \"scattermapbox\": [{\"marker\": {\"colorbar\": {\"outlinewidth\": 0, \"ticks\": \"\"}}, \"type\": \"scattermapbox\"}], \"scatterpolar\": [{\"marker\": {\"colorbar\": {\"outlinewidth\": 0, \"ticks\": \"\"}}, \"type\": \"scatterpolar\"}], \"scatterpolargl\": [{\"marker\": {\"colorbar\": {\"outlinewidth\": 0, \"ticks\": \"\"}}, \"type\": \"scatterpolargl\"}], \"scatterternary\": [{\"marker\": {\"colorbar\": {\"outlinewidth\": 0, \"ticks\": \"\"}}, \"type\": \"scatterternary\"}], \"surface\": [{\"colorbar\": {\"outlinewidth\": 0, \"ticks\": \"\"}, \"colorscale\": [[0.0, \"#0d0887\"], [0.1111111111111111, \"#46039f\"], [0.2222222222222222, \"#7201a8\"], [0.3333333333333333, \"#9c179e\"], [0.4444444444444444, \"#bd3786\"], [0.5555555555555556, \"#d8576b\"], [0.6666666666666666, \"#ed7953\"], [0.7777777777777778, \"#fb9f3a\"], [0.8888888888888888, \"#fdca26\"], [1.0, \"#f0f921\"]], \"type\": \"surface\"}], \"table\": [{\"cells\": {\"fill\": {\"color\": \"#EBF0F8\"}, \"line\": {\"color\": \"white\"}}, \"header\": {\"fill\": {\"color\": \"#C8D4E3\"}, \"line\": {\"color\": \"white\"}}, \"type\": \"table\"}]}, \"layout\": {\"annotationdefaults\": {\"arrowcolor\": \"#2a3f5f\", \"arrowhead\": 0, \"arrowwidth\": 1}, \"coloraxis\": {\"colorbar\": {\"outlinewidth\": 0, \"ticks\": \"\"}}, \"colorscale\": {\"diverging\": [[0, \"#8e0152\"], [0.1, \"#c51b7d\"], [0.2, \"#de77ae\"], [0.3, \"#f1b6da\"], [0.4, \"#fde0ef\"], [0.5, \"#f7f7f7\"], [0.6, \"#e6f5d0\"], [0.7, \"#b8e186\"], [0.8, \"#7fbc41\"], [0.9, \"#4d9221\"], [1, \"#276419\"]], \"sequential\": [[0.0, \"#0d0887\"], [0.1111111111111111, \"#46039f\"], [0.2222222222222222, \"#7201a8\"], [0.3333333333333333, \"#9c179e\"], [0.4444444444444444, \"#bd3786\"], [0.5555555555555556, \"#d8576b\"], [0.6666666666666666, \"#ed7953\"], [0.7777777777777778, \"#fb9f3a\"], [0.8888888888888888, \"#fdca26\"], [1.0, \"#f0f921\"]], \"sequentialminus\": [[0.0, \"#0d0887\"], [0.1111111111111111, \"#46039f\"], [0.2222222222222222, \"#7201a8\"], [0.3333333333333333, \"#9c179e\"], [0.4444444444444444, \"#bd3786\"], [0.5555555555555556, \"#d8576b\"], [0.6666666666666666, \"#ed7953\"], [0.7777777777777778, \"#fb9f3a\"], [0.8888888888888888, \"#fdca26\"], [1.0, \"#f0f921\"]]}, \"colorway\": [\"#636efa\", \"#EF553B\", \"#00cc96\", \"#ab63fa\", \"#FFA15A\", \"#19d3f3\", \"#FF6692\", \"#B6E880\", \"#FF97FF\", \"#FECB52\"], \"font\": {\"color\": \"#2a3f5f\"}, \"geo\": {\"bgcolor\": \"white\", \"lakecolor\": \"white\", \"landcolor\": \"#E5ECF6\", \"showlakes\": true, \"showland\": true, \"subunitcolor\": \"white\"}, \"hoverlabel\": {\"align\": \"left\"}, \"hovermode\": \"closest\", \"mapbox\": {\"style\": \"light\"}, \"paper_bgcolor\": \"white\", \"plot_bgcolor\": \"#E5ECF6\", \"polar\": {\"angularaxis\": {\"gridcolor\": \"white\", \"linecolor\": \"white\", \"ticks\": \"\"}, \"bgcolor\": \"#E5ECF6\", \"radialaxis\": {\"gridcolor\": \"white\", \"linecolor\": \"white\", \"ticks\": \"\"}}, \"scene\": {\"xaxis\": {\"backgroundcolor\": \"#E5ECF6\", \"gridcolor\": \"white\", \"gridwidth\": 2, \"linecolor\": \"white\", \"showbackground\": true, \"ticks\": \"\", \"zerolinecolor\": \"white\"}, \"yaxis\": {\"backgroundcolor\": \"#E5ECF6\", \"gridcolor\": \"white\", \"gridwidth\": 2, \"linecolor\": \"white\", \"showbackground\": true, \"ticks\": \"\", \"zerolinecolor\": \"white\"}, \"zaxis\": {\"backgroundcolor\": \"#E5ECF6\", \"gridcolor\": \"white\", \"gridwidth\": 2, \"linecolor\": \"white\", \"showbackground\": true, \"ticks\": \"\", \"zerolinecolor\": \"white\"}}, \"shapedefaults\": {\"line\": {\"color\": \"#2a3f5f\"}}, \"ternary\": {\"aaxis\": {\"gridcolor\": \"white\", \"linecolor\": \"white\", \"ticks\": \"\"}, \"baxis\": {\"gridcolor\": \"white\", \"linecolor\": \"white\", \"ticks\": \"\"}, \"bgcolor\": \"#E5ECF6\", \"caxis\": {\"gridcolor\": \"white\", \"linecolor\": \"white\", \"ticks\": \"\"}}, \"title\": {\"x\": 0.05}, \"xaxis\": {\"automargin\": true, \"gridcolor\": \"white\", \"linecolor\": \"white\", \"ticks\": \"\", \"title\": {\"standoff\": 15}, \"zerolinecolor\": \"white\", \"zerolinewidth\": 2}, \"yaxis\": {\"automargin\": true, \"gridcolor\": \"white\", \"linecolor\": \"white\", \"ticks\": \"\", \"title\": {\"standoff\": 15}, \"zerolinecolor\": \"white\", \"zerolinewidth\": 2}}}, \"title\": {\"text\": \"Demand Distribution L2 vs Waterfilling Level Difference\"}, \"xaxis\": {\"anchor\": \"y\", \"domain\": [0.0, 1.0], \"title\": {\"text\": \"Demand Distribution Distance\"}}, \"yaxis\": {\"anchor\": \"x\", \"domain\": [0.0, 1.0], \"title\": {\"text\": \"Waterfilling Level Difference\"}}},\n",
       "                        {\"responsive\": true}\n",
       "                    ).then(function(){\n",
       "                            \n",
       "var gd = document.getElementById('7eb19f48-e4fa-499f-9780-aaf8c2793632');\n",
       "var x = new MutationObserver(function (mutations, observer) {{\n",
       "        var display = window.getComputedStyle(gd).display;\n",
       "        if (!display || display === 'none') {{\n",
       "            console.log([gd, 'removed!']);\n",
       "            Plotly.purge(gd);\n",
       "            observer.disconnect();\n",
       "        }}\n",
       "}});\n",
       "\n",
       "// Listen for the removal of the full notebook cells\n",
       "var notebookContainer = gd.closest('#notebook-container');\n",
       "if (notebookContainer) {{\n",
       "    x.observe(notebookContainer, {childList: true});\n",
       "}}\n",
       "\n",
       "// Listen for the clearing of the current output cell\n",
       "var outputEl = gd.closest('.output');\n",
       "if (outputEl) {{\n",
       "    x.observe(outputEl, {childList: true});\n",
       "}}\n",
       "\n",
       "                        })\n",
       "                };\n",
       "                });\n",
       "            </script>\n",
       "        </div>"
      ]
     },
     "metadata": {},
     "output_type": "display_data"
    }
   ],
   "source": [
    "demand_distance = []\n",
    "waterfill_distance = []\n",
    "for i in range(n-1):\n",
    "    for j in range(n-1):\n",
    "        demand_distance.append(dist(distribution_list[i], distribution_list[j]))\n",
    "        waterfill_distance.append(value_list[i]-value_list[j])\n",
    "fig = px.scatter(x=demand_distance, y=waterfill_distance)\n",
    "fig.update_layout(\n",
    "    title=\"Demand Distribution L2 vs Waterfilling Level Difference\",\n",
    "    xaxis_title=\"Demand Distribution Distance\",\n",
    "    yaxis_title=\"Waterfilling Level Difference\")\n",
    "fig.show()"
   ]
  },
  {
   "cell_type": "code",
   "execution_count": null,
   "metadata": {},
   "outputs": [],
   "source": []
  }
 ],
 "metadata": {
  "kernelspec": {
   "display_name": "Python 3",
   "language": "python",
   "name": "python3"
  },
  "language_info": {
   "codemirror_mode": {
    "name": "ipython",
    "version": 3
   },
   "file_extension": ".py",
   "mimetype": "text/x-python",
   "name": "python",
   "nbconvert_exporter": "python",
   "pygments_lexer": "ipython3",
   "version": "3.8.2"
  }
 },
 "nbformat": 4,
 "nbformat_minor": 2
}
