{
 "cells": [
  {
   "cell_type": "code",
   "execution_count": 1,
   "metadata": {},
   "outputs": [
    {
     "data": {
      "text/plain": [
       "<module 'food_bank_bayesian' from '../../functions\\\\food_bank_bayesian.py'>"
      ]
     },
     "execution_count": 1,
     "metadata": {},
     "output_type": "execute_result"
    }
   ],
   "source": [
    "import sys\n",
    "sys.path.insert(1, '../../functions')\n",
    "import importlib\n",
    "import numpy as np\n",
    "import nbformat\n",
    "import plotly.express\n",
    "import plotly.express as px\n",
    "import pandas as pd\n",
    "import scipy.optimize as optimization\n",
    "import matplotlib.pyplot as plt\n",
    "import food_bank_functions\n",
    "import food_bank_bayesian\n",
    "from food_bank_functions import *\n",
    "from food_bank_bayesian import *\n",
    "importlib.reload(food_bank_functions)\n",
    "importlib.reload(food_bank_bayesian)"
   ]
  },
  {
   "cell_type": "code",
   "execution_count": 3,
   "metadata": {},
   "outputs": [],
   "source": [
    "weights = [928, 1200, 420, 429, 103, 393]\n",
    "weights = (weights / np.sum(weights)) * 100\n",
    "county = ['Broome', 'Steuben', 'Chemung', 'Tioga', 'Schuyler', 'Tompkins']"
   ]
  },
  {
   "cell_type": "code",
   "execution_count": 4,
   "metadata": {},
   "outputs": [
    {
     "name": "stdout",
     "output_type": "stream",
     "text": [
      "[26.72041463 34.55226029 12.0932911  12.35243305  2.96573568 11.31586525]\n"
     ]
    }
   ],
   "source": [
    "print(weights)"
   ]
  },
  {
   "cell_type": "code",
   "execution_count": 5,
   "metadata": {},
   "outputs": [
    {
     "name": "stdout",
     "output_type": "stream",
     "text": [
      "0\n",
      "Broome\n",
      "17.0 36.0\n",
      "[17.         18.         19.         20.         21.         22.\n",
      " 23.         24.         25.         26.         27.         28.\n",
      " 29.         30.         31.         32.         33.         34.\n",
      " 35.         36.         35.96340382]\n",
      "1\n",
      "Steuben\n",
      "26.0 46.0\n",
      "[26.        27.05      28.1       29.15      30.2       31.25\n",
      " 32.3       33.35      34.4       35.45      36.5       37.55\n",
      " 38.6       39.65      40.7       41.75      42.8       43.85\n",
      " 44.9       45.95      45.3699566]\n",
      "2\n",
      "Chemung\n",
      "3.0 21.0\n",
      "[ 3.          3.95        4.9         5.85        6.8         7.75\n",
      "  8.7         9.65       10.6        11.55       12.5        13.45\n",
      " 14.4        15.35       16.3        17.25       18.2        19.15\n",
      " 20.1        21.05       20.85426391]\n",
      "3\n",
      "Tioga\n",
      "3.0 22.0\n",
      "[ 3.          4.          5.          6.          7.          8.\n",
      "  9.         10.         11.         12.         13.         14.\n",
      " 15.         16.         17.         18.         19.         20.\n",
      " 21.         22.         21.29455615]\n",
      "4\n",
      "Schuyler\n",
      "1 12.0\n",
      "[ 1.          1.6         2.2         2.8         3.4         4.\n",
      "  4.6         5.2         5.8         6.4         7.          7.6\n",
      "  8.2         8.8         9.4        10.         10.6        11.2\n",
      " 11.8        12.4        11.92221942]\n",
      "5\n",
      "Tompkins\n",
      "2.0 20.0\n",
      "[ 2.          2.95        3.9         4.85        5.8         6.75\n",
      "  7.7         8.65        9.6        10.55       11.5        12.45\n",
      " 13.4        14.35       15.3        16.25       17.2        18.15\n",
      " 19.1        20.05       19.48805704]\n"
     ]
    }
   ],
   "source": [
    "data_support = []\n",
    "data_weights = []\n",
    "\n",
    "i = 0\n",
    "for town in county:\n",
    "    print(i)\n",
    "    print(town)\n",
    "    variance = 2\n",
    "    num_bins = 20\n",
    "    samples = np.random.normal(weights[i], variance, 100000)\n",
    "    \n",
    "    min_samples = max(1, np.floor(min(samples)))\n",
    "    max_samples = np.ceil(max(samples))\n",
    "    print(min_samples, max_samples)\n",
    "    \n",
    "    bins = np.digitize(samples, np.arange(min_samples, max_samples+1, (max_samples - min_samples + 1) / num_bins))\n",
    "    support = np.arange(min_samples, max_samples+1, (max_samples - min_samples + 1) / num_bins)\n",
    "    support = np.append(support, max(samples))\n",
    "    print(support)\n",
    "    vals = np.zeros(len(support))\n",
    "\n",
    "    for j in bins:\n",
    "        vals[j] += 1\n",
    "    vals = vals / np.sum(vals)\n",
    "    data_support.append(support)\n",
    "    data_weights.append(vals)\n",
    "    i += 1"
   ]
  },
  {
   "cell_type": "code",
   "execution_count": 8,
   "metadata": {},
   "outputs": [
    {
     "data": {
      "text/plain": [
       "[<matplotlib.lines.Line2D at 0x16d1fdd3b08>]"
      ]
     },
     "execution_count": 8,
     "metadata": {},
     "output_type": "execute_result"
    },
    {
     "data": {
      "image/png": "[encoded data removed]",
      "text/plain": [
       "<Figure size 432x288 with 1 Axes>"
      ]
     },
     "metadata": {
      "needs_background": "light"
     },
     "output_type": "display_data"
    }
   ],
   "source": [
    "i = 5\n",
    "plt.plot(data_support[i], data_weights[i])"
   ]
  },
  {
   "cell_type": "code",
   "execution_count": 34,
   "metadata": {},
   "outputs": [],
   "source": [
    "# np.savetxt('../../data/fbst_synthetic/vals.csv', data_weights, delimiter=',')\n",
    "# np.savetxt('../../data/fbst_synthetic/support.csv', data_support, delimiter=',')\n"
   ]
  }
 ],
 "metadata": {
  "kernelspec": {
   "display_name": "Python 3",
   "language": "python",
   "name": "python3"
  },
  "language_info": {
   "codemirror_mode": {
    "name": "ipython",
    "version": 3
   },
   "file_extension": ".py",
   "mimetype": "text/x-python",
   "name": "python",
   "nbconvert_exporter": "python",
   "pygments_lexer": "ipython3",
   "version": "3.7.7"
  }
 },
 "nbformat": 4,
 "nbformat_minor": 4
}
