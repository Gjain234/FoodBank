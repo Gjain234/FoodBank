{
 "cells": [
  {
   "cell_type": "code",
   "execution_count": 1,
   "metadata": {},
   "outputs": [
    {
     "data": {
      "text/plain": [
       "<module 'food_bank_bayesian' from '../../functions\\\\food_bank_bayesian.py'>"
      ]
     },
     "execution_count": 1,
     "metadata": {},
     "output_type": "execute_result"
    }
   ],
   "source": [
    "import sys\n",
    "sys.path.insert(1, '../../functions')\n",
    "import importlib\n",
    "import numpy as np\n",
    "import nbformat\n",
    "import plotly.express\n",
    "import plotly.express as px\n",
    "import pandas as pd\n",
    "import scipy.optimize as optimization\n",
    "import matplotlib.pyplot as plt\n",
    "import food_bank_functions\n",
    "import food_bank_bayesian\n",
    "from food_bank_functions import *\n",
    "from food_bank_bayesian import *\n",
    "importlib.reload(food_bank_functions)\n",
    "importlib.reload(food_bank_bayesian)"
   ]
  },
  {
   "cell_type": "code",
   "execution_count": 2,
   "metadata": {},
   "outputs": [],
   "source": [
    "weights = [928, 1200, 420, 429, 103, 393]\n",
    "weights = (weights / np.sum(weights)) * 100\n",
    "county = ['Broome', 'Steuben', 'Chemung', 'Tioga', 'Schuyler', 'Tompkins']"
   ]
  },
  {
   "cell_type": "code",
   "execution_count": 3,
   "metadata": {},
   "outputs": [
    {
     "name": "stdout",
     "output_type": "stream",
     "text": [
      "[26.72041463 34.55226029 12.0932911  12.35243305  2.96573568 11.31586525]\n"
     ]
    }
   ],
   "source": [
    "print(weights)"
   ]
  },
  {
   "cell_type": "code",
   "execution_count": 5,
   "metadata": {},
   "outputs": [
    {
     "name": "stdout",
     "output_type": "stream",
     "text": [
      "0\n",
      "Broome\n",
      "18.0 36.0\n",
      "[18.         18.95       19.9        20.85       21.8        22.75\n",
      " 23.7        24.65       25.6        26.55       27.5        28.45\n",
      " 29.4        30.35       31.3        32.25       33.2        34.15\n",
      " 35.1        36.05       35.61006796]\n",
      "1\n",
      "Steuben\n",
      "24.0 44.0\n",
      "[24.         25.05       26.1        27.15       28.2        29.25\n",
      " 30.3        31.35       32.4        33.45       34.5        35.55\n",
      " 36.6        37.65       38.7        39.75       40.8        41.85\n",
      " 42.9        43.95       43.49778536]\n",
      "2\n",
      "Chemung\n",
      "3.0 20.0\n",
      "[ 3.          3.9         4.8         5.7         6.6         7.5\n",
      "  8.4         9.3        10.2        11.1        12.         12.9\n",
      " 13.8        14.7        15.6        16.5        17.4        18.3\n",
      " 19.2        20.1        19.82886683]\n",
      "3\n",
      "Tioga\n",
      "3.0 22.0\n",
      "[ 3.          4.          5.          6.          7.          8.\n",
      "  9.         10.         11.         12.         13.         14.\n",
      " 15.         16.         17.         18.         19.         20.\n",
      " 21.         22.         21.08532056]\n",
      "4\n",
      "Schuyler\n",
      "1 11.0\n",
      "[ 1.          1.55        2.1         2.65        3.2         3.75\n",
      "  4.3         4.85        5.4         5.95        6.5         7.05\n",
      "  7.6         8.15        8.7         9.25        9.8        10.35\n",
      " 10.9        11.45       10.90620001]\n",
      "5\n",
      "Tompkins\n",
      "2.0 20.0\n",
      "[ 2.          2.95        3.9         4.85        5.8         6.75\n",
      "  7.7         8.65        9.6        10.55       11.5        12.45\n",
      " 13.4        14.35       15.3        16.25       17.2        18.15\n",
      " 19.1        20.05       19.72995833]\n"
     ]
    }
   ],
   "source": [
    "data_support = []\n",
    "data_weights = []\n",
    "\n",
    "i = 0\n",
    "for town in county:\n",
    "    print(i)\n",
    "    print(town)\n",
    "    variance = 2\n",
    "    num_bins = 20\n",
    "    samples = np.random.normal(weights[i], variance, 100000)\n",
    "    \n",
    "    min_samples = max(1, np.floor(min(samples)))\n",
    "    max_samples = np.ceil(max(samples))\n",
    "    print(min_samples, max_samples)\n",
    "    \n",
    "    bins = np.digitize(samples, np.arange(min_samples, max_samples+1, (max_samples - min_samples + 1) / num_bins))\n",
    "    support = np.arange(min_samples, max_samples+1, (max_samples - min_samples + 1) / num_bins)\n",
    "    support = np.append(support, max(samples))\n",
    "    print(support)\n",
    "    vals = np.zeros(len(support))\n",
    "\n",
    "    for j in bins:\n",
    "        vals[j] += 1\n",
    "    vals = vals / np.sum(vals)\n",
    "    data_support.append(support)\n",
    "    data_weights.append(vals)\n",
    "    i += 1"
   ]
  },
  {
   "cell_type": "code",
   "execution_count": 6,
   "metadata": {},
   "outputs": [
    {
     "data": {
      "text/plain": [
       "[<matplotlib.lines.Line2D at 0x1c56d434b88>]"
      ]
     },
     "execution_count": 6,
     "metadata": {},
     "output_type": "execute_result"
    },
    {
     "data": {
      "image/png": "[encoded data removed]",
      "text/plain": [
       "<Figure size 432x288 with 1 Axes>"
      ]
     },
     "metadata": {
      "needs_background": "light"
     },
     "output_type": "display_data"
    }
   ],
   "source": [
    "i = 5\n",
    "plt.plot(data_support[i], data_weights[i])"
   ]
  },
  {
   "cell_type": "code",
   "execution_count": 9,
   "metadata": {},
   "outputs": [],
   "source": [
    "np.savetxt('../../data/fbst_synthetic/vals.csv', data_weights, delimiter=',')\n",
    "np.savetxt('../../data/fbst_synthetic/support.csv', data_support, delimiter=',')\n"
   ]
  }
 ],
 "metadata": {
  "kernelspec": {
   "display_name": "Python 3",
   "language": "python",
   "name": "python3"
  },
  "language_info": {
   "codemirror_mode": {
    "name": "ipython",
    "version": 3
   },
   "file_extension": ".py",
   "mimetype": "text/x-python",
   "name": "python",
   "nbconvert_exporter": "python",
   "pygments_lexer": "ipython3",
   "version": "3.7.7"
  }
 },
 "nbformat": 4,
 "nbformat_minor": 4
}
