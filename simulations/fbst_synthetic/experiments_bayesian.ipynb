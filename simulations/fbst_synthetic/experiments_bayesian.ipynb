{
 "cells": [
  {
   "cell_type": "markdown",
   "metadata": {},
   "source": [
    "# Food Bank Problem"
   ]
  },
  {
   "cell_type": "code",
   "execution_count": 10,
   "metadata": {},
   "outputs": [
    {
     "data": {
      "text/plain": [
       "<module 'food_bank_bayesian' from '../../functions\\\\food_bank_bayesian.py'>"
      ]
     },
     "execution_count": 10,
     "metadata": {},
     "output_type": "execute_result"
    }
   ],
   "source": [
    "import sys\n",
    "sys.path.insert(1, '../../functions')\n",
    "import importlib\n",
    "import numpy as np\n",
    "import nbformat\n",
    "import plotly.express\n",
    "import plotly.express as px\n",
    "import pandas as pd\n",
    "import matplotlib.pyplot as plt\n",
    "import scipy.optimize as optimization\n",
    "import food_bank_functions\n",
    "import food_bank_bayesian\n",
    "from food_bank_functions import *\n",
    "from food_bank_bayesian import *\n",
    "importlib.reload(food_bank_functions)\n",
    "importlib.reload(food_bank_bayesian)"
   ]
  },
  {
   "cell_type": "code",
   "execution_count": 11,
   "metadata": {},
   "outputs": [],
   "source": [
    "vals = np.loadtxt('../../data/fbst_synthetic/vals.csv', delimiter=\",\")\n",
    "support = np.loadtxt('../../data/fbst_synthetic/support.csv', delimiter=\",\")\n",
    "county = ['Broome', 'Steuben', 'Chemung', 'Tioga', 'Schuyler', 'Tompkins']"
   ]
  },
  {
   "cell_type": "code",
   "execution_count": 12,
   "metadata": {},
   "outputs": [
    {
     "name": "stdout",
     "output_type": "stream",
     "text": [
      "Broome\n",
      "Steuben\n",
      "Chemung\n",
      "Tioga\n",
      "Schuyler\n",
      "Tompkins\n",
      "[27.21139  35.004784 12.565113 12.85814   3.386836 11.818   ]\n"
     ]
    }
   ],
   "source": [
    "mean = np.zeros(len(county))\n",
    "i = 0\n",
    "for ct in county:\n",
    "    print(ct)\n",
    "    mean[i] = np.dot(vals[i], support[i])\n",
    "    i += 1\n",
    "print(mean)"
   ]
  },
  {
   "cell_type": "code",
   "execution_count": 14,
   "metadata": {},
   "outputs": [
    {
     "name": "stdout",
     "output_type": "stream",
     "text": [
      "Step number: 5\n",
      "Step number: 4\n",
      "Step number: 3\n",
      "Step number: 2\n",
      "Step number: 1\n",
      "Step number: 0\n"
     ]
    }
   ],
   "source": [
    "max_budget = np.sum(mean)\n",
    "max_n = len(county)\n",
    "\n",
    "grid_size = .001\n",
    "\n",
    "b_grid = np.arange(0, max_budget+grid_size, grid_size)\n",
    "opt_policy, v_fn = bayes_opt(max_n, max_budget, b_grid, grid_size)"
   ]
  },
  {
   "cell_type": "code",
   "execution_count": 15,
   "metadata": {},
   "outputs": [],
   "source": [
    "np.savetxt('../../data/fbst_synthetic/opt_policy.csv', opt_policy, delimiter=\",\")\n",
    "np.savetxt('../../data/fbst_synthetic/v_est.csv', v_fn, delimiter=\",\")"
   ]
  },
  {
   "cell_type": "code",
   "execution_count": 25,
   "metadata": {},
   "outputs": [],
   "source": []
  }
 ],
 "metadata": {
  "kernelspec": {
   "display_name": "Python 3",
   "language": "python",
   "name": "python3"
  },
  "language_info": {
   "codemirror_mode": {
    "name": "ipython",
    "version": 3
   },
   "file_extension": ".py",
   "mimetype": "text/x-python",
   "name": "python",
   "nbconvert_exporter": "python",
   "pygments_lexer": "ipython3",
   "version": "3.7.7"
  }
 },
 "nbformat": 4,
 "nbformat_minor": 2
}
