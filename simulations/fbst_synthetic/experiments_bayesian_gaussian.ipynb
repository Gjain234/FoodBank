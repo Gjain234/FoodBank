{
 "cells": [
  {
   "cell_type": "markdown",
   "metadata": {},
   "source": [
    "# Food Bank Problem"
   ]
  },
  {
   "cell_type": "code",
   "execution_count": 81,
   "metadata": {},
   "outputs": [
    {
     "data": {
      "text/plain": [
       "<module 'food_bank_bayesian' from '../../functions\\\\food_bank_bayesian.py'>"
      ]
     },
     "execution_count": 81,
     "metadata": {},
     "output_type": "execute_result"
    }
   ],
   "source": [
    "import sys\n",
    "sys.path.insert(1, '../../functions')\n",
    "import importlib\n",
    "import numpy as np\n",
    "import nbformat\n",
    "import plotly.express\n",
    "import plotly.express as px\n",
    "import pandas as pd\n",
    "import scipy.optimize as optimization\n",
    "import matplotlib.pyplot as plt\n",
    "import food_bank_functions\n",
    "import food_bank_bayesian\n",
    "from food_bank_functions import *\n",
    "from food_bank_bayesian import *\n",
    "importlib.reload(food_bank_functions)\n",
    "importlib.reload(food_bank_bayesian)"
   ]
  },
  {
   "cell_type": "code",
   "execution_count": 82,
   "metadata": {},
   "outputs": [],
   "source": [
    "max_n = 100\n",
    "grid_size = .01"
   ]
  },
  {
   "cell_type": "code",
   "execution_count": 83,
   "metadata": {},
   "outputs": [
    {
     "name": "stdout",
     "output_type": "stream",
     "text": [
      "1.0 28.0\n"
     ]
    }
   ],
   "source": [
    "mean = 15\n",
    "variance = 3\n",
    "num_bins = 10\n",
    "samples = np.random.normal(15,3,100000)\n",
    "\n",
    "min_samples = np.floor(min(samples))\n",
    "max_samples = np.ceil(max(samples))\n",
    "print(min_samples, max_samples)"
   ]
  },
  {
   "cell_type": "code",
   "execution_count": 84,
   "metadata": {},
   "outputs": [
    {
     "name": "stdout",
     "output_type": "stream",
     "text": [
      "[ 1.          3.8         6.6         9.4        12.2        15.\n",
      " 17.8        20.6        23.4        26.2        27.16811974]\n"
     ]
    }
   ],
   "source": [
    "bins = np.digitize(samples, np.arange(min_samples, max_samples+1, (max_samples - min_samples + 1) / num_bins))\n",
    "support = np.arange(min_samples, max_samples+1, (max_samples - min_samples + 1) / num_bins)\n",
    "support = np.append(support, max(samples))\n",
    "print(support)\n",
    "vals = np.zeros(len(support))\n",
    "\n",
    "for i in bins:\n",
    "    vals[i] += 1\n",
    "vals = vals / np.sum(vals)"
   ]
  },
  {
   "cell_type": "code",
   "execution_count": 86,
   "metadata": {},
   "outputs": [
    {
     "data": {
      "text/plain": [
       "[<matplotlib.lines.Line2D at 0x15ca8adb408>]"
      ]
     },
     "execution_count": 86,
     "metadata": {},
     "output_type": "execute_result"
    },
    {
     "data": {
      "image/png": "[encoded data removed]",
      "text/plain": [
       "<Figure size 432x288 with 1 Axes>"
      ]
     },
     "metadata": {
      "needs_background": "light"
     },
     "output_type": "display_data"
    }
   ],
   "source": [
    "plt.plot(support, vals)"
   ]
  },
  {
   "cell_type": "code",
   "execution_count": 87,
   "metadata": {
    "scrolled": true
   },
   "outputs": [
    {
     "name": "stdout",
     "output_type": "stream",
     "text": [
      "Step number: 99\n"
     ]
    },
    {
     "name": "stderr",
     "output_type": "stream",
     "text": [
      "../../functions\\food_bank_bayesian.py:40: RuntimeWarning: divide by zero encountered in log\n",
      "  v_fn[t,b] = (1/2)*np.log(policy(opt_policy[t,b],current_budget,1)/1) + (1/2)*np.log(policy(opt_policy[t,b],current_budget,2)/2)\n"
     ]
    },
    {
     "name": "stdout",
     "output_type": "stream",
     "text": [
      "Step number: 98\n"
     ]
    },
    {
     "name": "stderr",
     "output_type": "stream",
     "text": [
      "../../functions\\food_bank_bayesian.py:46: RuntimeWarning: divide by zero encountered in log\n",
      "  q_vals = np.log(b_grid[0:(b+1)]) + np.flip(v_fn[t+1,0:(b+1)])\n",
      "../../functions\\food_bank_bayesian.py:56: RuntimeWarning: divide by zero encountered in log\n",
      "  v_fn[t,b] = (1/2)*(np.log(policy(opt_policy[t,b],current_budget,1)/1)+v_fn[t+1, new_budget_one]) \\\n",
      "../../functions\\food_bank_bayesian.py:57: RuntimeWarning: divide by zero encountered in log\n",
      "  + (1/2)*(np.log(policy(opt_policy[t,b],current_budget,2)/2)+v_fn[t+1, new_budget_two])\n"
     ]
    },
    {
     "name": "stdout",
     "output_type": "stream",
     "text": [
      "Step number: 97\n",
      "Step number: 96\n",
      "Step number: 95\n",
      "Step number: 94\n",
      "Step number: 93\n",
      "Step number: 92\n",
      "Step number: 91\n",
      "Step number: 90\n",
      "Step number: 89\n",
      "Step number: 88\n",
      "Step number: 87\n",
      "Step number: 86\n",
      "Step number: 85\n",
      "Step number: 84\n",
      "Step number: 83\n",
      "Step number: 82\n",
      "Step number: 81\n",
      "Step number: 80\n",
      "Step number: 79\n",
      "Step number: 78\n",
      "Step number: 77\n",
      "Step number: 76\n",
      "Step number: 75\n",
      "Step number: 74\n",
      "Step number: 73\n",
      "Step number: 72\n",
      "Step number: 71\n",
      "Step number: 70\n",
      "Step number: 69\n",
      "Step number: 68\n",
      "Step number: 67\n",
      "Step number: 66\n",
      "Step number: 65\n",
      "Step number: 64\n",
      "Step number: 63\n",
      "Step number: 62\n",
      "Step number: 61\n",
      "Step number: 60\n",
      "Step number: 59\n",
      "Step number: 58\n",
      "Step number: 57\n",
      "Step number: 56\n",
      "Step number: 55\n",
      "Step number: 54\n",
      "Step number: 53\n",
      "Step number: 52\n",
      "Step number: 51\n",
      "Step number: 50\n",
      "Step number: 49\n",
      "Step number: 48\n",
      "Step number: 47\n",
      "Step number: 46\n",
      "Step number: 45\n",
      "Step number: 44\n",
      "Step number: 43\n",
      "Step number: 42\n",
      "Step number: 41\n",
      "Step number: 40\n",
      "Step number: 39\n",
      "Step number: 38\n",
      "Step number: 37\n",
      "Step number: 36\n",
      "Step number: 35\n",
      "Step number: 34\n",
      "Step number: 33\n",
      "Step number: 32\n",
      "Step number: 31\n",
      "Step number: 30\n",
      "Step number: 29\n",
      "Step number: 28\n",
      "Step number: 27\n",
      "Step number: 26\n",
      "Step number: 25\n",
      "Step number: 24\n",
      "Step number: 23\n",
      "Step number: 22\n",
      "Step number: 21\n",
      "Step number: 20\n",
      "Step number: 19\n",
      "Step number: 18\n",
      "Step number: 17\n",
      "Step number: 16\n",
      "Step number: 15\n",
      "Step number: 14\n",
      "Step number: 13\n",
      "Step number: 12\n",
      "Step number: 11\n",
      "Step number: 10\n",
      "Step number: 9\n",
      "Step number: 8\n",
      "Step number: 7\n",
      "Step number: 6\n",
      "Step number: 5\n",
      "Step number: 4\n",
      "Step number: 3\n",
      "Step number: 2\n",
      "Step number: 1\n",
      "Step number: 0\n"
     ]
    }
   ],
   "source": [
    "max_budget = mean*max_n\n",
    "\n",
    "b_grid = np.arange(0, max_budget+grid_size, grid_size)\n",
    "opt_policy, v_fn = bayes_opt(max_n, max_budget, b_grid, grid_size)"
   ]
  },
  {
   "cell_type": "code",
   "execution_count": 88,
   "metadata": {},
   "outputs": [
    {
     "ename": "NameError",
     "evalue": "name 'var' is not defined",
     "output_type": "error",
     "traceback": [
      "\u001b[1;31m---------------------------------------------------------------------------\u001b[0m",
      "\u001b[1;31mNameError\u001b[0m                                 Traceback (most recent call last)",
      "\u001b[1;32m<ipython-input-88-aa3f816b7f81>\u001b[0m in \u001b[0;36m<module>\u001b[1;34m\u001b[0m\n\u001b[1;32m----> 1\u001b[1;33m \u001b[0mnp\u001b[0m\u001b[1;33m.\u001b[0m\u001b[0msavetxt\u001b[0m\u001b[1;33m(\u001b[0m\u001b[1;34m'../../data/gaussian/opt_policy'\u001b[0m \u001b[1;33m+\u001b[0m \u001b[1;34m'_mean_'\u001b[0m\u001b[1;33m+\u001b[0m\u001b[0mstr\u001b[0m\u001b[1;33m(\u001b[0m\u001b[0mmean\u001b[0m\u001b[1;33m)\u001b[0m\u001b[1;33m+\u001b[0m\u001b[1;34m'_var_'\u001b[0m\u001b[1;33m+\u001b[0m\u001b[0mstr\u001b[0m\u001b[1;33m(\u001b[0m\u001b[0mvar\u001b[0m\u001b[1;33m)\u001b[0m\u001b[1;33m+\u001b[0m\u001b[1;34m'.csv'\u001b[0m\u001b[1;33m,\u001b[0m \u001b[0mopt_policy\u001b[0m\u001b[1;33m,\u001b[0m \u001b[0mdelimiter\u001b[0m\u001b[1;33m=\u001b[0m\u001b[1;34m\",\"\u001b[0m\u001b[1;33m)\u001b[0m\u001b[1;33m\u001b[0m\u001b[1;33m\u001b[0m\u001b[0m\n\u001b[0m\u001b[0;32m      2\u001b[0m \u001b[0mnp\u001b[0m\u001b[1;33m.\u001b[0m\u001b[0msavetxt\u001b[0m\u001b[1;33m(\u001b[0m\u001b[1;34m'../../data/gaussian/v_est'\u001b[0m \u001b[1;33m+\u001b[0m \u001b[1;34m'_mean_'\u001b[0m\u001b[1;33m+\u001b[0m\u001b[0mstr\u001b[0m\u001b[1;33m(\u001b[0m\u001b[0mmean\u001b[0m\u001b[1;33m)\u001b[0m\u001b[1;33m+\u001b[0m\u001b[1;34m'_var_'\u001b[0m\u001b[1;33m+\u001b[0m\u001b[0mstr\u001b[0m\u001b[1;33m(\u001b[0m\u001b[0mvar\u001b[0m\u001b[1;33m)\u001b[0m\u001b[1;33m+\u001b[0m\u001b[1;34m'.csv'\u001b[0m\u001b[1;33m,\u001b[0m \u001b[0mv_fn\u001b[0m\u001b[1;33m,\u001b[0m \u001b[0mdelimiter\u001b[0m\u001b[1;33m=\u001b[0m\u001b[1;34m\",\"\u001b[0m\u001b[1;33m)\u001b[0m\u001b[1;33m\u001b[0m\u001b[1;33m\u001b[0m\u001b[0m\n",
      "\u001b[1;31mNameError\u001b[0m: name 'var' is not defined"
     ]
    }
   ],
   "source": [
    "np.savetxt('../../data/gaussian/opt_policy' + '_mean_'+str(mean)+'_var_'+str(var)+'.csv', opt_policy, delimiter=\",\")\n",
    "np.savetxt('../../data/gaussian/v_est' + '_mean_'+str(mean)+'_var_'+str(var)+'.csv', v_fn, delimiter=\",\")"
   ]
  }
 ],
 "metadata": {
  "kernelspec": {
   "display_name": "Python 3",
   "language": "python",
   "name": "python3"
  },
  "language_info": {
   "codemirror_mode": {
    "name": "ipython",
    "version": 3
   },
   "file_extension": ".py",
   "mimetype": "text/x-python",
   "name": "python",
   "nbconvert_exporter": "python",
   "pygments_lexer": "ipython3",
   "version": "3.7.7"
  }
 },
 "nbformat": 4,
 "nbformat_minor": 2
}
