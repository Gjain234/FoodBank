{
 "cells": [
  {
   "cell_type": "markdown",
   "metadata": {},
   "source": [
    "# Food Bank Problem"
   ]
  },
  {
   "cell_type": "code",
   "execution_count": 1,
   "metadata": {},
   "outputs": [],
   "source": [
    "import sys\n",
    "import numpy as np\n",
    "import plotly.express as px\n",
    "import pandas as pd\n",
    "import scipy.optimize as optimization"
   ]
  },
  {
   "cell_type": "markdown",
   "metadata": {},
   "source": [
    "## OPT - Waterfilling"
   ]
  },
  {
   "cell_type": "code",
   "execution_count": 2,
   "metadata": {},
   "outputs": [],
   "source": [
    "## Water-filling Algorithm for sorted demands\n",
    "def waterfilling_sorted(d,b):\n",
    "    n = np.size(d)\n",
    "    allocations = np.zeros(n)\n",
    "    bundle_remaining = b\n",
    "    for i in range(n):\n",
    "        equal_allocation = bundle_remaining/(n-i)\n",
    "        if d[i]<equal_allocation:\n",
    "            allocations[i] = bundle_remaining if i==n-1 else d[i]\n",
    "        else:\n",
    "            allocations[i] = equal_allocation\n",
    "        bundle_remaining -= allocations[i]\n",
    "    return allocations"
   ]
  },
  {
   "cell_type": "code",
   "execution_count": 3,
   "metadata": {},
   "outputs": [],
   "source": [
    "## Water-filling Algorithm for general demands\n",
    "def waterfilling(d,b):\n",
    "    n = np.size(d)\n",
    "    sorted_indices = np.argsort(d)\n",
    "    sorted_demands = np.sort(d)\n",
    "    sorted_allocations = waterfilling_sorted(sorted_demands, b)\n",
    "    allocations = np.zeros(n)\n",
    "    for i in range(n):\n",
    "        allocations[sorted_indices[i]] = sorted_allocations[i]\n",
    "    return allocations"
   ]
  },
  {
   "cell_type": "code",
   "execution_count": 4,
   "metadata": {},
   "outputs": [],
   "source": [
    "## Tests\n",
    "assert list(waterfilling(np.zeros(0), 5)) == []\n",
    "assert list(waterfilling(np.array([1,2,3,4]), 10)) == [1,2,3,4]\n",
    "assert list(waterfilling(np.array([3,4,1,2]), 10)) == [3,4,1,2]\n",
    "assert list(waterfilling(np.array([1,2,3,4]), 8)) == [1,2,2.5,2.5]\n",
    "assert list(waterfilling(np.array([3,1,4,2]), 8)) == [2.5,1,2.5,2]\n",
    "assert list(waterfilling(np.array([3,6,5,6]), 8)) == [2,2,2,2]"
   ]
  },
  {
   "cell_type": "code",
   "execution_count": 30,
   "metadata": {},
   "outputs": [],
   "source": [
    "# Calculates the Bayes Optimal solution to the problem by solving the dynamic programming\n",
    "# Note that this method was specified for the demand distribution where it is 1 with probability 1/2\n",
    "# and 2 with probability 1/2\n",
    "def bayes_opt(n, budget, grid_size):\n",
    "    \n",
    "    print(n)\n",
    "    print(budget)\n",
    "    print(grid_size)\n",
    "    # Creates a discretization of the interval [0, budget] with bucket_size of grid_size\n",
    "    b_grid = np.arange(0, budget+grid_size, grid_size)\n",
    "    print(b_grid.shape)\n",
    "    # Defines empty arrays for the estimates\n",
    "    Q_vals = np.ones((len(b_grid), len(b_grid), 2, n+1), dtype = np.float32)*(-100000)\n",
    "    \n",
    "    # Q_vals[b,a,d,h] will be the expected objective value for having a budget b, giving amount a to town h, where \n",
    "    # town h has a demand of d\n",
    "    \n",
    "    V_vals = np.zeros((len(b_grid), 2, n+1), dtype = np.float32)\n",
    "    # V_vals[b,d,h] will be the expected objective value for having a budget b where town h has a demand of d.\n",
    "    \n",
    "    # loops over each town backwards (as the last town is easy to solve)\n",
    "    for h in np.arange(n, -1, -1):\n",
    "        index_b = 1\n",
    "        for b in b_grid[1:]: # loops over each budget in the grid\n",
    "            index_a = 1\n",
    "            for a in b_grid[1:]: # loops over each potential allocation in the grid\n",
    "                \n",
    "                if a <= b and a != 0: # Cannot give out more food than the budget, and cannot give out zero food\n",
    "                    \n",
    "                    # calculates index in the array for the remaining budget\n",
    "                    remaining_budget = b-a\n",
    "                    new_index = int(np.floor(remaining_budget / grid_size))\n",
    "                    \n",
    "                    if h == n:\n",
    "                        # This town is the last town, so the objective is just the value for the allocation of a\n",
    "                        # when their demand is 0 (corresponding to demand of 1) or 1 (corresponding to a demand of 2)\n",
    "                        Q_vals[index_b, index_a, 0, h] = np.log(min(a,1))\n",
    "                        Q_vals[index_b, index_a, 1, h] = np.log(min(a/2,1))\n",
    "                    else:\n",
    "                        # Otherowise they get the same immediate increase in objective value,\n",
    "                        # but the future objective is the value for the next town and so on.\n",
    "                        Q_vals[index_b, index_a, 0, h] = np.log(min(a,1)) + (1/2)*V_vals[new_index,0,h+1] + (1/2)*V_vals[new_index,1,h+1]\n",
    "                        Q_vals[index_b, index_a, 1, h] = np.log(min(a/2,1)) + (1/2)*V_vals[new_index,0,h+1] + (1/2)*V_vals[new_index,1,h+1]\n",
    "                index_a += 1\n",
    "            # Update the V_function as the maximum of Q.  Note that we limit the bounds in the max\n",
    "            # to give out some portion of food, and at most the budget\n",
    "            V_vals[index_b,0,h] = max(Q_vals[index_b,1:(index_b+1),0,h])\n",
    "            V_vals[index_b,1,h] = max(Q_vals[index_b,1:(index_b+1),1,h])\n",
    "            index_b += 1\n",
    "    return Q_vals"
   ]
  },
  {
   "cell_type": "code",
   "execution_count": null,
   "metadata": {},
   "outputs": [],
   "source": []
  },
  {
   "cell_type": "markdown",
   "metadata": {},
   "source": [
    "## Online Algorithms"
   ]
  },
  {
   "cell_type": "code",
   "execution_count": 6,
   "metadata": {},
   "outputs": [],
   "source": [
    "## Online Water-filling taking minimum of realized demand and predetermeined allocation\n",
    "def waterfilling_online_1(demands_predicted, demands_realized, b):\n",
    "    n = np.size(demands_predicted)\n",
    "    prior_allocations_assignment = waterfilling(demands_predicted,b)\n",
    "    allocations = np.zeros(n)\n",
    "    bundle_remaining = b\n",
    "    for i in range(n):\n",
    "        allocations[i] = min(prior_allocations_assignment[i], demands_realized[i]) if i!=n-1 else bundle_remaining\n",
    "        bundle_remaining -= allocations[i]\n",
    "    return allocations"
   ]
  },
  {
   "cell_type": "code",
   "execution_count": 7,
   "metadata": {},
   "outputs": [],
   "source": [
    "## Tests\n",
    "assert list(waterfilling_online_1(np.zeros(0), np.zeros(0), 5)) == []\n",
    "assert list(waterfilling_online_1(np.array([1,2,3,4]), np.array([5,5,5,5]), 10)) == [1,2,3,4]\n",
    "assert list(waterfilling_online_1(np.array([3,1,4,2]), np.array([2,3,2.5,1]), 8)) == [2,1,2.5,2.5]\n"
   ]
  },
  {
   "cell_type": "code",
   "execution_count": 8,
   "metadata": {},
   "outputs": [],
   "source": [
    "## Online Water-filling algorithm where each agent solves waterfilling with realized current demand and expected following demands\n",
    "def waterfilling_online_2(demands_predicted, demands_realized, b):\n",
    "    n = np.size(demands_predicted)\n",
    "    allocations = np.zeros(n)\n",
    "    bundle_remaining = b\n",
    "    for i in range(n):\n",
    "        allocations[i] = waterfilling(np.append(demands_realized[i],demands_predicted[i+1:]), bundle_remaining)[0]\n",
    "        bundle_remaining -= allocations[i]\n",
    "    return allocations"
   ]
  },
  {
   "cell_type": "code",
   "execution_count": 9,
   "metadata": {},
   "outputs": [],
   "source": [
    "def insert_sorted(lst, element):\n",
    "    n = np.size(lst)\n",
    "    if n==0:\n",
    "        return np.array([element]),0\n",
    "    if element<lst[0]:\n",
    "        return np.append(element,lst),0\n",
    "    if element>lst[n-1]:\n",
    "        return np.append(lst,element),n\n",
    "    left = 0\n",
    "    right = n-1\n",
    "    while left<right-1:\n",
    "        mid_ind = int((left+right)/2)\n",
    "        if element<lst[mid_ind]:\n",
    "            right = mid_ind\n",
    "        elif element > lst[mid_ind] :\n",
    "            left = mid_ind\n",
    "        if element == lst[mid_ind] or (element>lst[mid_ind] and element<lst[mid_ind+1]):\n",
    "            return np.append(np.append(lst[:mid_ind+1],element),lst[mid_ind+1:]), mid_ind+1\n",
    "    return np.append(np.append(lst[:left],element),lst[left:]), left"
   ]
  },
  {
   "cell_type": "code",
   "execution_count": 10,
   "metadata": {},
   "outputs": [],
   "source": [
    "def delete_sorted(lst,element):\n",
    "    n = np.size(lst)\n",
    "    if element==lst[0]:\n",
    "        return lst[1:]\n",
    "    if element==lst[n-1]:\n",
    "        return lst[:-1]\n",
    "    left = 0\n",
    "    right = n-1\n",
    "    while left<right-1:\n",
    "        mid_ind = int((left+right)/2)\n",
    "        if element<lst[mid_ind]:\n",
    "            right = mid_ind\n",
    "        elif element > lst[mid_ind] :\n",
    "            left = mid_ind\n",
    "        else:\n",
    "            return np.append(lst[:mid_ind],lst[mid_ind+1:])"
   ]
  },
  {
   "cell_type": "code",
   "execution_count": 11,
   "metadata": {},
   "outputs": [],
   "source": [
    "## O(n^2) version of online algorithm that needs waterfilling evaluated multiple times\n",
    "def waterfilling_dynamic(demands_predicted, demands_realized, b):\n",
    "    n = np.size(demands_predicted)\n",
    "    sorted_demands = np.sort(demands_predicted)\n",
    "    allocations = np.zeros(n)\n",
    "    bundle_remaining = b\n",
    "    for i in range(n):\n",
    "        sorted_demands = delete_sorted(sorted_demands, demands_predicted[i])\n",
    "        new_sorted_list,index = insert_sorted(sorted_demands,demands_realized[i])\n",
    "        allocations[i] = (waterfilling_sorted(new_sorted_list, bundle_remaining))[index]\n",
    "        bundle_remaining -= allocations[i]\n",
    "    return allocations\n",
    "    "
   ]
  },
  {
   "cell_type": "code",
   "execution_count": 12,
   "metadata": {},
   "outputs": [],
   "source": [
    "## Tests \n",
    "assert list(waterfilling_online_2(np.zeros(0), np.zeros(0), 5)) == []\n",
    "assert list(np.around(waterfilling_online_2(np.array([1,2,3,4]), np.array([5,5,5,5]), 11),2)) == [3,2.67,2.67,2.67]\n",
    "assert list(waterfilling_online_2(np.array([4,5,3,6]), np.array([2,1,8,6]), 15)) == [2,1,6,6]\n",
    "assert list(waterfilling_online_2(np.array([4,5,3,6]), np.array([9,10,2,1]), 15)) == [4,4,2,5]\n",
    "\n",
    "assert list(waterfilling_dynamic(np.zeros(0), np.zeros(0), 5)) == []\n",
    "assert list(np.around(waterfilling_dynamic(np.array([1,2,3,4]), np.array([5,5,5,5]), 11),2)) == [3,2.67,2.67,2.67]\n",
    "assert list(waterfilling_dynamic(np.array([4,5,3,6]), np.array([2,1,8,6]), 15)) == [2,1,6,6]\n",
    "assert list(waterfilling_dynamic(np.array([4,5,3,6]), np.array([9,10,2,1]), 15)) == [4,4,2,5]\n"
   ]
  },
  {
   "cell_type": "code",
   "execution_count": 13,
   "metadata": {},
   "outputs": [],
   "source": [
    "## Online Water-filling algorithm where each agent is assigned infinite demand while finding optimal solution and allocation is readjusted\n",
    "def waterfilling_online_3(demands_predicted, demands_realized, b):\n",
    "    n = np.size(demands_predicted)\n",
    "    allocations = np.zeros(n)\n",
    "    bundle_remaining = b\n",
    "    for i in range(n):\n",
    "        future_allocations = waterfilling(np.append(np.Inf,demands_predicted[i+1:]), bundle_remaining)\n",
    "        if future_allocations[0]>demands_realized[i] and i!=n-1:\n",
    "            allocations[i] = demands_realized[i]\n",
    "        else:\n",
    "            allocations[i] = future_allocations[0]\n",
    "        bundle_remaining -= allocations[i]\n",
    "    return allocations"
   ]
  },
  {
   "cell_type": "code",
   "execution_count": 14,
   "metadata": {},
   "outputs": [],
   "source": [
    "## Tests \n",
    "assert list(waterfilling_online_3(np.zeros(0), np.zeros(0), 5)) == []\n",
    "assert list(np.around(waterfilling_online_3(np.array([1,2,3,4]), np.array([5,5,5,5]), 11),2)) == [3,2.67,2.67,2.67]\n",
    "assert list(waterfilling_online_3(np.array([4,5,3,6]), np.array([2,1,8,6]), 15)) == [2,1,6,6]\n",
    "assert list(waterfilling_online_3(np.array([4,5,3,6]), np.array([9,10,2,1]), 15)) == [4,4,2,5]"
   ]
  },
  {
   "cell_type": "code",
   "execution_count": 24,
   "metadata": {},
   "outputs": [],
   "source": [
    "# Bayes optimal version of water filling\n",
    "\n",
    "def waterfilling_bayes_opt(town_demands,budget):\n",
    "    n = np.size(town_demands)\n",
    "    allocations = np.zeros(n)\n",
    "    bundle_remaining = budget\n",
    "    # Computes a random grid-size to use for the computation\n",
    "    grid_size = 1 / (n)\n",
    "    # Computes othe Q_vals for the Bayes Optimal solution.\n",
    "    Q_vals = bayes_opt(n, budget, grid_size)\n",
    "    \n",
    "    # For each town\n",
    "    for i in range(n):\n",
    "        # Compute the index of the remaining budget\n",
    "        index = int(np.floor(bundle_remaining / grid_size))\n",
    "        # Take the action that maximizes the Q function of their demands\n",
    "        allocations[i] = np.argmax(Q_vals[index, 1:(index+1),(town_demands[i]-1).astype(int), i])*grid_size\n",
    "        # Reduces the remaining budget\n",
    "        bundle_remaining = bundle_remaining - allocations[i]\n",
    "    return allocations"
   ]
  },
  {
   "cell_type": "markdown",
   "metadata": {},
   "source": [
    "## Objective Function"
   ]
  },
  {
   "cell_type": "code",
   "execution_count": 16,
   "metadata": {},
   "outputs": [],
   "source": [
    "## Calculate log of Nash welfare for objective function\n",
    "def objective(demands, allocation):\n",
    "    welfare_sum = 0\n",
    "    for i in range(np.size(demands)):\n",
    "        welfare_sum += np.log(min(1,allocation[i]/demands[i]))\n",
    "    return welfare_sum"
   ]
  },
  {
   "cell_type": "markdown",
   "metadata": {},
   "source": [
    "## Experiment"
   ]
  },
  {
   "cell_type": "code",
   "execution_count": 17,
   "metadata": {},
   "outputs": [],
   "source": [
    "def make_demands_uniform_distribution(num_towns, demand_ranges):\n",
    "    demands = np.zeros(num_towns)\n",
    "    expected_demands = np.zeros(num_towns)\n",
    "    for i in range(num_towns):\n",
    "        demands[i] = np.random.uniform(0, demand_ranges[i])\n",
    "        expected_demands[i] = demand_ranges[i]/2\n",
    "    return demands, expected_demands\n"
   ]
  },
  {
   "cell_type": "code",
   "execution_count": 18,
   "metadata": {},
   "outputs": [],
   "source": [
    "def make_demands_exponential_distribution(num_towns, demand_means):\n",
    "    demands = np.zeros(num_towns)\n",
    "    expected_demands = np.zeros(num_towns)\n",
    "    for i in range(num_towns):\n",
    "        demands[i] = np.random.exponential(demand_means[i])\n",
    "        expected_demands[i] = demand_means[i]\n",
    "    return demands, expected_demands\n"
   ]
  },
  {
   "cell_type": "code",
   "execution_count": 19,
   "metadata": {},
   "outputs": [],
   "source": [
    "def make_demands_discrete_distribution(num_towns):\n",
    "    demands = np.zeros(num_towns)\n",
    "    expected_demands = np.zeros(num_towns)\n",
    "    for i in range(num_towns):\n",
    "        demands[i] = np.random.binomial(1,.5) + 1\n",
    "        expected_demands[i] = 1.5\n",
    "    return demands, expected_demands"
   ]
  },
  {
   "cell_type": "code",
   "execution_count": 20,
   "metadata": {},
   "outputs": [],
   "source": [
    "num_iterations = 1\n",
    "num_towns_range = 100\n",
    "demands_max = 20\n",
    "max_n = 1000\n",
    "fix_num_towns = 10\n",
    "max_b = 200\n"
   ]
  },
  {
   "cell_type": "code",
   "execution_count": 21,
   "metadata": {},
   "outputs": [
    {
     "data": {
      "text/plain": [
       "array([  10,   10,   12,   13,   14,   15,   17,   19,   21,   23,   25,\n",
       "         28,   30,   33,   37,   40,   44,   49,   54,   59,   65,   71,\n",
       "         79,   86,   95,  104,  115,  126,  138,  152,  167,  184,  202,\n",
       "        222,  244,  268,  294,  323,  355,  390,  429,  471,  517,  568,\n",
       "        625,  686,  754,  828,  910, 1000])"
      ]
     },
     "execution_count": 21,
     "metadata": {},
     "output_type": "execute_result"
    }
   ],
   "source": [
    "np.logspace(1,3).astype(int)"
   ]
  },
  {
   "cell_type": "markdown",
   "metadata": {},
   "source": [
    "### Regret for Discrete Distribution of Demands"
   ]
  },
  {
   "cell_type": "code",
   "execution_count": 31,
   "metadata": {
    "scrolled": true
   },
   "outputs": [
    {
     "name": "stdout",
     "output_type": "stream",
     "text": [
      "10\n",
      "15.0\n",
      "0.1\n",
      "(151,)\n",
      "100\n",
      "150.0\n",
      "0.01\n",
      "(15001,)\n"
     ]
    },
    {
     "ename": "MemoryError",
     "evalue": "Unable to allocate 169. GiB for an array with shape (15001, 15001, 2, 101) and data type float32",
     "output_type": "error",
     "traceback": [
      "\u001b[1;31m---------------------------------------------------------------------------\u001b[0m",
      "\u001b[1;31mMemoryError\u001b[0m                               Traceback (most recent call last)",
      "\u001b[1;32m<ipython-input-31-8be94fce1377>\u001b[0m in \u001b[0;36m<module>\u001b[1;34m\u001b[0m\n\u001b[0;32m     12\u001b[0m                 \u001b[0mdata_dict_1\u001b[0m\u001b[1;33m[\u001b[0m\u001b[1;34m'Alg_1'\u001b[0m\u001b[1;33m]\u001b[0m\u001b[1;33m.\u001b[0m\u001b[0mappend\u001b[0m\u001b[1;33m(\u001b[0m\u001b[0mopt\u001b[0m \u001b[1;33m-\u001b[0m \u001b[0mobjective\u001b[0m\u001b[1;33m(\u001b[0m\u001b[0mtown_demands\u001b[0m\u001b[1;33m,\u001b[0m \u001b[0mwaterfilling\u001b[0m\u001b[1;33m(\u001b[0m\u001b[0mtown_expected_demands\u001b[0m\u001b[1;33m,\u001b[0m\u001b[0mbudget\u001b[0m\u001b[1;33m)\u001b[0m\u001b[1;33m)\u001b[0m\u001b[1;33m)\u001b[0m\u001b[1;33m\u001b[0m\u001b[1;33m\u001b[0m\u001b[0m\n\u001b[0;32m     13\u001b[0m             \u001b[1;32mif\u001b[0m \u001b[0mj\u001b[0m\u001b[1;33m==\u001b[0m\u001b[1;36m1\u001b[0m\u001b[1;33m:\u001b[0m\u001b[1;33m\u001b[0m\u001b[1;33m\u001b[0m\u001b[0m\n\u001b[1;32m---> 14\u001b[1;33m                  \u001b[0mdata_dict_1\u001b[0m\u001b[1;33m[\u001b[0m\u001b[1;34m'Alg_2'\u001b[0m\u001b[1;33m]\u001b[0m\u001b[1;33m.\u001b[0m\u001b[0mappend\u001b[0m\u001b[1;33m(\u001b[0m\u001b[0mopt\u001b[0m \u001b[1;33m-\u001b[0m \u001b[0mobjective\u001b[0m\u001b[1;33m(\u001b[0m\u001b[0mtown_demands\u001b[0m\u001b[1;33m,\u001b[0m \u001b[0mwaterfilling_bayes_opt\u001b[0m\u001b[1;33m(\u001b[0m\u001b[0mtown_demands\u001b[0m\u001b[1;33m,\u001b[0m\u001b[0mbudget\u001b[0m\u001b[1;33m)\u001b[0m\u001b[1;33m)\u001b[0m\u001b[1;33m)\u001b[0m\u001b[1;33m\u001b[0m\u001b[1;33m\u001b[0m\u001b[0m\n\u001b[0m\u001b[0;32m     15\u001b[0m             \u001b[1;32mif\u001b[0m \u001b[0mj\u001b[0m\u001b[1;33m==\u001b[0m\u001b[1;36m2\u001b[0m\u001b[1;33m:\u001b[0m\u001b[1;33m\u001b[0m\u001b[1;33m\u001b[0m\u001b[0m\n\u001b[0;32m     16\u001b[0m                 \u001b[0mdata_dict_1\u001b[0m\u001b[1;33m[\u001b[0m\u001b[1;34m'Alg_3'\u001b[0m\u001b[1;33m]\u001b[0m\u001b[1;33m.\u001b[0m\u001b[0mappend\u001b[0m\u001b[1;33m(\u001b[0m\u001b[0mopt\u001b[0m \u001b[1;33m-\u001b[0m \u001b[0mobjective\u001b[0m\u001b[1;33m(\u001b[0m\u001b[0mtown_demands\u001b[0m\u001b[1;33m,\u001b[0m \u001b[0mwaterfilling_dynamic\u001b[0m\u001b[1;33m(\u001b[0m\u001b[0mtown_expected_demands\u001b[0m\u001b[1;33m,\u001b[0m\u001b[0mtown_demands\u001b[0m\u001b[1;33m,\u001b[0m\u001b[0mbudget\u001b[0m\u001b[1;33m)\u001b[0m\u001b[1;33m)\u001b[0m\u001b[1;33m)\u001b[0m\u001b[1;33m\u001b[0m\u001b[1;33m\u001b[0m\u001b[0m\n",
      "\u001b[1;32m<ipython-input-24-c006787a0299>\u001b[0m in \u001b[0;36mwaterfilling_bayes_opt\u001b[1;34m(town_demands, budget)\u001b[0m\n\u001b[0;32m      8\u001b[0m     \u001b[0mgrid_size\u001b[0m \u001b[1;33m=\u001b[0m \u001b[1;36m1\u001b[0m \u001b[1;33m/\u001b[0m \u001b[1;33m(\u001b[0m\u001b[0mn\u001b[0m\u001b[1;33m)\u001b[0m\u001b[1;33m\u001b[0m\u001b[1;33m\u001b[0m\u001b[0m\n\u001b[0;32m      9\u001b[0m     \u001b[1;31m# Computes othe Q_vals for the Bayes Optimal solution.\u001b[0m\u001b[1;33m\u001b[0m\u001b[1;33m\u001b[0m\u001b[1;33m\u001b[0m\u001b[0m\n\u001b[1;32m---> 10\u001b[1;33m     \u001b[0mQ_vals\u001b[0m \u001b[1;33m=\u001b[0m \u001b[0mbayes_opt\u001b[0m\u001b[1;33m(\u001b[0m\u001b[0mn\u001b[0m\u001b[1;33m,\u001b[0m \u001b[0mbudget\u001b[0m\u001b[1;33m,\u001b[0m \u001b[0mgrid_size\u001b[0m\u001b[1;33m)\u001b[0m\u001b[1;33m\u001b[0m\u001b[1;33m\u001b[0m\u001b[0m\n\u001b[0m\u001b[0;32m     11\u001b[0m \u001b[1;33m\u001b[0m\u001b[0m\n\u001b[0;32m     12\u001b[0m     \u001b[1;31m# For each town\u001b[0m\u001b[1;33m\u001b[0m\u001b[1;33m\u001b[0m\u001b[1;33m\u001b[0m\u001b[0m\n",
      "\u001b[1;32m<ipython-input-30-f6d7dc2ceef7>\u001b[0m in \u001b[0;36mbayes_opt\u001b[1;34m(n, budget, grid_size)\u001b[0m\n\u001b[0;32m     11\u001b[0m     \u001b[0mprint\u001b[0m\u001b[1;33m(\u001b[0m\u001b[0mb_grid\u001b[0m\u001b[1;33m.\u001b[0m\u001b[0mshape\u001b[0m\u001b[1;33m)\u001b[0m\u001b[1;33m\u001b[0m\u001b[1;33m\u001b[0m\u001b[0m\n\u001b[0;32m     12\u001b[0m     \u001b[1;31m# Defines empty arrays for the estimates\u001b[0m\u001b[1;33m\u001b[0m\u001b[1;33m\u001b[0m\u001b[1;33m\u001b[0m\u001b[0m\n\u001b[1;32m---> 13\u001b[1;33m     \u001b[0mQ_vals\u001b[0m \u001b[1;33m=\u001b[0m \u001b[0mnp\u001b[0m\u001b[1;33m.\u001b[0m\u001b[0mones\u001b[0m\u001b[1;33m(\u001b[0m\u001b[1;33m(\u001b[0m\u001b[0mlen\u001b[0m\u001b[1;33m(\u001b[0m\u001b[0mb_grid\u001b[0m\u001b[1;33m)\u001b[0m\u001b[1;33m,\u001b[0m \u001b[0mlen\u001b[0m\u001b[1;33m(\u001b[0m\u001b[0mb_grid\u001b[0m\u001b[1;33m)\u001b[0m\u001b[1;33m,\u001b[0m \u001b[1;36m2\u001b[0m\u001b[1;33m,\u001b[0m \u001b[0mn\u001b[0m\u001b[1;33m+\u001b[0m\u001b[1;36m1\u001b[0m\u001b[1;33m)\u001b[0m\u001b[1;33m,\u001b[0m \u001b[0mdtype\u001b[0m \u001b[1;33m=\u001b[0m \u001b[0mnp\u001b[0m\u001b[1;33m.\u001b[0m\u001b[0mfloat32\u001b[0m\u001b[1;33m)\u001b[0m\u001b[1;33m*\u001b[0m\u001b[1;33m(\u001b[0m\u001b[1;33m-\u001b[0m\u001b[1;36m100000\u001b[0m\u001b[1;33m)\u001b[0m\u001b[1;33m\u001b[0m\u001b[1;33m\u001b[0m\u001b[0m\n\u001b[0m\u001b[0;32m     14\u001b[0m \u001b[1;33m\u001b[0m\u001b[0m\n\u001b[0;32m     15\u001b[0m     \u001b[1;31m# Q_vals[b,a,d,h] will be the expected objective value for having a budget b, giving amount a to town h, where\u001b[0m\u001b[1;33m\u001b[0m\u001b[1;33m\u001b[0m\u001b[1;33m\u001b[0m\u001b[0m\n",
      "\u001b[1;32m~\\anaconda3\\lib\\site-packages\\numpy\\core\\numeric.py\u001b[0m in \u001b[0;36mones\u001b[1;34m(shape, dtype, order)\u001b[0m\n\u001b[0;32m    205\u001b[0m \u001b[1;33m\u001b[0m\u001b[0m\n\u001b[0;32m    206\u001b[0m     \"\"\"\n\u001b[1;32m--> 207\u001b[1;33m     \u001b[0ma\u001b[0m \u001b[1;33m=\u001b[0m \u001b[0mempty\u001b[0m\u001b[1;33m(\u001b[0m\u001b[0mshape\u001b[0m\u001b[1;33m,\u001b[0m \u001b[0mdtype\u001b[0m\u001b[1;33m,\u001b[0m \u001b[0morder\u001b[0m\u001b[1;33m)\u001b[0m\u001b[1;33m\u001b[0m\u001b[1;33m\u001b[0m\u001b[0m\n\u001b[0m\u001b[0;32m    208\u001b[0m     \u001b[0mmultiarray\u001b[0m\u001b[1;33m.\u001b[0m\u001b[0mcopyto\u001b[0m\u001b[1;33m(\u001b[0m\u001b[0ma\u001b[0m\u001b[1;33m,\u001b[0m \u001b[1;36m1\u001b[0m\u001b[1;33m,\u001b[0m \u001b[0mcasting\u001b[0m\u001b[1;33m=\u001b[0m\u001b[1;34m'unsafe'\u001b[0m\u001b[1;33m)\u001b[0m\u001b[1;33m\u001b[0m\u001b[1;33m\u001b[0m\u001b[0m\n\u001b[0;32m    209\u001b[0m     \u001b[1;32mreturn\u001b[0m \u001b[0ma\u001b[0m\u001b[1;33m\u001b[0m\u001b[1;33m\u001b[0m\u001b[0m\n",
      "\u001b[1;31mMemoryError\u001b[0m: Unable to allocate 169. GiB for an array with shape (15001, 15001, 2, 101) and data type float32"
     ]
    }
   ],
   "source": [
    "data_dict_1 = {'NumTowns':[],'Alg_1':[],'Alg_3':[], 'Alg_2':[]}\n",
    "\n",
    "for n in np.logspace(1,2,2).astype(int):\n",
    "    for i in range(num_iterations):\n",
    "        data_dict_1['NumTowns'].append(n)\n",
    "        town_demands, town_expected_demands = make_demands_discrete_distribution(n)\n",
    "        budget = np.sum(town_expected_demands)\n",
    "\n",
    "        opt = objective(town_demands, waterfilling(town_demands,budget))\n",
    "        for j in range(3):\n",
    "            if j==0:\n",
    "                data_dict_1['Alg_1'].append(opt - objective(town_demands, waterfilling(town_expected_demands,budget)))\n",
    "            if j==1:\n",
    "                 data_dict_1['Alg_2'].append(opt - objective(town_demands, waterfilling_bayes_opt(town_demands,budget)))\n",
    "            if j==2:\n",
    "                data_dict_1['Alg_3'].append(opt - objective(town_demands, waterfilling_dynamic(town_expected_demands,town_demands,budget)))\n",
    "df_uniform = pd.DataFrame(data_dict_1).melt(id_vars=\"NumTowns\")\n",
    "fig = px.scatter(df_uniform, x=\"NumTowns\", y=\"value\", color='variable')\n",
    "fig.show()"
   ]
  }
 ],
 "metadata": {
  "kernelspec": {
   "display_name": "Python 3",
   "language": "python",
   "name": "python3"
  },
  "language_info": {
   "codemirror_mode": {
    "name": "ipython",
    "version": 3
   },
   "file_extension": ".py",
   "mimetype": "text/x-python",
   "name": "python",
   "nbconvert_exporter": "python",
   "pygments_lexer": "ipython3",
   "version": "3.7.6"
  }
 },
 "nbformat": 4,
 "nbformat_minor": 2
}
