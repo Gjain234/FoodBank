{
 "cells": [
  {
   "cell_type": "markdown",
   "metadata": {},
   "source": [
    "# Food Bank Problem"
   ]
  },
  {
   "cell_type": "code",
   "execution_count": 2,
   "metadata": {},
   "outputs": [],
   "source": [
    "import sys\n",
    "import numpy as np\n",
    "import plotly.express as px\n",
    "import pandas as pd\n",
    "import scipy.optimize as optimization"
   ]
  },
  {
   "cell_type": "markdown",
   "metadata": {},
   "source": [
    "## OPT - Waterfilling"
   ]
  },
  {
   "cell_type": "code",
   "execution_count": 3,
   "metadata": {},
   "outputs": [],
   "source": [
    "## Water-filling Algorithm for sorted demands\n",
    "def waterfilling_sorted(d,b):\n",
    "    n = np.size(d)\n",
    "    allocations = np.zeros(n)\n",
    "    bundle_remaining = b\n",
    "    for i in range(n):\n",
    "        equal_allocation = bundle_remaining/(n-i)\n",
    "        if d[i]<equal_allocation:\n",
    "            allocations[i] = bundle_remaining if i==n-1 else d[i]\n",
    "        else:\n",
    "            allocations[i] = equal_allocation\n",
    "        bundle_remaining -= allocations[i]\n",
    "    return allocations"
   ]
  },
  {
   "cell_type": "code",
   "execution_count": 60,
   "metadata": {},
   "outputs": [],
   "source": [
    "## Water-filling Algorithm for sorted demands and weights for bucket width\n",
    "def waterfilling_sorted_weights(demands, weights,budget,index, width):\n",
    "    #print(demands, weights,budget,index, width)\n",
    "    n = np.size(demands)\n",
    "    allocations = np.zeros(n)\n",
    "    budget_remaining = budget\n",
    "    weight_index = 0\n",
    "    equal_allocation = budget_remaining/(width+1)\n",
    "    index_found = False\n",
    "    curr_weight = 1\n",
    "    for i in range(n):\n",
    "        if demands[i]<equal_allocation:\n",
    "            allocations[i] = budget_remaining if i==n-1 else demands[i]\n",
    "        else:\n",
    "            allocations[i] = equal_allocation\n",
    "        if i!=index:\n",
    "            budget_remaining -= allocations[i]*weights[weight_index]*width\n",
    "            curr_weight -= weights[weight_index]   \n",
    "            weight_index+=1\n",
    "        else:\n",
    "            budget_remaining -= allocations[i]\n",
    "            index_found = True\n",
    "        if i!=n-1:\n",
    "            if index_found:\n",
    "                equal_allocation = budget_remaining/(width*curr_weight)\n",
    "            else: \n",
    "                equal_allocation = budget_remaining/(width*curr_weight+1)\n",
    "    return allocations"
   ]
  },
  {
   "cell_type": "code",
   "execution_count": 61,
   "metadata": {},
   "outputs": [
    {
     "data": {
      "text/plain": [
       "array([1.66666667, 1.33333333])"
      ]
     },
     "execution_count": 61,
     "metadata": {},
     "output_type": "execute_result"
    }
   ],
   "source": [
    "waterfilling_weights(np.array([0.5,0.5]), np.array([1,2]),np.array([2,1]), 3)"
   ]
  },
  {
   "cell_type": "code",
   "execution_count": 5,
   "metadata": {},
   "outputs": [],
   "source": [
    "## Water-filling Algorithm for general demands\n",
    "def waterfilling(d,b):\n",
    "    n = np.size(d)\n",
    "    sorted_indices = np.argsort(d)\n",
    "    sorted_demands = np.sort(d)\n",
    "    sorted_allocations = waterfilling_sorted(sorted_demands, b)\n",
    "    allocations = np.zeros(n)\n",
    "    for i in range(n):\n",
    "        allocations[sorted_indices[i]] = sorted_allocations[i]\n",
    "    return allocations"
   ]
  },
  {
   "cell_type": "code",
   "execution_count": 6,
   "metadata": {},
   "outputs": [],
   "source": [
    "## Tests\n",
    "assert list(waterfilling(np.zeros(0), 5)) == []\n",
    "assert list(waterfilling(np.array([1,2,3,4]), 10)) == [1,2,3,4]\n",
    "assert list(waterfilling(np.array([3,4,1,2]), 10)) == [3,4,1,2]\n",
    "assert list(waterfilling(np.array([1,2,3,4]), 8)) == [1,2,2.5,2.5]\n",
    "assert list(waterfilling(np.array([3,1,4,2]), 8)) == [2.5,1,2.5,2]\n",
    "assert list(waterfilling(np.array([3,6,5,6]), 8)) == [2,2,2,2]"
   ]
  },
  {
   "cell_type": "markdown",
   "metadata": {},
   "source": [
    "## Online Algorithms"
   ]
  },
  {
   "cell_type": "code",
   "execution_count": 7,
   "metadata": {},
   "outputs": [],
   "source": [
    "## Online Water-filling taking minimum of realized demand and B/n\n",
    "def waterfilling_proportional(demands_realized,b):\n",
    "    n = np.size(demands_realized)\n",
    "    allocations = np.zeros(n)\n",
    "    eq = 1 if n==0 else b/n\n",
    "    bundle_remaining = b\n",
    "    for i in range(n):\n",
    "        if i!=n-1:\n",
    "            allocations[i] = min(eq, demands_realized[i])\n",
    "        else:\n",
    "            allocations[i] = bundle_remaining\n",
    "        bundle_remaining -= allocations[i]\n",
    "    return allocations"
   ]
  },
  {
   "cell_type": "code",
   "execution_count": 8,
   "metadata": {},
   "outputs": [],
   "source": [
    "## Online Water-filling taking minimum of realized demand and B/n\n",
    "def waterfilling_proportional_remaining(demands_realized,b):\n",
    "    n = np.size(demands_realized)\n",
    "    allocations = np.zeros(n)\n",
    "    bundle_remaining = b\n",
    "    for i in range(n):\n",
    "        if i!=n-1:\n",
    "            allocations[i] = min(bundle_remaining/(n-i), demands_realized[i])\n",
    "        else:\n",
    "            allocations[i] = bundle_remaining\n",
    "        bundle_remaining -= allocations[i]\n",
    "    return allocations"
   ]
  },
  {
   "cell_type": "code",
   "execution_count": 9,
   "metadata": {},
   "outputs": [],
   "source": [
    "## Tests\n",
    "assert list(waterfilling_proportional(np.zeros(0), 5)) == []\n",
    "assert list(waterfilling_proportional(np.array([1,2,3,4]), 10)) == [1,2,2.5,4.5]\n",
    "assert list(waterfilling_proportional(np.array([3,4,1,2]), 10)) == [2.5,2.5,1,4]\n",
    "assert list(waterfilling_proportional(np.array([1,2,3,4]), 8)) == [1,2,2,3]\n",
    "assert list(waterfilling_proportional(np.array([3,1,4,2]), 8)) == [2,1,2,3]\n",
    "assert list(waterfilling_proportional(np.array([3,6,5,6]), 8)) == [2,2,2,2]"
   ]
  },
  {
   "cell_type": "code",
   "execution_count": 10,
   "metadata": {},
   "outputs": [],
   "source": [
    "## Tests\n",
    "assert list(waterfilling_proportional_remaining(np.zeros(0), 5)) == []\n",
    "assert list(waterfilling_proportional_remaining(np.array([1,2,3,4]), 10)) == [1,2,3,4]\n",
    "assert list(waterfilling_proportional_remaining(np.array([3,4,1,2]), 10)) == [2.5,2.5,1,4]\n",
    "assert list(waterfilling_proportional_remaining(np.array([1,2,3,4]), 8)) == [1,2,2.5,2.5]\n",
    "assert list(waterfilling_proportional_remaining(np.array([3,1,4,2]), 8)) == [2,1,2.5,2.5]\n",
    "assert list(waterfilling_proportional_remaining(np.array([3,6,5,6]), 8)) == [2,2,2,2]\n",
    "assert list(waterfilling_proportional_remaining(np.array([4,5,3,6]), 16)) == [4,4,3,5]\n",
    "assert list(waterfilling_proportional_remaining(np.array([9,10,2,1]), 16)) == [4,4,2,6]"
   ]
  },
  {
   "cell_type": "code",
   "execution_count": 11,
   "metadata": {},
   "outputs": [],
   "source": [
    "## Online Water-filling taking minimum of realized demand and predetermeined allocation\n",
    "def waterfilling_online_1(demands_predicted, demands_realized, b):\n",
    "    n = np.size(demands_predicted)\n",
    "    prior_allocations_assignment = waterfilling(demands_predicted,b)\n",
    "    allocations = np.zeros(n)\n",
    "    bundle_remaining = b\n",
    "    for i in range(n):\n",
    "        allocations[i] = min(prior_allocations_assignment[i], demands_realized[i]) if i!=n-1 else bundle_remaining\n",
    "        bundle_remaining -= allocations[i]\n",
    "    return allocations"
   ]
  },
  {
   "cell_type": "code",
   "execution_count": 12,
   "metadata": {},
   "outputs": [],
   "source": [
    "## Tests\n",
    "assert list(waterfilling_online_1(np.zeros(0), np.zeros(0), 5)) == []\n",
    "assert list(waterfilling_online_1(np.array([1,2,3,4]), np.array([5,5,5,5]), 10)) == [1,2,3,4]\n",
    "assert list(waterfilling_online_1(np.array([3,1,4,2]), np.array([2,3,2.5,1]), 8)) == [2,1,2.5,2.5]\n"
   ]
  },
  {
   "cell_type": "code",
   "execution_count": 13,
   "metadata": {},
   "outputs": [],
   "source": [
    "## Online Water-filling algorithm where each agent solves waterfilling with realized current demand and expected following demands\n",
    "def waterfilling_online_2(demands_predicted, demands_realized, b):\n",
    "    n = np.size(demands_predicted)\n",
    "    allocations = np.zeros(n)\n",
    "    bundle_remaining = b\n",
    "    for i in range(n):\n",
    "        allocations[i] = waterfilling(np.append(demands_realized[i],demands_predicted[i+1:]), bundle_remaining)[0]\n",
    "        bundle_remaining -= allocations[i]\n",
    "    return allocations"
   ]
  },
  {
   "cell_type": "code",
   "execution_count": 26,
   "metadata": {},
   "outputs": [],
   "source": [
    "def insert_sorted(lst, element):\n",
    "    n = np.size(lst)\n",
    "    if n==0:\n",
    "        return np.array([element]),0\n",
    "    if element<=lst[0]:\n",
    "        return np.append(element,lst),0\n",
    "    if element>=lst[n-1]:\n",
    "        return np.append(lst,element),n\n",
    "    left = 0\n",
    "    right = n-1\n",
    "    while left<right-1:\n",
    "        mid_ind = int((left+right)/2)\n",
    "        if element<lst[mid_ind]:\n",
    "            right = mid_ind\n",
    "        elif element > lst[mid_ind] :\n",
    "            left = mid_ind\n",
    "        if element == lst[mid_ind] or (element>lst[mid_ind] and element<lst[mid_ind+1]):\n",
    "            return np.append(np.append(lst[:mid_ind+1],element),lst[mid_ind+1:]), mid_ind+1\n",
    "    return np.append(np.append(lst[:left],element),lst[left:]), left"
   ]
  },
  {
   "cell_type": "code",
   "execution_count": 15,
   "metadata": {},
   "outputs": [],
   "source": [
    "def delete_sorted(lst,element):\n",
    "    n = np.size(lst)\n",
    "    if element==lst[0]:\n",
    "        return lst[1:]\n",
    "    if element==lst[n-1]:\n",
    "        return lst[:-1]\n",
    "    left = 0\n",
    "    right = n-1\n",
    "    while left<right-1:\n",
    "        mid_ind = int((left+right)/2)\n",
    "        if element<lst[mid_ind]:\n",
    "            right = mid_ind\n",
    "        elif element > lst[mid_ind] :\n",
    "            left = mid_ind\n",
    "        else:\n",
    "            return np.append(lst[:mid_ind],lst[mid_ind+1:])"
   ]
  },
  {
   "cell_type": "code",
   "execution_count": 16,
   "metadata": {},
   "outputs": [],
   "source": [
    "## O(n^2) version of online algorithm that needs waterfilling evaluated multiple times\n",
    "def waterfilling_dynamic(demands_predicted, demands_realized, b):\n",
    "    n = np.size(demands_predicted)\n",
    "    sorted_demands = np.sort(demands_predicted)\n",
    "    allocations = np.zeros(n)\n",
    "    bundle_remaining = b\n",
    "    for i in range(n):\n",
    "        sorted_demands = delete_sorted(sorted_demands, demands_predicted[i])\n",
    "        new_sorted_list,index = insert_sorted(sorted_demands,demands_realized[i])\n",
    "        if i<n-1:\n",
    "            allocations[i] = min((waterfilling_sorted(new_sorted_list, bundle_remaining))[index],demands_realized[i])\n",
    "        else:\n",
    "            allocations[i] = bundle_remaining\n",
    "        bundle_remaining -= allocations[i]\n",
    "    return allocations\n",
    "    "
   ]
  },
  {
   "cell_type": "code",
   "execution_count": 16,
   "metadata": {},
   "outputs": [],
   "source": [
    "## O(n^2) version of online algorithm that needs waterfilling evaluated multiple times and budget over-estimated at first\n",
    "def waterfilling_dynamic_budget_opt(demands_predicted, demands_realized, b, factor):\n",
    "    n = np.size(demands_predicted)\n",
    "    sorted_demands = np.sort(demands_predicted)\n",
    "    allocations = np.zeros(n)\n",
    "    bundle_remaining = b\n",
    "    for i in range(n):\n",
    "        sorted_demands = delete_sorted(sorted_demands, demands_predicted[i])\n",
    "        new_sorted_list,index = insert_sorted(sorted_demands,demands_realized[i])\n",
    "        if i<n-1:\n",
    "            potential_alloc = min((waterfilling_sorted(new_sorted_list, bundle_remaining+factor*(n-i-1)/n))[index],demands_realized[i])\n",
    "            if potential_alloc>=bundle_remaining:\n",
    "                allocations[i] = min((waterfilling_sorted(new_sorted_list, bundle_remaining))[index],demands_realized[i])\n",
    "            else:\n",
    "                allocations[i] = potential_alloc\n",
    "        else:\n",
    "            allocations[i] = bundle_remaining\n",
    "        bundle_remaining -= allocations[i]\n",
    "    return allocations\n",
    "    "
   ]
  },
  {
   "cell_type": "code",
   "execution_count": 16,
   "metadata": {},
   "outputs": [],
   "source": [
    "## O(n^2) version of online algorithm that needs waterfilling evaluated multiple times and budget under-estimated at first\n",
    "def waterfilling_dynamic_budget_pess(demands_predicted, demands_realized, b):\n",
    "    n = np.size(demands_predicted)\n",
    "    sorted_demands = np.sort(demands_predicted)\n",
    "    allocations = np.zeros(n)\n",
    "    bundle_remaining = b\n",
    "    for i in range(n):\n",
    "        sorted_demands = delete_sorted(sorted_demands, demands_predicted[i])\n",
    "        new_sorted_list,index = insert_sorted(sorted_demands,demands_realized[i])\n",
    "        if i<n-1:\n",
    "            allocations[i] = min((waterfilling_sorted(new_sorted_list, bundle_remaining-10*(n-i)/n))[index],demands_realized[i])\n",
    "        else:\n",
    "            allocations[i] = bundle_remaining\n",
    "        bundle_remaining -= allocations[i]\n",
    "    return allocations\n",
    "    "
   ]
  },
  {
   "cell_type": "code",
   "execution_count": 1,
   "metadata": {},
   "outputs": [],
   "source": [
    "## budget underestimated at first, and overestimated at end.\n",
    "def waterfilling_weights_budget_adjust(weights, sorted_distribution, demands_realized, budget,factor_pess, factor_opt, turn):\n",
    "    n = np.size(demands_realized)\n",
    "    distribution_size = np.size(sorted_distribution)\n",
    "    distribution_weighted = weights*sorted_distribution\n",
    "    allocations = np.zeros(n)\n",
    "    budget_remaining = budget\n",
    "    turning_point = int(turn*n)\n",
    "    for i in range(turning_point):\n",
    "        new_sorted_list,index = insert_sorted(sorted_distribution,demands_realized[i])\n",
    "        if i<n-1 :\n",
    "            if factor*(n-i-1)/n<budget_remaining:\n",
    "                allocations[i] = min((waterfilling_sorted_weights(new_sorted_list, weights,budget_remaining-factor_pess*(n-i-1)/n,index,n-i-1))[index],demands_realized[i])\n",
    "            else:\n",
    "                allocations[i] = min((waterfilling_sorted_weights(new_sorted_list, weights,budget_remaining,index,n-i-1))[index],demands_realized[i])\n",
    "        else:\n",
    "            allocations[i] = budget_remaining\n",
    "        budget_remaining -= allocations[i]\n",
    "        \n",
    "    for i in range(turning_point,n):\n",
    "        new_sorted_list,index = insert_sorted(sorted_distribution,demands_realized[i])\n",
    "        if i<n-1 :\n",
    "            potential_alloc = min((waterfilling_sorted_weights(new_sorted_list, weights,budget_remaining+factor_opt*(n-i-1)/n,index,n-i-1))[index],demands_realized[i])\n",
    "            if potential_alloc>=budget_remaining:\n",
    "                allocations[i] = min((waterfilling_sorted(new_sorted_list, budget_remaining))[index],demands_realized[i])\n",
    "            else:\n",
    "                allocations[i] = potential_alloc\n",
    "        else:\n",
    "            allocations[i] = budget_remaining\n",
    "        budget_remaining -= allocations[i]\n",
    "    return allocations"
   ]
  },
  {
   "cell_type": "code",
   "execution_count": 17,
   "metadata": {},
   "outputs": [],
   "source": [
    "## Tests \n",
    "assert list(waterfilling_online_2(np.zeros(0), np.zeros(0), 5)) == []\n",
    "assert list(np.around(waterfilling_online_2(np.array([1,2,3,4]), np.array([5,5,5,5]), 11),2)) == [3,2.67,2.67,2.67]\n",
    "assert list(waterfilling_online_2(np.array([4,5,3,6]), np.array([2,1,8,6]), 15)) == [2,1,6,6]\n",
    "assert list(waterfilling_online_2(np.array([4,5,3,6]), np.array([9,10,2,1]), 15)) == [4,4,2,5]\n",
    "\n",
    "assert list(waterfilling_dynamic(np.zeros(0), np.zeros(0), 5)) == []\n",
    "assert list(np.around(waterfilling_dynamic(np.array([1,2,3,4]), np.array([5,5,5,5]), 11),2)) == [3,2.67,2.67,2.67]\n",
    "assert list(waterfilling_dynamic(np.array([4,5,3,6]), np.array([2,1,8,6]), 15)) == [2,1,6,6]\n",
    "assert list(waterfilling_dynamic(np.array([4,5,3,6]), np.array([9,10,2,1]), 15)) == [4,4,2,5]\n",
    "assert list(waterfilling_dynamic(np.array([4,5,3,6]), np.array([9,10,2,1]), 30)) == [9,10,2,9]"
   ]
  },
  {
   "cell_type": "code",
   "execution_count": 62,
   "metadata": {},
   "outputs": [],
   "source": [
    "## Waterfilling using weighted bars\n",
    "def waterfilling_weights(weights, sorted_distribution, demands_realized, budget):\n",
    "    n = np.size(demands_realized)\n",
    "    distribution_size = np.size(sorted_distribution)\n",
    "    distribution_weighted = weights*sorted_distribution\n",
    "    allocations = np.zeros(n)\n",
    "    budget_remaining = budget\n",
    "    for i in range(n):\n",
    "        new_sorted_list,index = insert_sorted(sorted_distribution,demands_realized[i])\n",
    "        if i<n-1 :\n",
    "            allocations[i] = min((waterfilling_sorted_weights(new_sorted_list, weights,budget_remaining,index,n-i-1))[index],demands_realized[i])\n",
    "        else:\n",
    "            allocations[i] = budget_remaining\n",
    "        budget_remaining -= allocations[i]\n",
    "    return allocations\n",
    "    "
   ]
  },
  {
   "cell_type": "code",
   "execution_count": 84,
   "metadata": {},
   "outputs": [],
   "source": [
    "## Tests \n",
    "assert list(waterfilling_weights(np.array([0.5,0.5]), np.array([1,2]),np.zeros(0), 0)) == []\n",
    "assert list(np.around(waterfilling_weights(np.array([0.5,0.5]), np.array([1,2]), np.array([2,1]), 3),2)) == [1.67,1.33]\n",
    "assert list(waterfilling_weights(np.array([0.5,0.5]), np.array([1,2]),np.array([2,1,2]), 5)) == [2,1,2]\n",
    "assert list(waterfilling_weights(np.array([0.5,0.5]), np.array([1,2]),np.array([2,1,1]), 4)) == [1.5,1,1.5]\n",
    "assert list(waterfilling_weights(np.array([0.5,0.5]), np.array([1,2]),np.array([2,1,2,1,2]), 8)) == [2,1,2,1,2]\n",
    "assert list(np.around(waterfilling_weights(np.array([0.5,0.5]), np.array([1,2]),np.array([2,2,1,1,2]), 8),1)) == [2,1.8,1,1,2.2]\n",
    "assert list(np.around(waterfilling_weights(np.array([0.5,0.5]), np.array([1,2]),np.array([2,2,1,1,2]), 6),1)) == [1.3,1.3,1,1,1.4]\n",
    "assert list(np.around(waterfilling_weights(np.array([0.5,0.5]), np.array([1,2]),np.array([2,2,1,1,2]), 10),2)) == [2,2,1,1,4]\n"
   ]
  },
  {
   "cell_type": "code",
   "execution_count": null,
   "metadata": {},
   "outputs": [],
   "source": [
    "## Dynamic waterfilling algorithm that is more optimistic about town it is currently visiting than future towns\n",
    "def waterfilling_optimistic(demands_predicted, demands_realized, b):\n",
    "    n = np.size(demands_predicted)\n",
    "    sorted_demands = np.sort(demands_predicted)\n",
    "    allocations = np.zeros(n)\n",
    "    bundle_remaining = b\n",
    "    for i in range(n):\n",
    "        sorted_demands = delete_sorted(sorted_demands-(n-i-1)/np.sqrt(n), demands_predicted[i])\n",
    "        new_sorted_list,index = insert_sorted(sorted_demands,demands_realized[i])\n",
    "        allocations[i] = (waterfilling_sorted(new_sorted_list, bundle_remaining))[index]\n",
    "        bundle_remaining -= allocations[i]\n",
    "    return allocations"
   ]
  },
  {
   "cell_type": "code",
   "execution_count": null,
   "metadata": {},
   "outputs": [],
   "source": [
    "## Dynamic waterfilling algorithm that is more pessimistic about town it is currently visiting than future towns\n",
    "def waterfilling_pessimistic(demands_predicted, demands_realized, b):\n",
    "    n = np.size(demands_predicted)\n",
    "    sorted_demands = np.sort(demands_predicted)\n",
    "    allocations = np.zeros(n)\n",
    "    bundle_remaining = b\n",
    "    for i in range(n):\n",
    "        sorted_demands = delete_sorted(sorted_demands+(n-i-1)/np.sqrt(n), demands_predicted[i])\n",
    "        new_sorted_list,index = insert_sorted(sorted_demands,demands_realized[i])\n",
    "        allocations[i] = (waterfilling_sorted(new_sorted_list, bundle_remaining))[index]\n",
    "        bundle_remaining -= allocations[i]\n",
    "    return allocations"
   ]
  },
  {
   "cell_type": "code",
   "execution_count": 12,
   "metadata": {},
   "outputs": [],
   "source": [
    "def waterfilling_online_3(demands_predicted, demands_realized, b):\n",
    "    n = np.size(demands_predicted)\n",
    "    allocations = np.zeros(n)\n",
    "    bundle_remaining = b\n",
    "    for i in range(n):\n",
    "        future_allocations = waterfilling(np.append(np.Inf,demands_predicted[i+1:]), bundle_remaining)\n",
    "        if future_allocations[0]>demands_realized[i] and i!=n-1:\n",
    "            allocations[i] = demands_realized[i]\n",
    "        else:\n",
    "            allocations[i] = future_allocations[0]\n",
    "        bundle_remaining -= allocations[i]\n",
    "    return allocations"
   ]
  },
  {
   "cell_type": "code",
   "execution_count": 13,
   "metadata": {},
   "outputs": [],
   "source": [
    "## Online Water-filling algorithm where each agent is assigned infinite demand while finding optimal solution and allocation is readjusted\n",
    "def waterfilling_online_3(demands_predicted, demands_realized, b):\n",
    "    n = np.size(demands_predicted)\n",
    "    allocations = np.zeros(n)\n",
    "    bundle_remaining = b\n",
    "    for i in range(n):\n",
    "        future_allocations = waterfilling(np.append(np.Inf,demands_predicted[i+1:]), bundle_remaining)\n",
    "        if future_allocations[0]>demands_realized[i] and i!=n-1:\n",
    "            allocations[i] = demands_realized[i]\n",
    "        else:\n",
    "            allocations[i] = future_allocations[0]\n",
    "        bundle_remaining -= allocations[i]\n",
    "    return allocations"
   ]
  },
  {
   "cell_type": "code",
   "execution_count": 14,
   "metadata": {},
   "outputs": [
    {
     "name": "stdout",
     "output_type": "stream",
     "text": [
      "3.0\n",
      "2.666666666666667\n",
      "2.6666666666666665\n",
      "2.6666666666666665\n",
      "2.0\n",
      "1.0\n",
      "6.0\n",
      "6.0\n",
      "4.0\n",
      "4.0\n",
      "2.0\n",
      "5.0\n"
     ]
    }
   ],
   "source": [
    "## Tests \n",
    "assert list(waterfilling_online_3(np.zeros(0), np.zeros(0), 5)) == []\n",
    "assert list(np.around(waterfilling_online_3(np.array([1,2,3,4]), np.array([5,5,5,5]), 11),2)) == [3,2.67,2.67,2.67]\n",
    "assert list(waterfilling_online_3(np.array([4,5,3,6]), np.array([2,1,8,6]), 15)) == [2,1,6,6]\n",
    "assert list(waterfilling_online_3(np.array([4,5,3,6]), np.array([9,10,2,1]), 15)) == [4,4,2,5]"
   ]
  },
  {
   "cell_type": "markdown",
   "metadata": {},
   "source": [
    "## Objective Functions"
   ]
  },
  {
   "cell_type": "code",
   "execution_count": 15,
   "metadata": {},
   "outputs": [],
   "source": [
    "## Calculate log of Nash welfare for objective function\n",
    "def objective_nash_log(demands, allocation):\n",
    "    welfare_sum = 0\n",
    "    for i in range(np.size(demands)):\n",
    "        welfare_sum += np.log(min(1,allocation[i]/demands[i]))\n",
    "    return welfare_sum"
   ]
  },
  {
   "cell_type": "code",
   "execution_count": null,
   "metadata": {},
   "outputs": [],
   "source": [
    "## Calculate log of Nash welfare for objective function\n",
    "def objective_nash(demands, allocation):\n",
    "    welfare_product = 1\n",
    "    for i in range(np.size(demands)):\n",
    "        welfare_product = welfare_product*min(1,allocation[i]/demands[i])\n",
    "    return welfare_sum"
   ]
  },
  {
   "cell_type": "markdown",
   "metadata": {},
   "source": [
    "## Experiment"
   ]
  },
  {
   "cell_type": "code",
   "execution_count": 16,
   "metadata": {},
   "outputs": [],
   "source": [
    "def make_demands_uniform_distribution(num_towns, demand_ranges):\n",
    "    demands = np.zeros(num_towns)\n",
    "    expected_demands = np.zeros(num_towns)\n",
    "    for i in range(num_towns):\n",
    "        demands[i] = np.random.uniform(0, demand_ranges[i])\n",
    "        expected_demands[i] = demand_ranges[i]/2\n",
    "    return demands, expected_demands\n"
   ]
  },
  {
   "cell_type": "code",
   "execution_count": 17,
   "metadata": {},
   "outputs": [],
   "source": [
    "def make_demands_exponential_distribution(num_towns, demand_means):\n",
    "    demands = np.zeros(num_towns)\n",
    "    expected_demands = np.zeros(num_towns)\n",
    "    for i in range(num_towns):\n",
    "        demands[i] = np.random.exponential(demand_means[i])\n",
    "        expected_demands[i] = demand_means[i]\n",
    "    return demands, expected_demands\n"
   ]
  }
 ],
 "metadata": {
  "kernelspec": {
   "display_name": "Python 3",
   "language": "python",
   "name": "python3"
  },
  "language_info": {
   "codemirror_mode": {
    "name": "ipython",
    "version": 3
   },
   "file_extension": ".py",
   "mimetype": "text/x-python",
   "name": "python",
   "nbconvert_exporter": "python",
   "pygments_lexer": "ipython3",
   "version": "3.8.2"
  }
 },
 "nbformat": 4,
 "nbformat_minor": 2
}
